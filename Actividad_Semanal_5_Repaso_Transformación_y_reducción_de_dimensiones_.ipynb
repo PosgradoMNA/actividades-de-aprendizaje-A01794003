{
  "nbformat": 4,
  "nbformat_minor": 0,
  "metadata": {
    "colab": {
      "provenance": [],
      "collapsed_sections": [],
      "authorship_tag": "ABX9TyNh1Hx8bAfNFTr9ugPmgBd+",
      "include_colab_link": true
    },
    "kernelspec": {
      "name": "python3",
      "display_name": "Python 3"
    },
    "language_info": {
      "name": "python"
    }
  },
  "cells": [
    {
      "cell_type": "markdown",
      "metadata": {
        "id": "view-in-github",
        "colab_type": "text"
      },
      "source": [
        "<a href=\"https://colab.research.google.com/github/PosgradoMNA/actividades-de-aprendizaje-A01794003/blob/main/Actividad_Semanal_5_Repaso_Transformaci%C3%B3n_y_reducci%C3%B3n_de_dimensiones_.ipynb\" target=\"_parent\"><img src=\"https://colab.research.google.com/assets/colab-badge.svg\" alt=\"Open In Colab\"/></a>"
      ]
    },
    {
      "cell_type": "code",
      "execution_count": null,
      "metadata": {
        "id": "C9Zt_bZ9n-np"
      },
      "outputs": [],
      "source": [
        "**\tJuan Villamil\n",
        " A01794003**"
      ]
    },
    {
      "cell_type": "code",
      "source": [],
      "metadata": {
        "id": "TllfDSyXofSa"
      },
      "execution_count": null,
      "outputs": []
    }
  ]
}
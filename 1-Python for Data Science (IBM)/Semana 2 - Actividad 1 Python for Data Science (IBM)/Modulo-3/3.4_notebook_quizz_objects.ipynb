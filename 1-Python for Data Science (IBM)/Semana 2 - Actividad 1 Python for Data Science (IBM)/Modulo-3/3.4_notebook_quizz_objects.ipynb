{
  "metadata": {
    "kernelspec": {
      "name": "python",
      "display_name": "Pyolite",
      "language": "python"
    },
    "language_info": {
      "codemirror_mode": {
        "name": "python",
        "version": 3
      },
      "file_extension": ".py",
      "mimetype": "text/x-python",
      "name": "python",
      "nbconvert_exporter": "python",
      "pygments_lexer": "ipython3",
      "version": "3.8"
    }
  },
  "nbformat_minor": 4,
  "nbformat": 4,
  "cells": [
    {
      "cell_type": "markdown",
      "source": "<center>\n    <img src=\"https://cf-courses-data.s3.us.cloud-object-storage.appdomain.cloud/IBMDeveloperSkillsNetwork-PY0101EN-SkillsNetwork/IDSNlogo.png\" width=\"300\" alt=\"cognitiveclass.ai logo\"  />\n</center>\n",
      "metadata": {}
    },
    {
      "cell_type": "markdown",
      "source": "You will need the class Car for the next exercises. The class Car has four data attributes: make, model, colour and number of owners (owner_number). The method <code> car_info() </code>  prints out the data attributes and the method <code>sell()</code> increments the number of owners by 1.\n",
      "metadata": {}
    },
    {
      "cell_type": "code",
      "source": "class Car(object):\n    def __init__(self,make,model,color):\n        self.make=make;\n        self.model=model;\n        self.color=color;\n        self.owner_number=0 \n    def car_info(self):\n        print(\"make: \",self.make)\n        print(\"model:\", self.model)\n        print(\"color:\",self.color)\n        print(\"number of owners:\",self.owner_number)\n    def sell(self):\n        self.owner_number=self.owner_number+1",
      "metadata": {
        "trusted": true
      },
      "execution_count": 9,
      "outputs": []
    },
    {
      "cell_type": "markdown",
      "source": "<h3> Create a Car Object </h3>\n",
      "metadata": {}
    },
    {
      "cell_type": "markdown",
      "source": "Create a <code> Car </code> object \"my_car\" with the given data attributes:\n",
      "metadata": {}
    },
    {
      "cell_type": "code",
      "source": "make=\"BMW\"\nmodel=\"M3\"\ncolor=\"red\"\nmy_car = Car(make,model,color)",
      "metadata": {
        "trusted": true
      },
      "execution_count": 10,
      "outputs": []
    },
    {
      "cell_type": "markdown",
      "source": "<details><summary>Click here for the solution</summary>\n\n```python\nmy_car = Car(make,model,color)\n    \n```\n\n</details>\n",
      "metadata": {}
    },
    {
      "cell_type": "markdown",
      "source": "<h3> Data Attributes </h3>\n",
      "metadata": {}
    },
    {
      "cell_type": "markdown",
      "source": "Use the method `car_info()` to print out the data attributes.\n",
      "metadata": {}
    },
    {
      "cell_type": "code",
      "source": "my_car.car_info()",
      "metadata": {
        "trusted": true
      },
      "execution_count": 11,
      "outputs": [
        {
          "name": "stdout",
          "text": "make:  BMW\nmodel: M3\ncolor: red\nnumber of owners: 0\n",
          "output_type": "stream"
        }
      ]
    },
    {
      "cell_type": "markdown",
      "source": "<details><summary>Click here for the solution</summary>\n\n```python\nmy_car.car_info()\n    \n```\n\n</details>\n",
      "metadata": {}
    },
    {
      "cell_type": "markdown",
      "source": "<h3> Methods  </h3>\n",
      "metadata": {}
    },
    {
      "cell_type": "markdown",
      "source": "Call the method <code> sell() </code> in the loop, then call the method <code> car_info()</code> again\n",
      "metadata": {}
    },
    {
      "cell_type": "code",
      "source": "  for i in range(5):\n    my_car.sell()\n\nmy_car.car_info()",
      "metadata": {
        "trusted": true
      },
      "execution_count": 12,
      "outputs": [
        {
          "name": "stdout",
          "text": "make:  BMW\nmodel: M3\ncolor: red\nnumber of owners: 5\n",
          "output_type": "stream"
        }
      ]
    },
    {
      "cell_type": "markdown",
      "source": "<details><summary>Click here for the solution</summary>\n\n```python\nfor i in range(5):\n    my_car.sell()\n\nmy_car.car_info()\n    \n```\n\n</details>\n",
      "metadata": {}
    },
    {
      "cell_type": "markdown",
      "source": "<hr>\n\n<h3 align=\"center\"> © IBM Corporation 2020. All rights reserved. <h3/>\n",
      "metadata": {}
    }
  ]
}
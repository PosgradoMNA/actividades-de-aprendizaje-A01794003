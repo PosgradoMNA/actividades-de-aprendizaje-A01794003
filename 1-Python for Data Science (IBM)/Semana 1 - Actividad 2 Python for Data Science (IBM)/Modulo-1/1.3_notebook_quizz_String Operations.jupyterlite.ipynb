{
  "metadata": {
    "kernelspec": {
      "name": "python",
      "display_name": "Pyolite",
      "language": "python"
    },
    "language_info": {
      "codemirror_mode": {
        "name": "python",
        "version": 3
      },
      "file_extension": ".py",
      "mimetype": "text/x-python",
      "name": "python",
      "nbconvert_exporter": "python",
      "pygments_lexer": "ipython3",
      "version": "3.8"
    }
  },
  "nbformat_minor": 4,
  "nbformat": 4,
  "cells": [
    {
      "cell_type": "markdown",
      "source": [
        "<center>\n",
        "    <img src=\"https://cf-courses-data.s3.us.cloud-object-storage.appdomain.cloud/IBMDeveloperSkillsNetwork-PY0101EN-SkillsNetwork/IDSNlogo.png\" width=\"300\" alt=\"cognitiveclass.ai logo\"  />\n",
        "</center>\n"
      ],
      "metadata": {}
    },
    {
      "cell_type": "markdown",
      "source": [
        "<h3>Slicing </h3>\n"
      ],
      "metadata": {}
    },
    {
      "cell_type": "markdown",
      "source": [
        "Use slicing to find the first four elements of the following string:\n"
      ],
      "metadata": {}
    },
    {
      "cell_type": "code",
      "source": "Letters=\"ABCDEFGHIJK\"\nLetters[0:4]",
      "metadata": {
        "trusted": true
      },
      "execution_count": null,
      "outputs": []
    },
    {
      "cell_type": "markdown",
      "source": [
        "<details><summary>Click here for the solution</summary>\n",
        "\n",
        "```python\n",
        "Letters[0:4]\n",
        "```\n",
        "\n",
        "</details>\n"
      ],
      "metadata": {}
    },
    {
      "cell_type": "markdown",
      "source": [
        "<h3>Strides Are Good </h3> \n"
      ],
      "metadata": {}
    },
    {
      "cell_type": "markdown",
      "source": [
        "Use a stride value of 2 on the following string :\n"
      ],
      "metadata": {}
    },
    {
      "cell_type": "code",
      "source": "Good=\"GsoAo+d\"\nGood[::2]",
      "metadata": {
        "trusted": true
      },
      "execution_count": null,
      "outputs": []
    },
    {
      "cell_type": "markdown",
      "source": [
        "<details><summary>Click here for the solution</summary>\n",
        "\n",
        "```python\n",
        "Good[::2]\n",
        "```\n",
        "\n",
        "</details>\n"
      ],
      "metadata": {}
    },
    {
      "cell_type": "markdown",
      "source": [
        "<h3>Converting \"uppercase\" to \"UPPERCASE\" </h3> \n"
      ],
      "metadata": {}
    },
    {
      "cell_type": "markdown",
      "source": [
        "Convert the following string to uppercase using the method <code>upper()</code>:\n"
      ],
      "metadata": {}
    },
    {
      "cell_type": "code",
      "source": "\"uppercase\"\n\"uppercase\".upper()",
      "metadata": {
        "trusted": true
      },
      "execution_count": null,
      "outputs": []
    },
    {
      "cell_type": "markdown",
      "source": [
        "<details><summary>Click here for the solution</summary>\n",
        "\n",
        "```python\n",
        "\"uppercase\".upper()\n",
        "```\n",
        "\n",
        "</details>\n"
      ],
      "metadata": {}
    },
    {
      "cell_type": "markdown",
      "source": [
        "<hr>\n",
        "\n",
        "<h3 align=\"center\"> © IBM Corporation 2020. All rights reserved. <h3/>\n"
      ],
      "metadata": {}
    }
  ]
}
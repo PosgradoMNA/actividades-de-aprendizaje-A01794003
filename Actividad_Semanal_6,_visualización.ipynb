{
  "nbformat": 4,
  "nbformat_minor": 0,
  "metadata": {
    "colab": {
      "provenance": [],
      "collapsed_sections": [],
      "authorship_tag": "ABX9TyMp5a0k4abvF2k7kxuHZeAj",
      "include_colab_link": true
    },
    "kernelspec": {
      "name": "python3",
      "display_name": "Python 3"
    },
    "language_info": {
      "name": "python"
    }
  },
  "cells": [
    {
      "cell_type": "markdown",
      "metadata": {
        "id": "view-in-github",
        "colab_type": "text"
      },
      "source": [
        "<a href=\"https://colab.research.google.com/github/PosgradoMNA/actividades-de-aprendizaje-A01794003/blob/main/Actividad_Semanal_6%2C_visualizaci%C3%B3n.ipynb\" target=\"_parent\"><img src=\"https://colab.research.google.com/assets/colab-badge.svg\" alt=\"Open In Colab\"/></a>"
      ]
    },
    {
      "cell_type": "code",
      "execution_count": null,
      "metadata": {
        "id": "8yxRwmNiLSK0"
      },
      "outputs": [],
      "source": [
        "\n",
        "Actividad Semanal -- 5 Repaso Transformación y reducción de dimensiones\n",
        "\n",
        "Nombre Juan Villamil\n",
        "\n",
        "Matricula:A01794003\n",
        "\n",
        "correo: A01794003@tec.mx\n",
        "\n",
        "Materia: Ciencia y Analítica de Datos.\n",
        "\n",
        "Fecha: 27/10/2022.\n",
        "\n",
        "Profesor titular: María de la Paz Rico Fernández.\n",
        "\n",
        "Profesor tutor: Orlando Figón Cruz."
      ]
    },
    {
      "cell_type": "markdown",
      "source": [
        "Visualización de los datos\n",
        "\n",
        "Considera los siguientes artículos para desarrollar tu actividad:\n",
        "\n",
        "Shanthababu, P. (2021). Effective Data Visualization Techniques in Data Science Using Python. Analytics Vidhya. Recuperado de: https://www.analyticsvidhya.com/blog/2021/08/effective-data-visualization-techniques-in-data-science-using-python/Enlaces a un sitio externo.\n",
        "\n",
        "Rajbangshi, A. (2020). Importance of Data Storytelling in Data Science. Artificial Intelligence in Plain English. Recuperado de: https://ai.plainenglish.io/importance-of-data-storytelling-in-data-science-494f49273027Enlaces a un sitio externo.\n",
        "\n",
        "Das, A. (2020). Data Visualization in Data Science. Towards Data Science. Recuperado de: https://towardsdatascience.com/data-visualization-in-data-science-5681cbdde5bfEnlaces a un sitio externo.\n"
      ],
      "metadata": {
        "id": "UWwNlLmnLpIE"
      }
    },
    {
      "cell_type": "markdown",
      "source": [
        "Nota link\n",
        "\n",
        "\n",
        "\n",
        "Data Set Information:\n",
        "\n",
        "This research aimed at the case of customers default payments in Taiwan and compares the predictive accuracy of probability of default among six data mining methods. From the perspective of risk management, the result of predictive accuracy of the estimated probability of default will be more valuable than the binary result of classification - credible or not credible clients. Because the real probability of default is unknown, this study presented the novel â€œSorting Smoothing Methodâ€ to estimate the real probability of default. With the real probability of default as the response variable (Y), and the predictive probability of default as the independent variable (X), the simple linear regression result (Y = A + BX) shows that the forecasting model produced by artificial neural network has the highest coefficient of determination; its regression intercept (A) is close to zero, and regression coefficient (B) to one. Therefore, among the six data mining techniques, artificial neural network is the only one that can accurately estimate the real probability of default.\n",
        "\n",
        "\n",
        "Attribute Information:\n",
        "\n",
        "This research employed a binary variable, default payment (Yes = 1, No = 0), as the response variable. This study reviewed the literature and used the following 23 variables as explanatory variables: \n",
        "X1: Amount of the given credit (NT dollar): it includes both the individual consumer credit and his/her family (supplementary) credit. \n",
        "X2: Gender (1 = male; 2 = female). \n",
        "X3: Education (1 = graduate school; 2 = university; 3 = high school; 4 = others). \n",
        "X4: Marital status (1 = married; 2 = single; 3 = others). \n",
        "X5: Age (year). \n",
        "X6 - X11: History of past payment. We tracked the past monthly payment records (from April to September, 2005) as follows: X6 = the repayment status in September, 2005; X7 = the repayment status in August, 2005; . . .;X11 = the repayment status in April, 2005. The measurement scale for the repayment status is: -1 = pay duly; 1 = payment delay for one month; 2 = payment delay for two months; . . .; 8 = payment delay for eight months; 9 = payment delay for nine months and above. \n",
        "X12-X17: Amount of bill statement (NT dollar). X12 = amount of bill statement in September, 2005; X13 = amount of bill statement in August, 2005; . . .; X17 = amount of bill statement in April, 2005. \n",
        "X18-X23: Amount of previous payment (NT dollar). X18 = amount paid in September, 2005; X19 = amount paid in August, 2005; . . .;X23 = amount paid in April, 2005. \n",
        "\n",
        "\n",
        "Relevant Papers:\n",
        "\n",
        "Yeh, I. C., & Lien, C. H. (2009). The comparisons of data mining techniques for the predictive accuracy of probability of default of credit card clients. Expert Systems with Applications, 36(2), 2473-2480.\n",
        "\n",
        "\n",
        "\n",
        "Citation Request:\n",
        "\n",
        "Yeh, I. C., & Lien, C. H. (2009). The comparisons of data mining techniques for the predictive accuracy of probability of default of credit card clients. Expert Systems with Applications, 36(2), 2473-2480.\n"
      ],
      "metadata": {
        "id": "k9RESc6HLuqd"
      }
    },
    {
      "cell_type": "markdown",
      "source": [
        "1: Descarga los datosEnlaces a un sitio externo. y carga el dataset en tu libreta. Descripción aquí. "
      ],
      "metadata": {
        "id": "ryXKA72YETcs"
      }
    },
    {
      "cell_type": "markdown",
      "source": [
        "2: Obten la información del DataFrame con los métodos y propiedades: shape, columns, head(), dtypes, info(), isna()"
      ],
      "metadata": {
        "id": "3B5NaZVsEXGh"
      }
    },
    {
      "cell_type": "markdown",
      "source": [
        "3: Limpia los datos eliminando los registros nulos o rellena con la media de la columna"
      ],
      "metadata": {
        "id": "AVNqZtrMEaRe"
      }
    },
    {
      "cell_type": "markdown",
      "source": [
        "4: Calcula la estadística descriptiva con describe() y explica las medidas de tendencia central y dispersión\n"
      ],
      "metadata": {
        "id": "Cfi4j2nHEdLk"
      }
    },
    {
      "cell_type": "markdown",
      "source": [
        "5: Realiza el conteo de las variables categóricas"
      ],
      "metadata": {
        "id": "S0vDLfAHEftO"
      }
    },
    {
      "cell_type": "markdown",
      "source": [
        "6: Escala los datos, si consideras necesario"
      ],
      "metadata": {
        "id": "TCdXlTWZEiK8"
      }
    },
    {
      "cell_type": "markdown",
      "source": [
        "7: Reduce las dimensiones con PCA, si consideras necesario."
      ],
      "metadata": {
        "id": "O4MGTRiFEpk3"
      }
    },
    {
      "cell_type": "markdown",
      "source": [
        "7:1 : Indica la varianza de los datos explicada por cada componente seleccionado. Para actividades de exploración de los datos la varianza > 70%"
      ],
      "metadata": {
        "id": "mWq-4As-ErTG"
      }
    },
    {
      "cell_type": "markdown",
      "source": [
        "7:2: Indica la importancia de las variables en cada componente"
      ],
      "metadata": {
        "id": "m8uW_bPpEv6f"
      }
    },
    {
      "cell_type": "markdown",
      "source": [
        "8: Elabora los histogramas de los atributos para visualizar su distribución"
      ],
      "metadata": {
        "id": "xWDJ5jjjE0jg"
      }
    },
    {
      "cell_type": "markdown",
      "source": [
        "9: Realiza la visualización de los datos usando por lo menos 3 gráficos que consideres adecuados: plot, scatter, jointplot, boxplot, areaplot, pie chart, pairplot, bar chart, etc."
      ],
      "metadata": {
        "id": "fn0k2jj1E3NA"
      }
    },
    {
      "cell_type": "markdown",
      "source": [
        "10: Interpreta y explica cada uno de los gráficos indicando cuál es la información más relevante que podría ayudar en el proceso de toma de decisiones"
      ],
      "metadata": {
        "id": "IYc5z-uCE5jy"
      }
    }
  ]
}
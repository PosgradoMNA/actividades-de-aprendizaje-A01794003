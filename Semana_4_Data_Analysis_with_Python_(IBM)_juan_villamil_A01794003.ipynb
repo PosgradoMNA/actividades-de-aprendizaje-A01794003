{
  "nbformat": 4,
  "nbformat_minor": 0,
  "metadata": {
    "colab": {
      "provenance": [],
      "authorship_tag": "ABX9TyPpzpagpDK2tc26XYoqw8xD",
      "include_colab_link": true
    },
    "kernelspec": {
      "name": "python3",
      "display_name": "Python 3"
    },
    "language_info": {
      "name": "python"
    }
  },
  "cells": [
    {
      "cell_type": "markdown",
      "metadata": {
        "id": "view-in-github",
        "colab_type": "text"
      },
      "source": [
        "<a href=\"https://colab.research.google.com/github/PosgradoMNA/actividades-de-aprendizaje-A01794003/blob/main/Semana_4_Data_Analysis_with_Python_(IBM)_juan_villamil_A01794003.ipynb\" target=\"_parent\"><img src=\"https://colab.research.google.com/assets/colab-badge.svg\" alt=\"Open In Colab\"/></a>"
      ]
    },
    {
      "cell_type": "markdown",
      "source": [
        "Data Analysis with Python\n",
        "\n",
        "Juan Carlos Villamil Rojas\n",
        "Matricula  A01794003"
      ],
      "metadata": {
        "id": "T1yl-mkBN8wI"
      }
    },
    {
      "cell_type": "markdown",
      "source": [],
      "metadata": {
        "id": "QFJ8h-PjMhjg"
      }
    }
  ]
}
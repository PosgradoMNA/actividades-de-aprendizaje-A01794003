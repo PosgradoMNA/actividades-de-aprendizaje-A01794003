{
  "metadata": {
    "kernelspec": {
      "name": "python",
      "display_name": "Pyolite",
      "language": "python"
    },
    "language_info": {
      "codemirror_mode": {
        "name": "python",
        "version": 3
      },
      "file_extension": ".py",
      "mimetype": "text/x-python",
      "name": "python",
      "nbconvert_exporter": "python",
      "pygments_lexer": "ipython3",
      "version": "3.8"
    }
  },
  "nbformat_minor": 4,
  "nbformat": 4,
  "cells": [
    {
      "cell_type": "markdown",
      "source": "<center>\n    <img src=\"https://cf-courses-data.s3.us.cloud-object-storage.appdomain.cloud/IBMDeveloperSkillsNetwork-PY0101EN-SkillsNetwork/IDSNlogo.png\" width=\"300\" alt=\"cognitiveclass.ai logo\"  />\n</center>\n\n# Application Programming Interface\n\nEstimated time needed: **15** minutes\n\n## Objectives\n\nAfter completing this lab you will be able to:\n\n*   Create and Use APIs in Python\n",
      "metadata": {}
    },
    {
      "cell_type": "markdown",
      "source": "### Introduction\n\nAn API lets two pieces of software talk to each other. Just like a function, you don’t have to know how the API works, only its inputs and outputs.  An essential type of API is a REST API that allows you to access resources via the internet. In this lab, we will review the Pandas Library in the context of an API, we will also review a basic REST API\n",
      "metadata": {}
    },
    {
      "cell_type": "markdown",
      "source": "## Table of Contents\n\n<div class=\"alert alert-block alert-info\" style=\"margin-top: 20px\">\n<li><a href=\"https://#ref0\">Pandas is an API</a></li>\n<li><a href=\"https://#ref1\">REST APIs Basics  </a></li>\n<li><a href=\"https://#ref2\">Quiz on Tuples</a></li>\n\n</div>\n\n<hr>\n",
      "metadata": {}
    },
    {
      "cell_type": "code",
      "source": "# Uncomment if running locally, else let the following code run\n# !pip install nba_api\n\nimport piplite\nawait piplite.install(['nba_api'])",
      "metadata": {
        "jupyter": {
          "outputs_hidden": false
        },
        "collapsed": false,
        "trusted": true
      },
      "execution_count": 1,
      "outputs": []
    },
    {
      "cell_type": "markdown",
      "source": "<h2 id=\"PandasAPI\">Pandas is an API </h2>\n",
      "metadata": {}
    },
    {
      "cell_type": "markdown",
      "source": "You will use this function in the lab:\n",
      "metadata": {}
    },
    {
      "cell_type": "code",
      "source": "def one_dict(list_dict):\n    keys=list_dict[0].keys()\n    out_dict={key:[] for key in keys}\n    for dict_ in list_dict:\n        for key, value in dict_.items():\n            out_dict[key].append(value)\n    return out_dict    ",
      "metadata": {
        "jupyter": {
          "outputs_hidden": false
        },
        "collapsed": false,
        "trusted": true
      },
      "execution_count": 2,
      "outputs": []
    },
    {
      "cell_type": "markdown",
      "source": "<h2 id=\"PandasAPI\">Pandas is an API </h2>\n",
      "metadata": {}
    },
    {
      "cell_type": "markdown",
      "source": "Pandas is actually set of software components , much of  which is not even written in Python.\n",
      "metadata": {}
    },
    {
      "cell_type": "code",
      "source": "import pandas as pd\nimport matplotlib.pyplot as plt",
      "metadata": {
        "jupyter": {
          "outputs_hidden": false
        },
        "collapsed": false,
        "trusted": true
      },
      "execution_count": 3,
      "outputs": []
    },
    {
      "cell_type": "markdown",
      "source": "You create a dictionary, this is just data.\n",
      "metadata": {}
    },
    {
      "cell_type": "code",
      "source": "dict_={'a':[11,21,31],'b':[12,22,32]}",
      "metadata": {
        "jupyter": {
          "outputs_hidden": false
        },
        "collapsed": false,
        "trusted": true
      },
      "execution_count": 4,
      "outputs": []
    },
    {
      "cell_type": "markdown",
      "source": "When you create a Pandas object with the Dataframe constructor, in API lingo this is an \"instance\". The data in the dictionary is passed along to the pandas API. You then use the dataframe to communicate with the API.\n",
      "metadata": {}
    },
    {
      "cell_type": "code",
      "source": "df=pd.DataFrame(dict_)\ntype(df)",
      "metadata": {
        "jupyter": {
          "outputs_hidden": false
        },
        "collapsed": false,
        "trusted": true
      },
      "execution_count": 5,
      "outputs": [
        {
          "execution_count": 5,
          "output_type": "execute_result",
          "data": {
            "text/plain": "pandas.core.frame.DataFrame"
          },
          "metadata": {}
        }
      ]
    },
    {
      "cell_type": "markdown",
      "source": "<img src = \"https://cf-courses-data.s3.us.cloud-object-storage.appdomain.cloud/IBMDeveloperSkillsNetwork-PY0101EN-SkillsNetwork/labs/Module%205/images/pandas_api.png\" width = 800, align = \"center\" alt=\"logistic regression block diagram\" />\n",
      "metadata": {}
    },
    {
      "cell_type": "markdown",
      "source": "When you call the method `head` the dataframe communicates with the API displaying the first few rows of the dataframe.\n",
      "metadata": {}
    },
    {
      "cell_type": "code",
      "source": "df.head()",
      "metadata": {
        "jupyter": {
          "outputs_hidden": false
        },
        "collapsed": false,
        "trusted": true
      },
      "execution_count": 6,
      "outputs": [
        {
          "execution_count": 6,
          "output_type": "execute_result",
          "data": {
            "text/plain": "    a   b\n0  11  12\n1  21  22\n2  31  32",
            "text/html": "<div>\n<style scoped>\n    .dataframe tbody tr th:only-of-type {\n        vertical-align: middle;\n    }\n\n    .dataframe tbody tr th {\n        vertical-align: top;\n    }\n\n    .dataframe thead th {\n        text-align: right;\n    }\n</style>\n<table border=\"1\" class=\"dataframe\">\n  <thead>\n    <tr style=\"text-align: right;\">\n      <th></th>\n      <th>a</th>\n      <th>b</th>\n    </tr>\n  </thead>\n  <tbody>\n    <tr>\n      <th>0</th>\n      <td>11</td>\n      <td>12</td>\n    </tr>\n    <tr>\n      <th>1</th>\n      <td>21</td>\n      <td>22</td>\n    </tr>\n    <tr>\n      <th>2</th>\n      <td>31</td>\n      <td>32</td>\n    </tr>\n  </tbody>\n</table>\n</div>"
          },
          "metadata": {}
        }
      ]
    },
    {
      "cell_type": "markdown",
      "source": "When you call the method `mean`, the API will calculate the mean and return the value.\n",
      "metadata": {}
    },
    {
      "cell_type": "code",
      "source": "df.mean()",
      "metadata": {
        "jupyter": {
          "outputs_hidden": false
        },
        "collapsed": false,
        "trusted": true
      },
      "execution_count": 7,
      "outputs": [
        {
          "execution_count": 7,
          "output_type": "execute_result",
          "data": {
            "text/plain": "a    21.0\nb    22.0\ndtype: float64"
          },
          "metadata": {}
        }
      ]
    },
    {
      "cell_type": "markdown",
      "source": "<h2 id=\"ref1\">REST APIs</h2>\n",
      "metadata": {}
    },
    {
      "cell_type": "markdown",
      "source": "<p>Rest API’s function by sending a <b>request</b>, the request is communicated via HTTP message. The HTTP message usually contains a JSON file. This contains instructions for what operation we would like the service or <b>resource</b> to perform. In a similar manner, API returns a <b>response</b>, via an HTTP message, this response is usually contained within a JSON.</p>\n<p>In this lab, we will use the <a href=https://pypi.org/project/nba-api/?utm_medium=Exinfluencer&utm_source=Exinfluencer&utm_content=000026UJ&utm_term=10006555&utm_id=NA-SkillsNetwork-Channel-SkillsNetworkCoursesIBMDeveloperSkillsNetworkPY0101ENSkillsNetwork19487395-2021-01-01>NBA API</a> to determine how well the Golden State Warriors performed against the Toronto Raptors. We will use the API to determine the number of points the Golden State Warriors won or lost by for each game. So if the value is three, the Golden State Warriors won by three points. Similarly it the  Golden State Warriors lost  by two points the result will be negative two. The API will handle a lot of the details, such a Endpoints and Authentication </p>\n",
      "metadata": {}
    },
    {
      "cell_type": "markdown",
      "source": "It's quite simple to use the nba api to make a request for a specific team. We don't require a JSON, all we require is an id. This information is stored locally in the API. We import the module `teams`\n",
      "metadata": {}
    },
    {
      "cell_type": "code",
      "source": "from nba_api.stats.static import teams\nimport matplotlib.pyplot as plt",
      "metadata": {
        "trusted": true
      },
      "execution_count": 8,
      "outputs": []
    },
    {
      "cell_type": "code",
      "source": "#https://pypi.org/project/nba-api/",
      "metadata": {
        "trusted": true
      },
      "execution_count": 9,
      "outputs": []
    },
    {
      "cell_type": "markdown",
      "source": "The method <code>get_teams()</code> returns a list of dictionaries.\n",
      "metadata": {}
    },
    {
      "cell_type": "code",
      "source": "nba_teams = teams.get_teams()",
      "metadata": {
        "trusted": true
      },
      "execution_count": 10,
      "outputs": []
    },
    {
      "cell_type": "markdown",
      "source": "The dictionary key id has a unique identifier for each team as a value. Let's look at the first three elements of the list:\n",
      "metadata": {}
    },
    {
      "cell_type": "code",
      "source": "nba_teams[0:3]",
      "metadata": {
        "trusted": true
      },
      "execution_count": 11,
      "outputs": [
        {
          "execution_count": 11,
          "output_type": "execute_result",
          "data": {
            "text/plain": "[{'id': 1610612737,\n  'full_name': 'Atlanta Hawks',\n  'abbreviation': 'ATL',\n  'nickname': 'Hawks',\n  'city': 'Atlanta',\n  'state': 'Atlanta',\n  'year_founded': 1949},\n {'id': 1610612738,\n  'full_name': 'Boston Celtics',\n  'abbreviation': 'BOS',\n  'nickname': 'Celtics',\n  'city': 'Boston',\n  'state': 'Massachusetts',\n  'year_founded': 1946},\n {'id': 1610612739,\n  'full_name': 'Cleveland Cavaliers',\n  'abbreviation': 'CLE',\n  'nickname': 'Cavaliers',\n  'city': 'Cleveland',\n  'state': 'Ohio',\n  'year_founded': 1970}]"
          },
          "metadata": {}
        }
      ]
    },
    {
      "cell_type": "markdown",
      "source": "To make things easier, we can convert the dictionary to a table. First, we use the function <code>one dict</code>, to create a dictionary. We use the common keys for each team as the keys, the value is a list; each element of the list corresponds to the values for each team.\nWe then convert the dictionary to a dataframe, each row contains the information for a different team.\n",
      "metadata": {}
    },
    {
      "cell_type": "code",
      "source": "dict_nba_team=one_dict(nba_teams)\ndf_teams=pd.DataFrame(dict_nba_team)\ndf_teams.head()",
      "metadata": {
        "trusted": true
      },
      "execution_count": 12,
      "outputs": [
        {
          "execution_count": 12,
          "output_type": "execute_result",
          "data": {
            "text/plain": "           id             full_name abbreviation   nickname         city  \\\n0  1610612737         Atlanta Hawks          ATL      Hawks      Atlanta   \n1  1610612738        Boston Celtics          BOS    Celtics       Boston   \n2  1610612739   Cleveland Cavaliers          CLE  Cavaliers    Cleveland   \n3  1610612740  New Orleans Pelicans          NOP   Pelicans  New Orleans   \n4  1610612741         Chicago Bulls          CHI      Bulls      Chicago   \n\n           state  year_founded  \n0        Atlanta          1949  \n1  Massachusetts          1946  \n2           Ohio          1970  \n3      Louisiana          2002  \n4       Illinois          1966  ",
            "text/html": "<div>\n<style scoped>\n    .dataframe tbody tr th:only-of-type {\n        vertical-align: middle;\n    }\n\n    .dataframe tbody tr th {\n        vertical-align: top;\n    }\n\n    .dataframe thead th {\n        text-align: right;\n    }\n</style>\n<table border=\"1\" class=\"dataframe\">\n  <thead>\n    <tr style=\"text-align: right;\">\n      <th></th>\n      <th>id</th>\n      <th>full_name</th>\n      <th>abbreviation</th>\n      <th>nickname</th>\n      <th>city</th>\n      <th>state</th>\n      <th>year_founded</th>\n    </tr>\n  </thead>\n  <tbody>\n    <tr>\n      <th>0</th>\n      <td>1610612737</td>\n      <td>Atlanta Hawks</td>\n      <td>ATL</td>\n      <td>Hawks</td>\n      <td>Atlanta</td>\n      <td>Atlanta</td>\n      <td>1949</td>\n    </tr>\n    <tr>\n      <th>1</th>\n      <td>1610612738</td>\n      <td>Boston Celtics</td>\n      <td>BOS</td>\n      <td>Celtics</td>\n      <td>Boston</td>\n      <td>Massachusetts</td>\n      <td>1946</td>\n    </tr>\n    <tr>\n      <th>2</th>\n      <td>1610612739</td>\n      <td>Cleveland Cavaliers</td>\n      <td>CLE</td>\n      <td>Cavaliers</td>\n      <td>Cleveland</td>\n      <td>Ohio</td>\n      <td>1970</td>\n    </tr>\n    <tr>\n      <th>3</th>\n      <td>1610612740</td>\n      <td>New Orleans Pelicans</td>\n      <td>NOP</td>\n      <td>Pelicans</td>\n      <td>New Orleans</td>\n      <td>Louisiana</td>\n      <td>2002</td>\n    </tr>\n    <tr>\n      <th>4</th>\n      <td>1610612741</td>\n      <td>Chicago Bulls</td>\n      <td>CHI</td>\n      <td>Bulls</td>\n      <td>Chicago</td>\n      <td>Illinois</td>\n      <td>1966</td>\n    </tr>\n  </tbody>\n</table>\n</div>"
          },
          "metadata": {}
        }
      ]
    },
    {
      "cell_type": "markdown",
      "source": "Will use the team's nickname to find the unique id, we can see the row that contains the warriors by using the column nickname as follows:\n",
      "metadata": {}
    },
    {
      "cell_type": "code",
      "source": "df_warriors=df_teams[df_teams['nickname']=='Warriors']\ndf_warriors",
      "metadata": {
        "jupyter": {
          "outputs_hidden": false
        },
        "collapsed": false,
        "trusted": true
      },
      "execution_count": 13,
      "outputs": [
        {
          "execution_count": 13,
          "output_type": "execute_result",
          "data": {
            "text/plain": "           id              full_name abbreviation  nickname          city  \\\n7  1610612744  Golden State Warriors          GSW  Warriors  Golden State   \n\n        state  year_founded  \n7  California          1946  ",
            "text/html": "<div>\n<style scoped>\n    .dataframe tbody tr th:only-of-type {\n        vertical-align: middle;\n    }\n\n    .dataframe tbody tr th {\n        vertical-align: top;\n    }\n\n    .dataframe thead th {\n        text-align: right;\n    }\n</style>\n<table border=\"1\" class=\"dataframe\">\n  <thead>\n    <tr style=\"text-align: right;\">\n      <th></th>\n      <th>id</th>\n      <th>full_name</th>\n      <th>abbreviation</th>\n      <th>nickname</th>\n      <th>city</th>\n      <th>state</th>\n      <th>year_founded</th>\n    </tr>\n  </thead>\n  <tbody>\n    <tr>\n      <th>7</th>\n      <td>1610612744</td>\n      <td>Golden State Warriors</td>\n      <td>GSW</td>\n      <td>Warriors</td>\n      <td>Golden State</td>\n      <td>California</td>\n      <td>1946</td>\n    </tr>\n  </tbody>\n</table>\n</div>"
          },
          "metadata": {}
        }
      ]
    },
    {
      "cell_type": "markdown",
      "source": "we can use the following line of code to access the first column of the dataframe:\n",
      "metadata": {}
    },
    {
      "cell_type": "code",
      "source": "id_warriors=df_warriors[['id']].values[0][0]\n# we now have an integer that can be used to request the Warriors information \nid_warriors",
      "metadata": {
        "jupyter": {
          "outputs_hidden": false
        },
        "collapsed": false,
        "trusted": true
      },
      "execution_count": 14,
      "outputs": [
        {
          "execution_count": 14,
          "output_type": "execute_result",
          "data": {
            "text/plain": "1610612744"
          },
          "metadata": {}
        }
      ]
    },
    {
      "cell_type": "markdown",
      "source": "The function \"League Game Finder \" will make an API call, it's in the module <code>stats.endpoints</code>\n",
      "metadata": {}
    },
    {
      "cell_type": "code",
      "source": "from nba_api.stats.endpoints import leaguegamefinder",
      "metadata": {
        "trusted": true
      },
      "execution_count": 15,
      "outputs": []
    },
    {
      "cell_type": "markdown",
      "source": "The parameter <code>team_id_nullable</code> is the unique ID for the warriors. Under the hood, the NBA API is making a HTTP request.\\\nThe information requested is provided and is transmitted via an HTTP response this is assigned to the object <code>gamefinder</code>.\n",
      "metadata": {}
    },
    {
      "cell_type": "code",
      "source": "# Since https://stats.nba.com does not allow api calls from Cloud IPs and Skills Network Labs uses a Cloud IP.\n# The following code is commented out, you can run it on jupyter labs on your own computer.\n# gamefinder = leaguegamefinder.LeagueGameFinder(team_id_nullable=id_warriors)",
      "metadata": {
        "jupyter": {
          "outputs_hidden": false
        },
        "collapsed": false,
        "trusted": true
      },
      "execution_count": 16,
      "outputs": []
    },
    {
      "cell_type": "markdown",
      "source": "we can see the json file by running the following line of code.\n",
      "metadata": {}
    },
    {
      "cell_type": "code",
      "source": "# Since https://stats.nba.com does not allow api calls from Cloud IPs and Skills Network Labs uses a Cloud IP.\n# The following code is commented out, you can run it on jupyter labs on your own computer.\n# gamefinder.get_json()",
      "metadata": {
        "trusted": true
      },
      "execution_count": 17,
      "outputs": []
    },
    {
      "cell_type": "markdown",
      "source": "The game finder object has a method <code>get_data_frames()</code>, that returns a dataframe.  If we view the dataframe, we can see it contains information about all the games the Warriors played.  The <code>PLUS_MINUS</code> column contains information on the score, if the value is negative, the Warriors lost by that many points, if the value is positive, the warriors won by that amount of points. The column <code>MATCHUP</code> has the team the Warriors were playing, GSW stands for Golden State Warriors and TOR means Toronto Raptors. <code>vs</code> signifies it was a home game and the <code>@ </code>symbol means an away game.\n",
      "metadata": {}
    },
    {
      "cell_type": "code",
      "source": "# Since https://stats.nba.com does not allow api calls from Cloud IPs and Skills Network Labs uses a Cloud IP.\n# The following code is comment out, you can run it on jupyter labs on your own computer.\n# games = gamefinder.get_data_frames()[0]\n# games.head()",
      "metadata": {
        "trusted": true
      },
      "execution_count": 18,
      "outputs": []
    },
    {
      "cell_type": "markdown",
      "source": "you can download the dataframe from the API call for Golden State and run the rest like a video.\n",
      "metadata": {}
    },
    {
      "cell_type": "code",
      "source": "from pyodide.http import pyfetch\n\nfilename = \"https://s3-api.us-geo.objectstorage.softlayer.net/cf-courses-data/CognitiveClass/PY0101EN/Chapter%205/Labs/Golden_State.pkl\"\n\nasync def download(url, filename):\n    response = await pyfetch(url)\n    if response.status == 200:\n        with open(filename, \"wb\") as f:\n            f.write(await response.bytes())\n\n\nawait download(filename, \"Golden_State.pkl\")\n\n# ! wget https://s3-api.us-geo.objectstorage.softlayer.net/cf-courses-data/CognitiveClass/PY0101EN/Chapter%205/Labs/Golden_State.pkl",
      "metadata": {
        "trusted": true
      },
      "execution_count": 19,
      "outputs": []
    },
    {
      "cell_type": "code",
      "source": "file_name = \"Golden_State.pkl\"\ngames = pd.read_pickle(file_name)\ngames.head()",
      "metadata": {
        "trusted": true
      },
      "execution_count": 20,
      "outputs": [
        {
          "execution_count": 20,
          "output_type": "execute_result",
          "data": {
            "text/plain": "  SEASON_ID     TEAM_ID TEAM_ABBREVIATION              TEAM_NAME     GAME_ID  \\\n0     22019  1610612744               GSW  Golden State Warriors  1521900066   \n1     22019  1610612744               GSW  Golden State Warriors  1521900058   \n2     22019  1610612744               GSW  Golden State Warriors  1521900039   \n3     22019  1610612744               GSW  Golden State Warriors  1521900020   \n4     22019  1610612744               GSW  Golden State Warriors  1521900007   \n\n    GAME_DATE      MATCHUP WL  MIN  PTS  ...  FT_PCT  OREB  DREB   REB  AST  \\\n0  2019-07-12  GSW vs. LAL  L  200   87  ...   0.800  13.0  29.0  42.0   13   \n1  2019-07-10    GSW @ DEN  W  201   73  ...   0.867   7.0  27.0  34.0   10   \n2  2019-07-08    GSW @ LAL  W  200   88  ...   0.621   8.0  29.0  37.0   21   \n3  2019-07-07  GSW vs. TOR  W  201   80  ...   0.923   6.0  37.0  43.0   18   \n4  2019-07-05  GSW vs. CHA  L  200   85  ...   0.889   8.0  28.0  36.0   19   \n\n    STL  BLK   TOV  PF  PLUS_MINUS  \n0  10.0    3  11.0  21         3.2  \n1  11.0    7  20.0  20        -8.0  \n2  10.0    4  13.0  22         8.0  \n3   8.0    3  20.0  25        10.0  \n4   9.0    3  13.0  15        -8.0  \n\n[5 rows x 28 columns]",
            "text/html": "<div>\n<style scoped>\n    .dataframe tbody tr th:only-of-type {\n        vertical-align: middle;\n    }\n\n    .dataframe tbody tr th {\n        vertical-align: top;\n    }\n\n    .dataframe thead th {\n        text-align: right;\n    }\n</style>\n<table border=\"1\" class=\"dataframe\">\n  <thead>\n    <tr style=\"text-align: right;\">\n      <th></th>\n      <th>SEASON_ID</th>\n      <th>TEAM_ID</th>\n      <th>TEAM_ABBREVIATION</th>\n      <th>TEAM_NAME</th>\n      <th>GAME_ID</th>\n      <th>GAME_DATE</th>\n      <th>MATCHUP</th>\n      <th>WL</th>\n      <th>MIN</th>\n      <th>PTS</th>\n      <th>...</th>\n      <th>FT_PCT</th>\n      <th>OREB</th>\n      <th>DREB</th>\n      <th>REB</th>\n      <th>AST</th>\n      <th>STL</th>\n      <th>BLK</th>\n      <th>TOV</th>\n      <th>PF</th>\n      <th>PLUS_MINUS</th>\n    </tr>\n  </thead>\n  <tbody>\n    <tr>\n      <th>0</th>\n      <td>22019</td>\n      <td>1610612744</td>\n      <td>GSW</td>\n      <td>Golden State Warriors</td>\n      <td>1521900066</td>\n      <td>2019-07-12</td>\n      <td>GSW vs. LAL</td>\n      <td>L</td>\n      <td>200</td>\n      <td>87</td>\n      <td>...</td>\n      <td>0.800</td>\n      <td>13.0</td>\n      <td>29.0</td>\n      <td>42.0</td>\n      <td>13</td>\n      <td>10.0</td>\n      <td>3</td>\n      <td>11.0</td>\n      <td>21</td>\n      <td>3.2</td>\n    </tr>\n    <tr>\n      <th>1</th>\n      <td>22019</td>\n      <td>1610612744</td>\n      <td>GSW</td>\n      <td>Golden State Warriors</td>\n      <td>1521900058</td>\n      <td>2019-07-10</td>\n      <td>GSW @ DEN</td>\n      <td>W</td>\n      <td>201</td>\n      <td>73</td>\n      <td>...</td>\n      <td>0.867</td>\n      <td>7.0</td>\n      <td>27.0</td>\n      <td>34.0</td>\n      <td>10</td>\n      <td>11.0</td>\n      <td>7</td>\n      <td>20.0</td>\n      <td>20</td>\n      <td>-8.0</td>\n    </tr>\n    <tr>\n      <th>2</th>\n      <td>22019</td>\n      <td>1610612744</td>\n      <td>GSW</td>\n      <td>Golden State Warriors</td>\n      <td>1521900039</td>\n      <td>2019-07-08</td>\n      <td>GSW @ LAL</td>\n      <td>W</td>\n      <td>200</td>\n      <td>88</td>\n      <td>...</td>\n      <td>0.621</td>\n      <td>8.0</td>\n      <td>29.0</td>\n      <td>37.0</td>\n      <td>21</td>\n      <td>10.0</td>\n      <td>4</td>\n      <td>13.0</td>\n      <td>22</td>\n      <td>8.0</td>\n    </tr>\n    <tr>\n      <th>3</th>\n      <td>22019</td>\n      <td>1610612744</td>\n      <td>GSW</td>\n      <td>Golden State Warriors</td>\n      <td>1521900020</td>\n      <td>2019-07-07</td>\n      <td>GSW vs. TOR</td>\n      <td>W</td>\n      <td>201</td>\n      <td>80</td>\n      <td>...</td>\n      <td>0.923</td>\n      <td>6.0</td>\n      <td>37.0</td>\n      <td>43.0</td>\n      <td>18</td>\n      <td>8.0</td>\n      <td>3</td>\n      <td>20.0</td>\n      <td>25</td>\n      <td>10.0</td>\n    </tr>\n    <tr>\n      <th>4</th>\n      <td>22019</td>\n      <td>1610612744</td>\n      <td>GSW</td>\n      <td>Golden State Warriors</td>\n      <td>1521900007</td>\n      <td>2019-07-05</td>\n      <td>GSW vs. CHA</td>\n      <td>L</td>\n      <td>200</td>\n      <td>85</td>\n      <td>...</td>\n      <td>0.889</td>\n      <td>8.0</td>\n      <td>28.0</td>\n      <td>36.0</td>\n      <td>19</td>\n      <td>9.0</td>\n      <td>3</td>\n      <td>13.0</td>\n      <td>15</td>\n      <td>-8.0</td>\n    </tr>\n  </tbody>\n</table>\n<p>5 rows × 28 columns</p>\n</div>"
          },
          "metadata": {}
        }
      ]
    },
    {
      "cell_type": "markdown",
      "source": "We can create two dataframes, one for the games that the Warriors faced the raptors at home, and the second for away games.\n",
      "metadata": {}
    },
    {
      "cell_type": "code",
      "source": "games_home=games [games ['MATCHUP']=='GSW vs. TOR']\ngames_away=games [games ['MATCHUP']=='GSW @ TOR']",
      "metadata": {
        "jupyter": {
          "outputs_hidden": false
        },
        "collapsed": false,
        "trusted": true
      },
      "execution_count": 21,
      "outputs": []
    },
    {
      "cell_type": "markdown",
      "source": "We can calculate the mean for the column <code>PLUS_MINUS</code> for the dataframes <code>games_home</code> and <code> games_away</code>:\n",
      "metadata": {}
    },
    {
      "cell_type": "code",
      "source": "games_home.mean()['PLUS_MINUS']",
      "metadata": {
        "jupyter": {
          "outputs_hidden": false
        },
        "collapsed": false,
        "trusted": true
      },
      "execution_count": 22,
      "outputs": [
        {
          "name": "stderr",
          "text": "<ipython-input-22-1a4d8d789457>:1: FutureWarning: Dropping of nuisance columns in DataFrame reductions (with 'numeric_only=None') is deprecated; in a future version this will raise TypeError.  Select only valid columns before calling the reduction.\n  games_home.mean()['PLUS_MINUS']\n",
          "output_type": "stream"
        },
        {
          "execution_count": 22,
          "output_type": "execute_result",
          "data": {
            "text/plain": "3.730769230769231"
          },
          "metadata": {}
        }
      ]
    },
    {
      "cell_type": "code",
      "source": "games_away.mean()['PLUS_MINUS']",
      "metadata": {
        "jupyter": {
          "outputs_hidden": false
        },
        "collapsed": false,
        "trusted": true
      },
      "execution_count": 23,
      "outputs": [
        {
          "name": "stderr",
          "text": "<ipython-input-23-1d9eb37c74c0>:1: FutureWarning: Dropping of nuisance columns in DataFrame reductions (with 'numeric_only=None') is deprecated; in a future version this will raise TypeError.  Select only valid columns before calling the reduction.\n  games_away.mean()['PLUS_MINUS']\n",
          "output_type": "stream"
        },
        {
          "execution_count": 23,
          "output_type": "execute_result",
          "data": {
            "text/plain": "-0.6071428571428571"
          },
          "metadata": {}
        }
      ]
    },
    {
      "cell_type": "markdown",
      "source": "We can plot out the <code>PLUS MINUS</code> column for the dataframes <code>games_home</code> and <code> games_away</code>.\nWe see the warriors played better at home.\n",
      "metadata": {}
    },
    {
      "cell_type": "code",
      "source": "fig, ax = plt.subplots()\n\ngames_away.plot(x='GAME_DATE',y='PLUS_MINUS', ax=ax)\ngames_home.plot(x='GAME_DATE',y='PLUS_MINUS', ax=ax)\nax.legend([\"away\", \"home\"])\nplt.show()",
      "metadata": {
        "jupyter": {
          "outputs_hidden": false
        },
        "collapsed": false,
        "trusted": true
      },
      "execution_count": 24,
      "outputs": [
        {
          "output_type": "display_data",
          "data": {
            "text/plain": "<pyolite.display.Image at 0x4794a08>",
            "image/png": "[encoded data removed]"
          },
          "metadata": {}
        }
      ]
    },
    {
      "cell_type": "markdown",
      "source": "<h2>Quiz</h2>\n",
      "metadata": {}
    },
    {
      "cell_type": "markdown",
      "source": "Calculate the mean for the column <code>PTS</code> for the dataframes <code>games_home</code> and <code> games_away</code>:\n",
      "metadata": {}
    },
    {
      "cell_type": "code",
      "source": "# Write your code below and press Shift+Enter to execute\n",
      "metadata": {
        "trusted": true
      },
      "execution_count": 25,
      "outputs": []
    },
    {
      "cell_type": "markdown",
      "source": "<details><summary>Click here for the solution</summary>\n\n```python\ngames_home.mean()['PTS']\n\ngames_away.mean()['PTS']\n\n```\n\n</details>\n",
      "metadata": {}
    },
    {
      "cell_type": "markdown",
      "source": "## Authors:\n\n[Joseph Santarcangelo](https://www.linkedin.com/in/joseph-s-50398b136/?utm_medium=Exinfluencer&utm_source=Exinfluencer&utm_content=000026UJ&utm_term=10006555&utm_id=NA-SkillsNetwork-Channel-SkillsNetworkCoursesIBMDeveloperSkillsNetworkPY0101ENSkillsNetwork19487395-2021-01-01)\n\nJoseph Santarcangelo has a PhD in Electrical Engineering, his research focused on using machine learning, signal processing, and computer vision to determine how videos impact human cognition. Joseph has been working for IBM since he completed his PhD.\n\n## Change Log\n\n| Date (YYYY-MM-DD) | Version | Changed By    | Change Description                 |\n| ----------------- | ------- | ------------- | ---------------------------------- |\n| 2020-09-09        | 2.1     | Malika Singla | Spell Check                        |\n| 2020-08-26        | 2.0     | Lavanya       | Moved lab to course repo in GitLab |\n|                   |         |               |                                    |\n|                   |         |               |                                    |\n\n<hr/>\n\n## <h3 align=\"center\"> © IBM Corporation 2020. All rights reserved. <h3/>\n",
      "metadata": {}
    }
  ]
}
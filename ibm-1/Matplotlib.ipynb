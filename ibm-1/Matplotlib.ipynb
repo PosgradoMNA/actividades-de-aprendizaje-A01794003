{
  "metadata": {
    "kernelspec": {
      "name": "python",
      "display_name": "Pyolite",
      "language": "python"
    },
    "language_info": {
      "codemirror_mode": {
        "name": "python",
        "version": 3
      },
      "file_extension": ".py",
      "mimetype": "text/x-python",
      "name": "python",
      "nbconvert_exporter": "python",
      "pygments_lexer": "ipython3",
      "version": "3.8"
    }
  },
  "nbformat_minor": 4,
  "nbformat": 4,
  "cells": [
    {
      "cell_type": "markdown",
      "source": "<center>\n    <img src=\"https://s3-api.us-geo.objectstorage.softlayer.net/cf-courses-data/CognitiveClass/Logos/organization_logo/organization_logo.png\" width=\"300\" alt=\"cognitiveclass.ai logo\"  />\n</center>\n",
      "metadata": {}
    },
    {
      "cell_type": "markdown",
      "source": "# Plotting with Matplotlib\n",
      "metadata": {}
    },
    {
      "cell_type": "markdown",
      "source": "Estimated time needed: **10** minutes\n",
      "metadata": {}
    },
    {
      "cell_type": "markdown",
      "source": "## Objectives\n\nAfter completing this lab you will be able to:\n\n*   Import Matplotlib library\n*   Use the magic function to render the visualization inline\n*   Create a simple plot\n",
      "metadata": {}
    },
    {
      "cell_type": "markdown",
      "source": "### Matplotlib mode\n",
      "metadata": {}
    },
    {
      "cell_type": "markdown",
      "source": "To make plots using Matplotlib, you must first enable IPython's matplotlib mode.\n\nTo do this, run the `%matplotlib` magic command to enable plotting in the current Notebook.\n\nThis magic takes an optional argument that specifies which Matplotlib backend should be used.  Most of the time, in the Notebook, you will want to use the `inline` backend, which will embed plots inside the Notebook:\n",
      "metadata": {}
    },
    {
      "cell_type": "markdown",
      "source": "IPython works with the [Matplotlib](http://matplotlib.org/?utm_medium=Exinfluencer&utm_source=Exinfluencer&utm_content=000026UJ&utm_term=10006555&utm_id=NA-SkillsNetwork-Channel-SkillsNetworkCoursesIBMDeveloperSkillsNetworkPY0101ENSkillsNetwork19487395-2021-01-01) plotting library, which integrates Matplotlib with IPython's display system and event loop handling.\n",
      "metadata": {}
    },
    {
      "cell_type": "code",
      "source": "%matplotlib inline",
      "metadata": {
        "trusted": true
      },
      "execution_count": 1,
      "outputs": []
    },
    {
      "cell_type": "markdown",
      "source": "You can also use Matplotlib GUI backends in the Notebook, such as the Qt backend (`%matplotlib qt`). This will use Matplotlib's interactive Qt UI in a floating window to the side of your browser. Of course, this only works if your browser is running on the same system as the Notebook Server.  You can always call the `display` function to paste figures into the Notebook document.\n",
      "metadata": {}
    },
    {
      "cell_type": "markdown",
      "source": "## Making a simple plot\n",
      "metadata": {}
    },
    {
      "cell_type": "markdown",
      "source": "With matplotlib enabled, plotting should just work.\n",
      "metadata": {}
    },
    {
      "cell_type": "code",
      "source": "import matplotlib.pyplot as plt\nimport numpy as np",
      "metadata": {
        "trusted": true
      },
      "execution_count": 2,
      "outputs": []
    },
    {
      "cell_type": "code",
      "source": "x = np.linspace(0, 3*np.pi, 500)\nplt.plot(x, np.sin(x**2))\nplt.title('A simple chirp');",
      "metadata": {
        "trusted": true
      },
      "execution_count": null,
      "outputs": []
    },
    {
      "cell_type": "markdown",
      "source": "These images can be resized by dragging the handle in the lower right corner.  Double clicking will return them to their original size.\n",
      "metadata": {}
    },
    {
      "cell_type": "markdown",
      "source": "One thing to be aware of is that by default, the `Figure` object is cleared at the end of each cell, so you will need to issue all plotting commands for a single figure in a single cell.\n",
      "metadata": {}
    },
    {
      "cell_type": "markdown",
      "source": "## Loading Matplotlib demos with %load\n",
      "metadata": {}
    },
    {
      "cell_type": "markdown",
      "source": "IPython's `%load` magic can be used to load any Matplotlib demo by its URL:\n",
      "metadata": {}
    },
    {
      "cell_type": "code",
      "source": "%load http://matplotlib.sourceforge.net/mpl_examples/pylab_examples/integral_demo.py",
      "metadata": {
        "trusted": true
      },
      "execution_count": null,
      "outputs": []
    },
    {
      "cell_type": "code",
      "source": "#!/usr/bin/env python\n\n# implement the example graphs/integral from pyx\nfrom pylab import *\nfrom matplotlib.patches import Polygon\n\ndef func(x):\n    return (x-3)*(x-5)*(x-7)+85\n\nax = subplot(111)\n\na, b = 2, 9 # integral area\nx = arange(0, 10, 0.01)\ny = func(x)\nplot(x, y, linewidth=1)\n\n# make the shaded region\nix = arange(a, b, 0.01)\niy = func(ix)\nverts = [(a,0)] + list(zip(ix,iy)) + [(b,0)]\npoly = Polygon(verts, facecolor='0.8', edgecolor='k')\nax.add_patch(poly)\n\ntext(0.5 * (a + b), 30,\n     r\"$\\int_a^b f(x)\\mathrm{d}x$\", horizontalalignment='center',\n     fontsize=20)\n\naxis([0,10, 0, 180])\nfigtext(0.9, 0.05, 'x')\nfigtext(0.1, 0.9, 'y')\nax.set_xticks((a,b))\nax.set_xticklabels(('a','b'))\nax.set_yticks([])\nshow()\n",
      "metadata": {
        "trusted": true
      },
      "execution_count": null,
      "outputs": []
    },
    {
      "cell_type": "markdown",
      "source": "### Thank you for completing this lab!\n\n## Author\n\n<a href=\"https://www.linkedin.com/in/joseph-s-50398b136/?utm_medium=Exinfluencer&utm_source=Exinfluencer&utm_content=000026UJ&utm_term=10006555&utm_id=NA-SkillsNetwork-Channel-SkillsNetworkCoursesIBMDeveloperSkillsNetworkPY0101ENSkillsNetwork19487395-2021-01-01\" target=\"_blank\">Joseph Santarcangelo</a>\n\n## Change Log\n\n| Date (YYYY-MM-DD) | Version | Changed By | Change Description                 |\n| ----------------- | ------- | ---------- | ---------------------------------- |\n| 2020-08-27        | 2.0     | Lavanya    | Moved lab to course repo in GitLab |\n|                   |         |            |                                    |\n|                   |         |            |                                    |\n\n## <h3 align=\"center\"> © IBM Corporation 2020. All rights reserved. <h3/>\n",
      "metadata": {}
    },
    {
      "cell_type": "code",
      "source": "",
      "metadata": {},
      "execution_count": null,
      "outputs": []
    },
    {
      "cell_type": "code",
      "source": "",
      "metadata": {},
      "execution_count": null,
      "outputs": []
    }
  ]
}
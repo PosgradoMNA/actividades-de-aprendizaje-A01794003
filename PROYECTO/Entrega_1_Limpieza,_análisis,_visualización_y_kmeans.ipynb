{
  "nbformat": 4,
  "nbformat_minor": 0,
  "metadata": {
    "colab": {
      "provenance": []
    },
    "kernelspec": {
      "name": "python3",
      "display_name": "Python 3"
    },
    "language_info": {
      "name": "python"
    }
  },
  "cells": [
    {
      "cell_type": "markdown",
      "source": [
        "# Tecnológico de Estudios Superiores de Monterrey\n",
        "\n",
        "# Ciencia y analítica de datos\n",
        "\n",
        "# Equipo 57\n",
        "\n",
        "# Integrantes:\n",
        "\n",
        "Juan Carlos Villamil Rojas A0\n",
        "\n",
        "Axel Alejandro Tlatoa Villavicencio A01363351\n"
      ],
      "metadata": {
        "id": "4FqgDw1Dtuds"
      }
    },
    {
      "cell_type": "markdown",
      "source": [
        "# Análisis de aguas subterráneas"
      ],
      "metadata": {
        "id": "cmTTMnJIwHI_"
      }
    },
    {
      "cell_type": "code",
      "execution_count": 308,
      "metadata": {
        "colab": {
          "base_uri": "https://localhost:8080/",
          "height": 0
        },
        "id": "flh-NuiT-UPH",
        "outputId": "c2ea0305-c82a-4c2b-fb86-422865bde15e"
      },
      "outputs": [
        {
          "output_type": "stream",
          "name": "stdout",
          "text": [
            "Looking in indexes: https://pypi.org/simple, https://us-python.pkg.dev/colab-wheels/public/simple/\n",
            "Requirement already satisfied: geopandas in /usr/local/lib/python3.7/dist-packages (0.10.2)\n",
            "Requirement already satisfied: shapely>=1.6 in /usr/local/lib/python3.7/dist-packages (from geopandas) (1.8.5.post1)\n",
            "Requirement already satisfied: pandas>=0.25.0 in /usr/local/lib/python3.7/dist-packages (from geopandas) (1.3.5)\n",
            "Requirement already satisfied: fiona>=1.8 in /usr/local/lib/python3.7/dist-packages (from geopandas) (1.8.22)\n",
            "Requirement already satisfied: pyproj>=2.2.0 in /usr/local/lib/python3.7/dist-packages (from geopandas) (3.2.1)\n",
            "Requirement already satisfied: cligj>=0.5 in /usr/local/lib/python3.7/dist-packages (from fiona>=1.8->geopandas) (0.7.2)\n",
            "Requirement already satisfied: setuptools in /usr/local/lib/python3.7/dist-packages (from fiona>=1.8->geopandas) (57.4.0)\n",
            "Requirement already satisfied: munch in /usr/local/lib/python3.7/dist-packages (from fiona>=1.8->geopandas) (2.5.0)\n",
            "Requirement already satisfied: click>=4.0 in /usr/local/lib/python3.7/dist-packages (from fiona>=1.8->geopandas) (7.1.2)\n",
            "Requirement already satisfied: certifi in /usr/local/lib/python3.7/dist-packages (from fiona>=1.8->geopandas) (2022.9.24)\n",
            "Requirement already satisfied: attrs>=17 in /usr/local/lib/python3.7/dist-packages (from fiona>=1.8->geopandas) (22.1.0)\n",
            "Requirement already satisfied: six>=1.7 in /usr/local/lib/python3.7/dist-packages (from fiona>=1.8->geopandas) (1.15.0)\n",
            "Requirement already satisfied: click-plugins>=1.0 in /usr/local/lib/python3.7/dist-packages (from fiona>=1.8->geopandas) (1.1.1)\n",
            "Requirement already satisfied: python-dateutil>=2.7.3 in /usr/local/lib/python3.7/dist-packages (from pandas>=0.25.0->geopandas) (2.8.2)\n",
            "Requirement already satisfied: numpy>=1.17.3 in /usr/local/lib/python3.7/dist-packages (from pandas>=0.25.0->geopandas) (1.21.6)\n",
            "Requirement already satisfied: pytz>=2017.3 in /usr/local/lib/python3.7/dist-packages (from pandas>=0.25.0->geopandas) (2022.6)\n"
          ]
        }
      ],
      "source": [
        "import numpy as np\n",
        "%matplotlib inline\n",
        "import matplotlib\n",
        "from matplotlib.colors import ListedColormap\n",
        "import matplotlib.pyplot as plt\n",
        "from shapely.geometry import Point\n",
        "import pandas as pd\n",
        "import plotly.express as px\n",
        "import seaborn as sns\n",
        "from sklearn import preprocessing\n",
        "from sklearn.cluster import KMeans\n",
        "from google.colab import drive\n",
        "import warnings\n",
        "import math\n",
        "from sklearn.datasets import make_blobs\n",
        "from yellowbrick.cluster import KElbowVisualizer\n",
        "from sklearn.metrics import classification_report\n",
        "from sklearn.metrics import accuracy_score\n",
        "from sklearn.tree import DecisionTreeClassifier\n",
        "from sklearn.model_selection import train_test_split\n",
        "from sklearn.metrics import confusion_matrix\n",
        "from sklearn.preprocessing import LabelEncoder\n",
        "from shapely.geometry import Point\n",
        "import requests, zipfile\n",
        "from io import BytesIO\n",
        "from sklearn.pipeline import Pipeline\n",
        "from sklearn.impute import SimpleImputer\n",
        "from sklearn.compose import ColumnTransformer, make_column_selector\n",
        "from sklearn.preprocessing import OneHotEncoder, OrdinalEncoder, MinMaxScaler, Normalizer, StandardScaler\n",
        "!pip install geopandas\n",
        "import geopandas as gpd"
      ]
    },
    {
      "cell_type": "code",
      "source": [
        "pd.set_option('display.max_columns', None)"
      ],
      "metadata": {
        "id": "j0gy7DyNjtY1"
      },
      "execution_count": 165,
      "outputs": []
    },
    {
      "cell_type": "code",
      "source": [
        "data = pd.read_csv('https://raw.githubusercontent.com/PosgradoMNA/actividades-de-aprendizaje-A01794003/main/PROYECTO/Datos_de_calidad_del_agua_de_sitios_de_monitoreo_de_aguas_subterraneas_2020.csv', encoding='latin1')\n"
      ],
      "metadata": {
        "id": "0ZbXJQOadAOH"
      },
      "execution_count": 166,
      "outputs": []
    },
    {
      "cell_type": "code",
      "source": [
        "data.head()"
      ],
      "metadata": {
        "colab": {
          "base_uri": "https://localhost:8080/",
          "height": 392
        },
        "id": "j_uXxVTaeWH2",
        "outputId": "3c453885-bdd9-4efe-bcf1-9d6ec4fe92aa"
      },
      "execution_count": 167,
      "outputs": [
        {
          "output_type": "execute_result",
          "data": {
            "text/plain": [
              "       CLAVE                   SITIO           ORGANISMO_DE_CUENCA  \\\n",
              "0     DLAGU6            POZO SAN GIL       LERMA SANTIAGO PACIFICO   \n",
              "1  DLAGU6516  POZO R013 CAÑADA HONDA       LERMA SANTIAGO PACIFICO   \n",
              "2     DLAGU7              POZO COSIO       LERMA SANTIAGO PACIFICO   \n",
              "3     DLAGU9      POZO EL SALITRILLO       LERMA SANTIAGO PACIFICO   \n",
              "4   DLBAJ107      RANCHO EL TECOLOTE  PENINSULA DE BAJA CALIFORNIA   \n",
              "\n",
              "                ESTADO        MUNICIPIO                 ACUIFERO SUBTIPO  \\\n",
              "0       AGUASCALIENTES         ASIENTOS       VALLE DE CHICALOTE    POZO   \n",
              "1       AGUASCALIENTES   AGUASCALIENTES       VALLE DE CHICALOTE    POZO   \n",
              "2       AGUASCALIENTES            COSIO  VALLE DE AGUASCALIENTES    POZO   \n",
              "3       AGUASCALIENTES  RINCON DE ROMOS  VALLE DE AGUASCALIENTES    POZO   \n",
              "4  BAJA CALIFORNIA SUR           LA PAZ             TODOS SANTOS    POZO   \n",
              "\n",
              "    LONGITUD   LATITUD  PERIODO  ALC_mg/L CALIDAD_ALC  CONDUCT_mS/cm  \\\n",
              "0 -102.02210  22.20887     2020   229.990        Alta          940.0   \n",
              "1 -102.20075  21.99958     2020   231.990        Alta          608.0   \n",
              "2 -102.28801  22.36685     2020   204.920        Alta          532.0   \n",
              "3 -102.29449  22.18435     2020   327.000        Alta          686.0   \n",
              "4 -110.24480  23.45138     2020   309.885        Alta         1841.0   \n",
              "\n",
              "          CALIDAD_CONDUC  SDT_mg/L SDT_M_mg/L                CALIDAD_SDT_ra  \\\n",
              "0  Permisible para riego       NaN      603.6            Cultivos sensibles   \n",
              "1       Buena para riego       NaN      445.4          Excelente para riego   \n",
              "2       Buena para riego       NaN        342          Excelente para riego   \n",
              "3       Buena para riego       NaN      478.6          Excelente para riego   \n",
              "4  Permisible para riego       NaN       1179  Cultivos con manejo especial   \n",
              "\n",
              "      CALIDAD_SDT_salin FLUORUROS_mg/L      CALIDAD_FLUO  DUR_mg/L  \\\n",
              "0       Potable - Dulce         0.9766  Potable - Optima   213.732   \n",
              "1       Potable - Dulce         0.9298  Potable - Optima  185.0514   \n",
              "2       Potable - Dulce         1.8045              Alta   120.719   \n",
              "3       Potable - Dulce         1.1229  Potable - Optima   199.879   \n",
              "4  Ligeramente salobres         0.2343              Baja  476.9872   \n",
              "\n",
              "      CALIDAD_DUR COLI_FEC_NMP/100_mL     CALIDAD_COLI_FEC N_NO3_mg/L  \\\n",
              "0  Potable - Dura                <1.1  Potable - Excelente   4.184656   \n",
              "1  Potable - Dura                <1.1  Potable - Excelente    5.75011   \n",
              "2  Potable - Dura                <1.1  Potable - Excelente   1.449803   \n",
              "3  Potable - Dura                <1.1  Potable - Excelente   1.258597   \n",
              "4  Potable - Dura                 291            Aceptable  15.672251   \n",
              "\n",
              "             CALIDAD_N_NO3 AS_TOT_mg/L           CALIDAD_AS CD_TOT_mg/L  \\\n",
              "0      Potable - Excelente      0.0161       Apta como FAAP      <0.003   \n",
              "1  Potable - Buena calidad      0.0134       Apta como FAAP      <0.003   \n",
              "2      Potable - Excelente       0.037    No apta como FAAP      <0.003   \n",
              "3      Potable - Excelente      0.0154       Apta como FAAP      <0.003   \n",
              "4        No apta como FAAP       <0.01  Potable - Excelente      <0.003   \n",
              "\n",
              "            CALIDAD_CD CR_TOT_mg/L           CALIDAD_CR HG_TOT_mg/L  \\\n",
              "0  Potable - Excelente      <0.005  Potable - Excelente     <0.0005   \n",
              "1  Potable - Excelente      <0.005  Potable - Excelente     <0.0005   \n",
              "2  Potable - Excelente      <0.005  Potable - Excelente     <0.0005   \n",
              "3  Potable - Excelente       0.005  Potable - Excelente     <0.0005   \n",
              "4  Potable - Excelente      <0.005  Potable - Excelente     <0.0005   \n",
              "\n",
              "            CALIDAD_HG PB_TOT_mg/L           CALIDAD_PB MN_TOT_mg/L  \\\n",
              "0  Potable - Excelente      <0.005  Potable - Excelente     <0.0015   \n",
              "1  Potable - Excelente      <0.005  Potable - Excelente     <0.0015   \n",
              "2  Potable - Excelente      <0.005  Potable - Excelente     <0.0015   \n",
              "3  Potable - Excelente      <0.005  Potable - Excelente     <0.0015   \n",
              "4  Potable - Excelente      <0.005  Potable - Excelente     <0.0015   \n",
              "\n",
              "            CALIDAD_MN FE_TOT_mg/L           CALIDAD_FE SEMAFORO  \\\n",
              "0  Potable - Excelente      0.0891  Potable - Excelente    Verde   \n",
              "1  Potable - Excelente      <0.025  Potable - Excelente    Verde   \n",
              "2  Potable - Excelente      <0.025  Potable - Excelente     Rojo   \n",
              "3  Potable - Excelente      <0.025  Potable - Excelente    Verde   \n",
              "4  Potable - Excelente      <0.025  Potable - Excelente     Rojo   \n",
              "\n",
              "  CONTAMINANTES CUMPLE_CON_ALC CUMPLE_CON_COND CUMPLE_CON_SDT_ra  \\\n",
              "0           NaN             SI              SI                SI   \n",
              "1           NaN             SI              SI                SI   \n",
              "2      FLUO,AS,             SI              SI                SI   \n",
              "3           NaN             SI              SI                SI   \n",
              "4          NO3,             SI              SI                SI   \n",
              "\n",
              "  CUMPLE_CON_SDT_salin CUMPLE_CON_FLUO CUMPLE_CON_DUR CUMPLE_CON_CF  \\\n",
              "0                   SI              SI             SI            SI   \n",
              "1                   SI              SI             SI            SI   \n",
              "2                   SI              NO             SI            SI   \n",
              "3                   SI              SI             SI            SI   \n",
              "4                   SI              SI             SI            SI   \n",
              "\n",
              "  CUMPLE_CON_NO3 CUMPLE_CON_AS CUMPLE_CON_CD CUMPLE_CON_CR CUMPLE_CON_HG  \\\n",
              "0             SI            SI            SI            SI            SI   \n",
              "1             SI            SI            SI            SI            SI   \n",
              "2             SI            NO            SI            SI            SI   \n",
              "3             SI            SI            SI            SI            SI   \n",
              "4             NO            SI            SI            SI            SI   \n",
              "\n",
              "  CUMPLE_CON_PB CUMPLE_CON_MN CUMPLE_CON_FE  \n",
              "0            SI            SI            SI  \n",
              "1            SI            SI            SI  \n",
              "2            SI            SI            SI  \n",
              "3            SI            SI            SI  \n",
              "4            SI            SI            SI  "
            ],
            "text/html": [
              "\n",
              "  <div id=\"df-4207f548-43a1-4082-a8df-990a72367064\">\n",
              "    <div class=\"colab-df-container\">\n",
              "      <div>\n",
              "<style scoped>\n",
              "    .dataframe tbody tr th:only-of-type {\n",
              "        vertical-align: middle;\n",
              "    }\n",
              "\n",
              "    .dataframe tbody tr th {\n",
              "        vertical-align: top;\n",
              "    }\n",
              "\n",
              "    .dataframe thead th {\n",
              "        text-align: right;\n",
              "    }\n",
              "</style>\n",
              "<table border=\"1\" class=\"dataframe\">\n",
              "  <thead>\n",
              "    <tr style=\"text-align: right;\">\n",
              "      <th></th>\n",
              "      <th>CLAVE</th>\n",
              "      <th>SITIO</th>\n",
              "      <th>ORGANISMO_DE_CUENCA</th>\n",
              "      <th>ESTADO</th>\n",
              "      <th>MUNICIPIO</th>\n",
              "      <th>ACUIFERO</th>\n",
              "      <th>SUBTIPO</th>\n",
              "      <th>LONGITUD</th>\n",
              "      <th>LATITUD</th>\n",
              "      <th>PERIODO</th>\n",
              "      <th>ALC_mg/L</th>\n",
              "      <th>CALIDAD_ALC</th>\n",
              "      <th>CONDUCT_mS/cm</th>\n",
              "      <th>CALIDAD_CONDUC</th>\n",
              "      <th>SDT_mg/L</th>\n",
              "      <th>SDT_M_mg/L</th>\n",
              "      <th>CALIDAD_SDT_ra</th>\n",
              "      <th>CALIDAD_SDT_salin</th>\n",
              "      <th>FLUORUROS_mg/L</th>\n",
              "      <th>CALIDAD_FLUO</th>\n",
              "      <th>DUR_mg/L</th>\n",
              "      <th>CALIDAD_DUR</th>\n",
              "      <th>COLI_FEC_NMP/100_mL</th>\n",
              "      <th>CALIDAD_COLI_FEC</th>\n",
              "      <th>N_NO3_mg/L</th>\n",
              "      <th>CALIDAD_N_NO3</th>\n",
              "      <th>AS_TOT_mg/L</th>\n",
              "      <th>CALIDAD_AS</th>\n",
              "      <th>CD_TOT_mg/L</th>\n",
              "      <th>CALIDAD_CD</th>\n",
              "      <th>CR_TOT_mg/L</th>\n",
              "      <th>CALIDAD_CR</th>\n",
              "      <th>HG_TOT_mg/L</th>\n",
              "      <th>CALIDAD_HG</th>\n",
              "      <th>PB_TOT_mg/L</th>\n",
              "      <th>CALIDAD_PB</th>\n",
              "      <th>MN_TOT_mg/L</th>\n",
              "      <th>CALIDAD_MN</th>\n",
              "      <th>FE_TOT_mg/L</th>\n",
              "      <th>CALIDAD_FE</th>\n",
              "      <th>SEMAFORO</th>\n",
              "      <th>CONTAMINANTES</th>\n",
              "      <th>CUMPLE_CON_ALC</th>\n",
              "      <th>CUMPLE_CON_COND</th>\n",
              "      <th>CUMPLE_CON_SDT_ra</th>\n",
              "      <th>CUMPLE_CON_SDT_salin</th>\n",
              "      <th>CUMPLE_CON_FLUO</th>\n",
              "      <th>CUMPLE_CON_DUR</th>\n",
              "      <th>CUMPLE_CON_CF</th>\n",
              "      <th>CUMPLE_CON_NO3</th>\n",
              "      <th>CUMPLE_CON_AS</th>\n",
              "      <th>CUMPLE_CON_CD</th>\n",
              "      <th>CUMPLE_CON_CR</th>\n",
              "      <th>CUMPLE_CON_HG</th>\n",
              "      <th>CUMPLE_CON_PB</th>\n",
              "      <th>CUMPLE_CON_MN</th>\n",
              "      <th>CUMPLE_CON_FE</th>\n",
              "    </tr>\n",
              "  </thead>\n",
              "  <tbody>\n",
              "    <tr>\n",
              "      <th>0</th>\n",
              "      <td>DLAGU6</td>\n",
              "      <td>POZO SAN GIL</td>\n",
              "      <td>LERMA SANTIAGO PACIFICO</td>\n",
              "      <td>AGUASCALIENTES</td>\n",
              "      <td>ASIENTOS</td>\n",
              "      <td>VALLE DE CHICALOTE</td>\n",
              "      <td>POZO</td>\n",
              "      <td>-102.02210</td>\n",
              "      <td>22.20887</td>\n",
              "      <td>2020</td>\n",
              "      <td>229.990</td>\n",
              "      <td>Alta</td>\n",
              "      <td>940.0</td>\n",
              "      <td>Permisible para riego</td>\n",
              "      <td>NaN</td>\n",
              "      <td>603.6</td>\n",
              "      <td>Cultivos sensibles</td>\n",
              "      <td>Potable - Dulce</td>\n",
              "      <td>0.9766</td>\n",
              "      <td>Potable - Optima</td>\n",
              "      <td>213.732</td>\n",
              "      <td>Potable - Dura</td>\n",
              "      <td>&lt;1.1</td>\n",
              "      <td>Potable - Excelente</td>\n",
              "      <td>4.184656</td>\n",
              "      <td>Potable - Excelente</td>\n",
              "      <td>0.0161</td>\n",
              "      <td>Apta como FAAP</td>\n",
              "      <td>&lt;0.003</td>\n",
              "      <td>Potable - Excelente</td>\n",
              "      <td>&lt;0.005</td>\n",
              "      <td>Potable - Excelente</td>\n",
              "      <td>&lt;0.0005</td>\n",
              "      <td>Potable - Excelente</td>\n",
              "      <td>&lt;0.005</td>\n",
              "      <td>Potable - Excelente</td>\n",
              "      <td>&lt;0.0015</td>\n",
              "      <td>Potable - Excelente</td>\n",
              "      <td>0.0891</td>\n",
              "      <td>Potable - Excelente</td>\n",
              "      <td>Verde</td>\n",
              "      <td>NaN</td>\n",
              "      <td>SI</td>\n",
              "      <td>SI</td>\n",
              "      <td>SI</td>\n",
              "      <td>SI</td>\n",
              "      <td>SI</td>\n",
              "      <td>SI</td>\n",
              "      <td>SI</td>\n",
              "      <td>SI</td>\n",
              "      <td>SI</td>\n",
              "      <td>SI</td>\n",
              "      <td>SI</td>\n",
              "      <td>SI</td>\n",
              "      <td>SI</td>\n",
              "      <td>SI</td>\n",
              "      <td>SI</td>\n",
              "    </tr>\n",
              "    <tr>\n",
              "      <th>1</th>\n",
              "      <td>DLAGU6516</td>\n",
              "      <td>POZO R013 CAÑADA HONDA</td>\n",
              "      <td>LERMA SANTIAGO PACIFICO</td>\n",
              "      <td>AGUASCALIENTES</td>\n",
              "      <td>AGUASCALIENTES</td>\n",
              "      <td>VALLE DE CHICALOTE</td>\n",
              "      <td>POZO</td>\n",
              "      <td>-102.20075</td>\n",
              "      <td>21.99958</td>\n",
              "      <td>2020</td>\n",
              "      <td>231.990</td>\n",
              "      <td>Alta</td>\n",
              "      <td>608.0</td>\n",
              "      <td>Buena para riego</td>\n",
              "      <td>NaN</td>\n",
              "      <td>445.4</td>\n",
              "      <td>Excelente para riego</td>\n",
              "      <td>Potable - Dulce</td>\n",
              "      <td>0.9298</td>\n",
              "      <td>Potable - Optima</td>\n",
              "      <td>185.0514</td>\n",
              "      <td>Potable - Dura</td>\n",
              "      <td>&lt;1.1</td>\n",
              "      <td>Potable - Excelente</td>\n",
              "      <td>5.75011</td>\n",
              "      <td>Potable - Buena calidad</td>\n",
              "      <td>0.0134</td>\n",
              "      <td>Apta como FAAP</td>\n",
              "      <td>&lt;0.003</td>\n",
              "      <td>Potable - Excelente</td>\n",
              "      <td>&lt;0.005</td>\n",
              "      <td>Potable - Excelente</td>\n",
              "      <td>&lt;0.0005</td>\n",
              "      <td>Potable - Excelente</td>\n",
              "      <td>&lt;0.005</td>\n",
              "      <td>Potable - Excelente</td>\n",
              "      <td>&lt;0.0015</td>\n",
              "      <td>Potable - Excelente</td>\n",
              "      <td>&lt;0.025</td>\n",
              "      <td>Potable - Excelente</td>\n",
              "      <td>Verde</td>\n",
              "      <td>NaN</td>\n",
              "      <td>SI</td>\n",
              "      <td>SI</td>\n",
              "      <td>SI</td>\n",
              "      <td>SI</td>\n",
              "      <td>SI</td>\n",
              "      <td>SI</td>\n",
              "      <td>SI</td>\n",
              "      <td>SI</td>\n",
              "      <td>SI</td>\n",
              "      <td>SI</td>\n",
              "      <td>SI</td>\n",
              "      <td>SI</td>\n",
              "      <td>SI</td>\n",
              "      <td>SI</td>\n",
              "      <td>SI</td>\n",
              "    </tr>\n",
              "    <tr>\n",
              "      <th>2</th>\n",
              "      <td>DLAGU7</td>\n",
              "      <td>POZO COSIO</td>\n",
              "      <td>LERMA SANTIAGO PACIFICO</td>\n",
              "      <td>AGUASCALIENTES</td>\n",
              "      <td>COSIO</td>\n",
              "      <td>VALLE DE AGUASCALIENTES</td>\n",
              "      <td>POZO</td>\n",
              "      <td>-102.28801</td>\n",
              "      <td>22.36685</td>\n",
              "      <td>2020</td>\n",
              "      <td>204.920</td>\n",
              "      <td>Alta</td>\n",
              "      <td>532.0</td>\n",
              "      <td>Buena para riego</td>\n",
              "      <td>NaN</td>\n",
              "      <td>342</td>\n",
              "      <td>Excelente para riego</td>\n",
              "      <td>Potable - Dulce</td>\n",
              "      <td>1.8045</td>\n",
              "      <td>Alta</td>\n",
              "      <td>120.719</td>\n",
              "      <td>Potable - Dura</td>\n",
              "      <td>&lt;1.1</td>\n",
              "      <td>Potable - Excelente</td>\n",
              "      <td>1.449803</td>\n",
              "      <td>Potable - Excelente</td>\n",
              "      <td>0.037</td>\n",
              "      <td>No apta como FAAP</td>\n",
              "      <td>&lt;0.003</td>\n",
              "      <td>Potable - Excelente</td>\n",
              "      <td>&lt;0.005</td>\n",
              "      <td>Potable - Excelente</td>\n",
              "      <td>&lt;0.0005</td>\n",
              "      <td>Potable - Excelente</td>\n",
              "      <td>&lt;0.005</td>\n",
              "      <td>Potable - Excelente</td>\n",
              "      <td>&lt;0.0015</td>\n",
              "      <td>Potable - Excelente</td>\n",
              "      <td>&lt;0.025</td>\n",
              "      <td>Potable - Excelente</td>\n",
              "      <td>Rojo</td>\n",
              "      <td>FLUO,AS,</td>\n",
              "      <td>SI</td>\n",
              "      <td>SI</td>\n",
              "      <td>SI</td>\n",
              "      <td>SI</td>\n",
              "      <td>NO</td>\n",
              "      <td>SI</td>\n",
              "      <td>SI</td>\n",
              "      <td>SI</td>\n",
              "      <td>NO</td>\n",
              "      <td>SI</td>\n",
              "      <td>SI</td>\n",
              "      <td>SI</td>\n",
              "      <td>SI</td>\n",
              "      <td>SI</td>\n",
              "      <td>SI</td>\n",
              "    </tr>\n",
              "    <tr>\n",
              "      <th>3</th>\n",
              "      <td>DLAGU9</td>\n",
              "      <td>POZO EL SALITRILLO</td>\n",
              "      <td>LERMA SANTIAGO PACIFICO</td>\n",
              "      <td>AGUASCALIENTES</td>\n",
              "      <td>RINCON DE ROMOS</td>\n",
              "      <td>VALLE DE AGUASCALIENTES</td>\n",
              "      <td>POZO</td>\n",
              "      <td>-102.29449</td>\n",
              "      <td>22.18435</td>\n",
              "      <td>2020</td>\n",
              "      <td>327.000</td>\n",
              "      <td>Alta</td>\n",
              "      <td>686.0</td>\n",
              "      <td>Buena para riego</td>\n",
              "      <td>NaN</td>\n",
              "      <td>478.6</td>\n",
              "      <td>Excelente para riego</td>\n",
              "      <td>Potable - Dulce</td>\n",
              "      <td>1.1229</td>\n",
              "      <td>Potable - Optima</td>\n",
              "      <td>199.879</td>\n",
              "      <td>Potable - Dura</td>\n",
              "      <td>&lt;1.1</td>\n",
              "      <td>Potable - Excelente</td>\n",
              "      <td>1.258597</td>\n",
              "      <td>Potable - Excelente</td>\n",
              "      <td>0.0154</td>\n",
              "      <td>Apta como FAAP</td>\n",
              "      <td>&lt;0.003</td>\n",
              "      <td>Potable - Excelente</td>\n",
              "      <td>0.005</td>\n",
              "      <td>Potable - Excelente</td>\n",
              "      <td>&lt;0.0005</td>\n",
              "      <td>Potable - Excelente</td>\n",
              "      <td>&lt;0.005</td>\n",
              "      <td>Potable - Excelente</td>\n",
              "      <td>&lt;0.0015</td>\n",
              "      <td>Potable - Excelente</td>\n",
              "      <td>&lt;0.025</td>\n",
              "      <td>Potable - Excelente</td>\n",
              "      <td>Verde</td>\n",
              "      <td>NaN</td>\n",
              "      <td>SI</td>\n",
              "      <td>SI</td>\n",
              "      <td>SI</td>\n",
              "      <td>SI</td>\n",
              "      <td>SI</td>\n",
              "      <td>SI</td>\n",
              "      <td>SI</td>\n",
              "      <td>SI</td>\n",
              "      <td>SI</td>\n",
              "      <td>SI</td>\n",
              "      <td>SI</td>\n",
              "      <td>SI</td>\n",
              "      <td>SI</td>\n",
              "      <td>SI</td>\n",
              "      <td>SI</td>\n",
              "    </tr>\n",
              "    <tr>\n",
              "      <th>4</th>\n",
              "      <td>DLBAJ107</td>\n",
              "      <td>RANCHO EL TECOLOTE</td>\n",
              "      <td>PENINSULA DE BAJA CALIFORNIA</td>\n",
              "      <td>BAJA CALIFORNIA SUR</td>\n",
              "      <td>LA PAZ</td>\n",
              "      <td>TODOS SANTOS</td>\n",
              "      <td>POZO</td>\n",
              "      <td>-110.24480</td>\n",
              "      <td>23.45138</td>\n",
              "      <td>2020</td>\n",
              "      <td>309.885</td>\n",
              "      <td>Alta</td>\n",
              "      <td>1841.0</td>\n",
              "      <td>Permisible para riego</td>\n",
              "      <td>NaN</td>\n",
              "      <td>1179</td>\n",
              "      <td>Cultivos con manejo especial</td>\n",
              "      <td>Ligeramente salobres</td>\n",
              "      <td>0.2343</td>\n",
              "      <td>Baja</td>\n",
              "      <td>476.9872</td>\n",
              "      <td>Potable - Dura</td>\n",
              "      <td>291</td>\n",
              "      <td>Aceptable</td>\n",
              "      <td>15.672251</td>\n",
              "      <td>No apta como FAAP</td>\n",
              "      <td>&lt;0.01</td>\n",
              "      <td>Potable - Excelente</td>\n",
              "      <td>&lt;0.003</td>\n",
              "      <td>Potable - Excelente</td>\n",
              "      <td>&lt;0.005</td>\n",
              "      <td>Potable - Excelente</td>\n",
              "      <td>&lt;0.0005</td>\n",
              "      <td>Potable - Excelente</td>\n",
              "      <td>&lt;0.005</td>\n",
              "      <td>Potable - Excelente</td>\n",
              "      <td>&lt;0.0015</td>\n",
              "      <td>Potable - Excelente</td>\n",
              "      <td>&lt;0.025</td>\n",
              "      <td>Potable - Excelente</td>\n",
              "      <td>Rojo</td>\n",
              "      <td>NO3,</td>\n",
              "      <td>SI</td>\n",
              "      <td>SI</td>\n",
              "      <td>SI</td>\n",
              "      <td>SI</td>\n",
              "      <td>SI</td>\n",
              "      <td>SI</td>\n",
              "      <td>SI</td>\n",
              "      <td>NO</td>\n",
              "      <td>SI</td>\n",
              "      <td>SI</td>\n",
              "      <td>SI</td>\n",
              "      <td>SI</td>\n",
              "      <td>SI</td>\n",
              "      <td>SI</td>\n",
              "      <td>SI</td>\n",
              "    </tr>\n",
              "  </tbody>\n",
              "</table>\n",
              "</div>\n",
              "      <button class=\"colab-df-convert\" onclick=\"convertToInteractive('df-4207f548-43a1-4082-a8df-990a72367064')\"\n",
              "              title=\"Convert this dataframe to an interactive table.\"\n",
              "              style=\"display:none;\">\n",
              "        \n",
              "  <svg xmlns=\"http://www.w3.org/2000/svg\" height=\"24px\"viewBox=\"0 0 24 24\"\n",
              "       width=\"24px\">\n",
              "    <path d=\"M0 0h24v24H0V0z\" fill=\"none\"/>\n",
              "    <path d=\"M18.56 5.44l.94 2.06.94-2.06 2.06-.94-2.06-.94-.94-2.06-.94 2.06-2.06.94zm-11 1L8.5 8.5l.94-2.06 2.06-.94-2.06-.94L8.5 2.5l-.94 2.06-2.06.94zm10 10l.94 2.06.94-2.06 2.06-.94-2.06-.94-.94-2.06-.94 2.06-2.06.94z\"/><path d=\"M17.41 7.96l-1.37-1.37c-.4-.4-.92-.59-1.43-.59-.52 0-1.04.2-1.43.59L10.3 9.45l-7.72 7.72c-.78.78-.78 2.05 0 2.83L4 21.41c.39.39.9.59 1.41.59.51 0 1.02-.2 1.41-.59l7.78-7.78 2.81-2.81c.8-.78.8-2.07 0-2.86zM5.41 20L4 18.59l7.72-7.72 1.47 1.35L5.41 20z\"/>\n",
              "  </svg>\n",
              "      </button>\n",
              "      \n",
              "  <style>\n",
              "    .colab-df-container {\n",
              "      display:flex;\n",
              "      flex-wrap:wrap;\n",
              "      gap: 12px;\n",
              "    }\n",
              "\n",
              "    .colab-df-convert {\n",
              "      background-color: #E8F0FE;\n",
              "      border: none;\n",
              "      border-radius: 50%;\n",
              "      cursor: pointer;\n",
              "      display: none;\n",
              "      fill: #1967D2;\n",
              "      height: 32px;\n",
              "      padding: 0 0 0 0;\n",
              "      width: 32px;\n",
              "    }\n",
              "\n",
              "    .colab-df-convert:hover {\n",
              "      background-color: #E2EBFA;\n",
              "      box-shadow: 0px 1px 2px rgba(60, 64, 67, 0.3), 0px 1px 3px 1px rgba(60, 64, 67, 0.15);\n",
              "      fill: #174EA6;\n",
              "    }\n",
              "\n",
              "    [theme=dark] .colab-df-convert {\n",
              "      background-color: #3B4455;\n",
              "      fill: #D2E3FC;\n",
              "    }\n",
              "\n",
              "    [theme=dark] .colab-df-convert:hover {\n",
              "      background-color: #434B5C;\n",
              "      box-shadow: 0px 1px 3px 1px rgba(0, 0, 0, 0.15);\n",
              "      filter: drop-shadow(0px 1px 2px rgba(0, 0, 0, 0.3));\n",
              "      fill: #FFFFFF;\n",
              "    }\n",
              "  </style>\n",
              "\n",
              "      <script>\n",
              "        const buttonEl =\n",
              "          document.querySelector('#df-4207f548-43a1-4082-a8df-990a72367064 button.colab-df-convert');\n",
              "        buttonEl.style.display =\n",
              "          google.colab.kernel.accessAllowed ? 'block' : 'none';\n",
              "\n",
              "        async function convertToInteractive(key) {\n",
              "          const element = document.querySelector('#df-4207f548-43a1-4082-a8df-990a72367064');\n",
              "          const dataTable =\n",
              "            await google.colab.kernel.invokeFunction('convertToInteractive',\n",
              "                                                     [key], {});\n",
              "          if (!dataTable) return;\n",
              "\n",
              "          const docLinkHtml = 'Like what you see? Visit the ' +\n",
              "            '<a target=\"_blank\" href=https://colab.research.google.com/notebooks/data_table.ipynb>data table notebook</a>'\n",
              "            + ' to learn more about interactive tables.';\n",
              "          element.innerHTML = '';\n",
              "          dataTable['output_type'] = 'display_data';\n",
              "          await google.colab.output.renderOutput(dataTable, element);\n",
              "          const docLink = document.createElement('div');\n",
              "          docLink.innerHTML = docLinkHtml;\n",
              "          element.appendChild(docLink);\n",
              "        }\n",
              "      </script>\n",
              "    </div>\n",
              "  </div>\n",
              "  "
            ]
          },
          "metadata": {},
          "execution_count": 167
        }
      ]
    },
    {
      "cell_type": "code",
      "source": [
        "data.describe()"
      ],
      "metadata": {
        "colab": {
          "base_uri": "https://localhost:8080/",
          "height": 300
        },
        "id": "cadfgRc2ed74",
        "outputId": "fc57de50-85cb-488a-e836-edabf7fba151"
      },
      "execution_count": 168,
      "outputs": [
        {
          "output_type": "execute_result",
          "data": {
            "text/plain": [
              "          LONGITUD      LATITUD  PERIODO     ALC_mg/L  CONDUCT_mS/cm  SDT_mg/L\n",
              "count  1068.000000  1068.000000   1068.0  1064.000000    1062.000000       0.0\n",
              "mean   -101.891007    23.163618   2020.0   235.633759    1138.953013       NaN\n",
              "std       6.703263     3.887670      0.0   116.874291    1245.563674       NaN\n",
              "min    -116.664250    14.561150   2020.0    26.640000      50.400000       NaN\n",
              "25%    -105.388865    20.212055   2020.0   164.000000     501.750000       NaN\n",
              "50%    -102.174180    22.617190   2020.0   215.527500     815.000000       NaN\n",
              "75%     -98.974716    25.510285   2020.0   292.710000    1322.750000       NaN\n",
              "max     -86.864120    32.677713   2020.0  1650.000000   18577.000000       NaN"
            ],
            "text/html": [
              "\n",
              "  <div id=\"df-3524426e-fd5e-4da7-a0ba-282e8e79c999\">\n",
              "    <div class=\"colab-df-container\">\n",
              "      <div>\n",
              "<style scoped>\n",
              "    .dataframe tbody tr th:only-of-type {\n",
              "        vertical-align: middle;\n",
              "    }\n",
              "\n",
              "    .dataframe tbody tr th {\n",
              "        vertical-align: top;\n",
              "    }\n",
              "\n",
              "    .dataframe thead th {\n",
              "        text-align: right;\n",
              "    }\n",
              "</style>\n",
              "<table border=\"1\" class=\"dataframe\">\n",
              "  <thead>\n",
              "    <tr style=\"text-align: right;\">\n",
              "      <th></th>\n",
              "      <th>LONGITUD</th>\n",
              "      <th>LATITUD</th>\n",
              "      <th>PERIODO</th>\n",
              "      <th>ALC_mg/L</th>\n",
              "      <th>CONDUCT_mS/cm</th>\n",
              "      <th>SDT_mg/L</th>\n",
              "    </tr>\n",
              "  </thead>\n",
              "  <tbody>\n",
              "    <tr>\n",
              "      <th>count</th>\n",
              "      <td>1068.000000</td>\n",
              "      <td>1068.000000</td>\n",
              "      <td>1068.0</td>\n",
              "      <td>1064.000000</td>\n",
              "      <td>1062.000000</td>\n",
              "      <td>0.0</td>\n",
              "    </tr>\n",
              "    <tr>\n",
              "      <th>mean</th>\n",
              "      <td>-101.891007</td>\n",
              "      <td>23.163618</td>\n",
              "      <td>2020.0</td>\n",
              "      <td>235.633759</td>\n",
              "      <td>1138.953013</td>\n",
              "      <td>NaN</td>\n",
              "    </tr>\n",
              "    <tr>\n",
              "      <th>std</th>\n",
              "      <td>6.703263</td>\n",
              "      <td>3.887670</td>\n",
              "      <td>0.0</td>\n",
              "      <td>116.874291</td>\n",
              "      <td>1245.563674</td>\n",
              "      <td>NaN</td>\n",
              "    </tr>\n",
              "    <tr>\n",
              "      <th>min</th>\n",
              "      <td>-116.664250</td>\n",
              "      <td>14.561150</td>\n",
              "      <td>2020.0</td>\n",
              "      <td>26.640000</td>\n",
              "      <td>50.400000</td>\n",
              "      <td>NaN</td>\n",
              "    </tr>\n",
              "    <tr>\n",
              "      <th>25%</th>\n",
              "      <td>-105.388865</td>\n",
              "      <td>20.212055</td>\n",
              "      <td>2020.0</td>\n",
              "      <td>164.000000</td>\n",
              "      <td>501.750000</td>\n",
              "      <td>NaN</td>\n",
              "    </tr>\n",
              "    <tr>\n",
              "      <th>50%</th>\n",
              "      <td>-102.174180</td>\n",
              "      <td>22.617190</td>\n",
              "      <td>2020.0</td>\n",
              "      <td>215.527500</td>\n",
              "      <td>815.000000</td>\n",
              "      <td>NaN</td>\n",
              "    </tr>\n",
              "    <tr>\n",
              "      <th>75%</th>\n",
              "      <td>-98.974716</td>\n",
              "      <td>25.510285</td>\n",
              "      <td>2020.0</td>\n",
              "      <td>292.710000</td>\n",
              "      <td>1322.750000</td>\n",
              "      <td>NaN</td>\n",
              "    </tr>\n",
              "    <tr>\n",
              "      <th>max</th>\n",
              "      <td>-86.864120</td>\n",
              "      <td>32.677713</td>\n",
              "      <td>2020.0</td>\n",
              "      <td>1650.000000</td>\n",
              "      <td>18577.000000</td>\n",
              "      <td>NaN</td>\n",
              "    </tr>\n",
              "  </tbody>\n",
              "</table>\n",
              "</div>\n",
              "      <button class=\"colab-df-convert\" onclick=\"convertToInteractive('df-3524426e-fd5e-4da7-a0ba-282e8e79c999')\"\n",
              "              title=\"Convert this dataframe to an interactive table.\"\n",
              "              style=\"display:none;\">\n",
              "        \n",
              "  <svg xmlns=\"http://www.w3.org/2000/svg\" height=\"24px\"viewBox=\"0 0 24 24\"\n",
              "       width=\"24px\">\n",
              "    <path d=\"M0 0h24v24H0V0z\" fill=\"none\"/>\n",
              "    <path d=\"M18.56 5.44l.94 2.06.94-2.06 2.06-.94-2.06-.94-.94-2.06-.94 2.06-2.06.94zm-11 1L8.5 8.5l.94-2.06 2.06-.94-2.06-.94L8.5 2.5l-.94 2.06-2.06.94zm10 10l.94 2.06.94-2.06 2.06-.94-2.06-.94-.94-2.06-.94 2.06-2.06.94z\"/><path d=\"M17.41 7.96l-1.37-1.37c-.4-.4-.92-.59-1.43-.59-.52 0-1.04.2-1.43.59L10.3 9.45l-7.72 7.72c-.78.78-.78 2.05 0 2.83L4 21.41c.39.39.9.59 1.41.59.51 0 1.02-.2 1.41-.59l7.78-7.78 2.81-2.81c.8-.78.8-2.07 0-2.86zM5.41 20L4 18.59l7.72-7.72 1.47 1.35L5.41 20z\"/>\n",
              "  </svg>\n",
              "      </button>\n",
              "      \n",
              "  <style>\n",
              "    .colab-df-container {\n",
              "      display:flex;\n",
              "      flex-wrap:wrap;\n",
              "      gap: 12px;\n",
              "    }\n",
              "\n",
              "    .colab-df-convert {\n",
              "      background-color: #E8F0FE;\n",
              "      border: none;\n",
              "      border-radius: 50%;\n",
              "      cursor: pointer;\n",
              "      display: none;\n",
              "      fill: #1967D2;\n",
              "      height: 32px;\n",
              "      padding: 0 0 0 0;\n",
              "      width: 32px;\n",
              "    }\n",
              "\n",
              "    .colab-df-convert:hover {\n",
              "      background-color: #E2EBFA;\n",
              "      box-shadow: 0px 1px 2px rgba(60, 64, 67, 0.3), 0px 1px 3px 1px rgba(60, 64, 67, 0.15);\n",
              "      fill: #174EA6;\n",
              "    }\n",
              "\n",
              "    [theme=dark] .colab-df-convert {\n",
              "      background-color: #3B4455;\n",
              "      fill: #D2E3FC;\n",
              "    }\n",
              "\n",
              "    [theme=dark] .colab-df-convert:hover {\n",
              "      background-color: #434B5C;\n",
              "      box-shadow: 0px 1px 3px 1px rgba(0, 0, 0, 0.15);\n",
              "      filter: drop-shadow(0px 1px 2px rgba(0, 0, 0, 0.3));\n",
              "      fill: #FFFFFF;\n",
              "    }\n",
              "  </style>\n",
              "\n",
              "      <script>\n",
              "        const buttonEl =\n",
              "          document.querySelector('#df-3524426e-fd5e-4da7-a0ba-282e8e79c999 button.colab-df-convert');\n",
              "        buttonEl.style.display =\n",
              "          google.colab.kernel.accessAllowed ? 'block' : 'none';\n",
              "\n",
              "        async function convertToInteractive(key) {\n",
              "          const element = document.querySelector('#df-3524426e-fd5e-4da7-a0ba-282e8e79c999');\n",
              "          const dataTable =\n",
              "            await google.colab.kernel.invokeFunction('convertToInteractive',\n",
              "                                                     [key], {});\n",
              "          if (!dataTable) return;\n",
              "\n",
              "          const docLinkHtml = 'Like what you see? Visit the ' +\n",
              "            '<a target=\"_blank\" href=https://colab.research.google.com/notebooks/data_table.ipynb>data table notebook</a>'\n",
              "            + ' to learn more about interactive tables.';\n",
              "          element.innerHTML = '';\n",
              "          dataTable['output_type'] = 'display_data';\n",
              "          await google.colab.output.renderOutput(dataTable, element);\n",
              "          const docLink = document.createElement('div');\n",
              "          docLink.innerHTML = docLinkHtml;\n",
              "          element.appendChild(docLink);\n",
              "        }\n",
              "      </script>\n",
              "    </div>\n",
              "  </div>\n",
              "  "
            ]
          },
          "metadata": {},
          "execution_count": 168
        }
      ]
    },
    {
      "cell_type": "code",
      "source": [
        "data.shape"
      ],
      "metadata": {
        "colab": {
          "base_uri": "https://localhost:8080/",
          "height": 0
        },
        "id": "Z9UCtJbNqdUo",
        "outputId": "bb8cc642-ef0d-4309-e6a6-2b43ebb59781"
      },
      "execution_count": 169,
      "outputs": [
        {
          "output_type": "execute_result",
          "data": {
            "text/plain": [
              "(1068, 57)"
            ]
          },
          "metadata": {},
          "execution_count": 169
        }
      ]
    },
    {
      "cell_type": "code",
      "source": [
        "data.info()"
      ],
      "metadata": {
        "colab": {
          "base_uri": "https://localhost:8080/",
          "height": 0
        },
        "id": "o70TDNtkqizP",
        "outputId": "458eb378-f273-409b-c1e3-733f9adc44ea"
      },
      "execution_count": 170,
      "outputs": [
        {
          "output_type": "stream",
          "name": "stdout",
          "text": [
            "<class 'pandas.core.frame.DataFrame'>\n",
            "RangeIndex: 1068 entries, 0 to 1067\n",
            "Data columns (total 57 columns):\n",
            " #   Column                Non-Null Count  Dtype  \n",
            "---  ------                --------------  -----  \n",
            " 0   CLAVE                 1068 non-null   object \n",
            " 1   SITIO                 1068 non-null   object \n",
            " 2   ORGANISMO_DE_CUENCA   1068 non-null   object \n",
            " 3   ESTADO                1068 non-null   object \n",
            " 4   MUNICIPIO             1068 non-null   object \n",
            " 5   ACUIFERO              1068 non-null   object \n",
            " 6   SUBTIPO               1068 non-null   object \n",
            " 7   LONGITUD              1068 non-null   float64\n",
            " 8   LATITUD               1068 non-null   float64\n",
            " 9   PERIODO               1068 non-null   int64  \n",
            " 10  ALC_mg/L              1064 non-null   float64\n",
            " 11  CALIDAD_ALC           1064 non-null   object \n",
            " 12  CONDUCT_mS/cm         1062 non-null   float64\n",
            " 13  CALIDAD_CONDUC        1062 non-null   object \n",
            " 14  SDT_mg/L              0 non-null      float64\n",
            " 15  SDT_M_mg/L            1066 non-null   object \n",
            " 16  CALIDAD_SDT_ra        1066 non-null   object \n",
            " 17  CALIDAD_SDT_salin     1066 non-null   object \n",
            " 18  FLUORUROS_mg/L        1068 non-null   object \n",
            " 19  CALIDAD_FLUO          1068 non-null   object \n",
            " 20  DUR_mg/L              1067 non-null   object \n",
            " 21  CALIDAD_DUR           1067 non-null   object \n",
            " 22  COLI_FEC_NMP/100_mL   1068 non-null   object \n",
            " 23  CALIDAD_COLI_FEC      1068 non-null   object \n",
            " 24  N_NO3_mg/L            1067 non-null   object \n",
            " 25  CALIDAD_N_NO3         1067 non-null   object \n",
            " 26  AS_TOT_mg/L           1068 non-null   object \n",
            " 27  CALIDAD_AS            1068 non-null   object \n",
            " 28  CD_TOT_mg/L           1068 non-null   object \n",
            " 29  CALIDAD_CD            1068 non-null   object \n",
            " 30  CR_TOT_mg/L           1068 non-null   object \n",
            " 31  CALIDAD_CR            1068 non-null   object \n",
            " 32  HG_TOT_mg/L           1068 non-null   object \n",
            " 33  CALIDAD_HG            1068 non-null   object \n",
            " 34  PB_TOT_mg/L           1068 non-null   object \n",
            " 35  CALIDAD_PB            1068 non-null   object \n",
            " 36  MN_TOT_mg/L           1068 non-null   object \n",
            " 37  CALIDAD_MN            1068 non-null   object \n",
            " 38  FE_TOT_mg/L           1068 non-null   object \n",
            " 39  CALIDAD_FE            1068 non-null   object \n",
            " 40  SEMAFORO              1068 non-null   object \n",
            " 41  CONTAMINANTES         634 non-null    object \n",
            " 42  CUMPLE_CON_ALC        1068 non-null   object \n",
            " 43  CUMPLE_CON_COND       1068 non-null   object \n",
            " 44  CUMPLE_CON_SDT_ra     1068 non-null   object \n",
            " 45  CUMPLE_CON_SDT_salin  1068 non-null   object \n",
            " 46  CUMPLE_CON_FLUO       1068 non-null   object \n",
            " 47  CUMPLE_CON_DUR        1068 non-null   object \n",
            " 48  CUMPLE_CON_CF         1068 non-null   object \n",
            " 49  CUMPLE_CON_NO3        1068 non-null   object \n",
            " 50  CUMPLE_CON_AS         1068 non-null   object \n",
            " 51  CUMPLE_CON_CD         1068 non-null   object \n",
            " 52  CUMPLE_CON_CR         1068 non-null   object \n",
            " 53  CUMPLE_CON_HG         1068 non-null   object \n",
            " 54  CUMPLE_CON_PB         1068 non-null   object \n",
            " 55  CUMPLE_CON_MN         1068 non-null   object \n",
            " 56  CUMPLE_CON_FE         1068 non-null   object \n",
            "dtypes: float64(5), int64(1), object(51)\n",
            "memory usage: 475.7+ KB\n"
          ]
        }
      ]
    },
    {
      "cell_type": "markdown",
      "source": [
        "Existe una gran cantidad de variables de entrada de tipo *objeto* y en menor proporción datos numéricos de tipo *flotante*. La variable de entrada ***SDT_mg/L*** no posee ningún valor relevante, se procede a eliminar la columna:"
      ],
      "metadata": {
        "id": "pw8Xi9WRwPY8"
      }
    },
    {
      "cell_type": "code",
      "source": [
        "data.isna().any()"
      ],
      "metadata": {
        "colab": {
          "base_uri": "https://localhost:8080/",
          "height": 0
        },
        "id": "HdUOdGGXqmIu",
        "outputId": "e20822ce-e919-4ab2-bb17-058f92159bd3"
      },
      "execution_count": 171,
      "outputs": [
        {
          "output_type": "execute_result",
          "data": {
            "text/plain": [
              "CLAVE                   False\n",
              "SITIO                   False\n",
              "ORGANISMO_DE_CUENCA     False\n",
              "ESTADO                  False\n",
              "MUNICIPIO               False\n",
              "ACUIFERO                False\n",
              "SUBTIPO                 False\n",
              "LONGITUD                False\n",
              "LATITUD                 False\n",
              "PERIODO                 False\n",
              "ALC_mg/L                 True\n",
              "CALIDAD_ALC              True\n",
              "CONDUCT_mS/cm            True\n",
              "CALIDAD_CONDUC           True\n",
              "SDT_mg/L                 True\n",
              "SDT_M_mg/L               True\n",
              "CALIDAD_SDT_ra           True\n",
              "CALIDAD_SDT_salin        True\n",
              "FLUORUROS_mg/L          False\n",
              "CALIDAD_FLUO            False\n",
              "DUR_mg/L                 True\n",
              "CALIDAD_DUR              True\n",
              "COLI_FEC_NMP/100_mL     False\n",
              "CALIDAD_COLI_FEC        False\n",
              "N_NO3_mg/L               True\n",
              "CALIDAD_N_NO3            True\n",
              "AS_TOT_mg/L             False\n",
              "CALIDAD_AS              False\n",
              "CD_TOT_mg/L             False\n",
              "CALIDAD_CD              False\n",
              "CR_TOT_mg/L             False\n",
              "CALIDAD_CR              False\n",
              "HG_TOT_mg/L             False\n",
              "CALIDAD_HG              False\n",
              "PB_TOT_mg/L             False\n",
              "CALIDAD_PB              False\n",
              "MN_TOT_mg/L             False\n",
              "CALIDAD_MN              False\n",
              "FE_TOT_mg/L             False\n",
              "CALIDAD_FE              False\n",
              "SEMAFORO                False\n",
              "CONTAMINANTES            True\n",
              "CUMPLE_CON_ALC          False\n",
              "CUMPLE_CON_COND         False\n",
              "CUMPLE_CON_SDT_ra       False\n",
              "CUMPLE_CON_SDT_salin    False\n",
              "CUMPLE_CON_FLUO         False\n",
              "CUMPLE_CON_DUR          False\n",
              "CUMPLE_CON_CF           False\n",
              "CUMPLE_CON_NO3          False\n",
              "CUMPLE_CON_AS           False\n",
              "CUMPLE_CON_CD           False\n",
              "CUMPLE_CON_CR           False\n",
              "CUMPLE_CON_HG           False\n",
              "CUMPLE_CON_PB           False\n",
              "CUMPLE_CON_MN           False\n",
              "CUMPLE_CON_FE           False\n",
              "dtype: bool"
            ]
          },
          "metadata": {},
          "execution_count": 171
        }
      ]
    },
    {
      "cell_type": "code",
      "source": [
        "data.mean()"
      ],
      "metadata": {
        "colab": {
          "base_uri": "https://localhost:8080/",
          "height": 0
        },
        "id": "am9my4WQrBBQ",
        "outputId": "605222b7-3cf8-4f34-8453-807b1a9dd47c"
      },
      "execution_count": 172,
      "outputs": [
        {
          "output_type": "stream",
          "name": "stderr",
          "text": [
            "/usr/local/lib/python3.7/dist-packages/ipykernel_launcher.py:1: FutureWarning: Dropping of nuisance columns in DataFrame reductions (with 'numeric_only=None') is deprecated; in a future version this will raise TypeError.  Select only valid columns before calling the reduction.\n",
            "  \"\"\"Entry point for launching an IPython kernel.\n"
          ]
        },
        {
          "output_type": "execute_result",
          "data": {
            "text/plain": [
              "LONGITUD         -101.891007\n",
              "LATITUD            23.163618\n",
              "PERIODO          2020.000000\n",
              "ALC_mg/L          235.633759\n",
              "CONDUCT_mS/cm    1138.953013\n",
              "SDT_mg/L                 NaN\n",
              "dtype: float64"
            ]
          },
          "metadata": {},
          "execution_count": 172
        }
      ]
    },
    {
      "cell_type": "code",
      "source": [
        "data.columns"
      ],
      "metadata": {
        "colab": {
          "base_uri": "https://localhost:8080/",
          "height": 0
        },
        "id": "gzgbxTZFrFRj",
        "outputId": "81c8508d-e5bc-40cc-9f4b-3a1eac9bd509"
      },
      "execution_count": 173,
      "outputs": [
        {
          "output_type": "execute_result",
          "data": {
            "text/plain": [
              "Index(['CLAVE', 'SITIO', 'ORGANISMO_DE_CUENCA', 'ESTADO', 'MUNICIPIO',\n",
              "       'ACUIFERO', 'SUBTIPO', 'LONGITUD', 'LATITUD', 'PERIODO', 'ALC_mg/L',\n",
              "       'CALIDAD_ALC', 'CONDUCT_mS/cm', 'CALIDAD_CONDUC', 'SDT_mg/L',\n",
              "       'SDT_M_mg/L', 'CALIDAD_SDT_ra', 'CALIDAD_SDT_salin', 'FLUORUROS_mg/L',\n",
              "       'CALIDAD_FLUO', 'DUR_mg/L', 'CALIDAD_DUR', 'COLI_FEC_NMP/100_mL',\n",
              "       'CALIDAD_COLI_FEC', 'N_NO3_mg/L', 'CALIDAD_N_NO3', 'AS_TOT_mg/L',\n",
              "       'CALIDAD_AS', 'CD_TOT_mg/L', 'CALIDAD_CD', 'CR_TOT_mg/L', 'CALIDAD_CR',\n",
              "       'HG_TOT_mg/L', 'CALIDAD_HG', 'PB_TOT_mg/L', 'CALIDAD_PB', 'MN_TOT_mg/L',\n",
              "       'CALIDAD_MN', 'FE_TOT_mg/L', 'CALIDAD_FE', 'SEMAFORO', 'CONTAMINANTES',\n",
              "       'CUMPLE_CON_ALC', 'CUMPLE_CON_COND', 'CUMPLE_CON_SDT_ra',\n",
              "       'CUMPLE_CON_SDT_salin', 'CUMPLE_CON_FLUO', 'CUMPLE_CON_DUR',\n",
              "       'CUMPLE_CON_CF', 'CUMPLE_CON_NO3', 'CUMPLE_CON_AS', 'CUMPLE_CON_CD',\n",
              "       'CUMPLE_CON_CR', 'CUMPLE_CON_HG', 'CUMPLE_CON_PB', 'CUMPLE_CON_MN',\n",
              "       'CUMPLE_CON_FE'],\n",
              "      dtype='object')"
            ]
          },
          "metadata": {},
          "execution_count": 173
        }
      ]
    },
    {
      "cell_type": "code",
      "source": [
        "data.tail()"
      ],
      "metadata": {
        "colab": {
          "base_uri": "https://localhost:8080/",
          "height": 530
        },
        "id": "TxvwShUJrQYq",
        "outputId": "880c8a57-e36b-4b9d-b56f-4965a0e7553f"
      },
      "execution_count": 174,
      "outputs": [
        {
          "output_type": "execute_result",
          "data": {
            "text/plain": [
              "            CLAVE                                     SITIO  \\\n",
              "1063  OCRBR5101M1              L-310 (COMUNIDAD SAN MANUEL)   \n",
              "1064  OCRBR5102M1  L-305 (EJIDO OJO DE AGUA LAS CRUCESITAS)   \n",
              "1065  OCRBR5105M2                HACIENDA MEXIQUITO POZO 01   \n",
              "1066  OCRBR5106M1                     COMUNIDAD LOS POCITOS   \n",
              "1067  OCRBR5109M1                      COMUNIDAD LA REFORMA   \n",
              "\n",
              "     ORGANISMO_DE_CUENCA      ESTADO          MUNICIPIO  \\\n",
              "1063           RIO BRAVO  NUEVO LEON            LINARES   \n",
              "1064           RIO BRAVO  NUEVO LEON            LINARES   \n",
              "1065           RIO BRAVO  NUEVO LEON  CADEREYTA JIMENEZ   \n",
              "1066           RIO BRAVO  NUEVO LEON            GALEANA   \n",
              "1067           RIO BRAVO  NUEVO LEON            GALEANA   \n",
              "\n",
              "                   ACUIFERO SUBTIPO   LONGITUD   LATITUD  PERIODO  ALC_mg/L  \\\n",
              "1063          CITRICOLA SUR    POZO  -99.54191  24.76036     2020   231.045   \n",
              "1064          CITRICOLA SUR    POZO  -99.70099  24.78280     2020   256.000   \n",
              "1065        CITRICOLA NORTE    POZO  -99.82249  25.55197     2020   330.690   \n",
              "1066  NAVIDAD-POTOSI-RAICES    POZO -100.32683  24.80118     2020   193.140   \n",
              "1067  NAVIDAD-POTOSI-RAICES    POZO -100.73302  25.09380     2020   263.070   \n",
              "\n",
              "     CALIDAD_ALC  CONDUCT_mS/cm         CALIDAD_CONDUC  SDT_mg/L SDT_M_mg/L  \\\n",
              "1063        Alta         2350.0      Dudosa para riego       NaN     1545.8   \n",
              "1064        Alta          529.0       Buena para riego       NaN        297   \n",
              "1065        Alta         2600.0      Dudosa para riego       NaN       1873   \n",
              "1066        Alta          873.0  Permisible para riego       NaN   690.6667   \n",
              "1067        Alta          817.0  Permisible para riego       NaN        495   \n",
              "\n",
              "                    CALIDAD_SDT_ra     CALIDAD_SDT_salin FLUORUROS_mg/L  \\\n",
              "1063  Cultivos con manejo especial  Ligeramente salobres           <0.2   \n",
              "1064          Excelente para riego       Potable - Dulce           <0.2   \n",
              "1065  Cultivos con manejo especial  Ligeramente salobres         0.7574   \n",
              "1066            Cultivos sensibles       Potable - Dulce         0.7108   \n",
              "1067          Excelente para riego       Potable - Dulce         0.4002   \n",
              "\n",
              "          CALIDAD_FLUO  DUR_mg/L  \\\n",
              "1063              Baja   752.096   \n",
              "1064              Baja       273   \n",
              "1065  Potable - Optima  660.2126   \n",
              "1066  Potable - Optima   406.368   \n",
              "1067             Media   362.544   \n",
              "\n",
              "                                            CALIDAD_DUR COLI_FEC_NMP/100_mL  \\\n",
              "1063  Muy dura e indeseable usos industrial y domestico                <1.1   \n",
              "1064                                     Potable - Dura                <1.1   \n",
              "1065  Muy dura e indeseable usos industrial y domestico                 620   \n",
              "1066                                     Potable - Dura                <1.1   \n",
              "1067                                     Potable - Dura                <1.1   \n",
              "\n",
              "         CALIDAD_COLI_FEC N_NO3_mg/L        CALIDAD_N_NO3 AS_TOT_mg/L  \\\n",
              "1063  Potable - Excelente  14.615488    No apta como FAAP       <0.01   \n",
              "1064  Potable - Excelente     77.392    No apta como FAAP       <0.01   \n",
              "1065            Aceptable  36.477104    No apta como FAAP       <0.01   \n",
              "1066  Potable - Excelente      <0.02  Potable - Excelente       <0.01   \n",
              "1067  Potable - Excelente   0.811876  Potable - Excelente       <0.01   \n",
              "\n",
              "               CALIDAD_AS CD_TOT_mg/L           CALIDAD_CD CR_TOT_mg/L  \\\n",
              "1063  Potable - Excelente      <0.003  Potable - Excelente      <0.005   \n",
              "1064  Potable - Excelente      <0.003  Potable - Excelente      <0.005   \n",
              "1065  Potable - Excelente      <0.003  Potable - Excelente      <0.005   \n",
              "1066  Potable - Excelente      <0.003  Potable - Excelente      <0.005   \n",
              "1067  Potable - Excelente      <0.003  Potable - Excelente      <0.005   \n",
              "\n",
              "               CALIDAD_CR HG_TOT_mg/L           CALIDAD_HG PB_TOT_mg/L  \\\n",
              "1063  Potable - Excelente     <0.0005  Potable - Excelente      <0.005   \n",
              "1064  Potable - Excelente     <0.0005  Potable - Excelente      <0.005   \n",
              "1065  Potable - Excelente     <0.0005  Potable - Excelente      <0.005   \n",
              "1066  Potable - Excelente     <0.0005  Potable - Excelente      <0.005   \n",
              "1067  Potable - Excelente     <0.0005  Potable - Excelente      <0.005   \n",
              "\n",
              "               CALIDAD_PB MN_TOT_mg/L           CALIDAD_MN FE_TOT_mg/L  \\\n",
              "1063  Potable - Excelente     <0.0015  Potable - Excelente      <0.025   \n",
              "1064  Potable - Excelente     0.00709  Potable - Excelente     0.07578   \n",
              "1065  Potable - Excelente      0.0242  Potable - Excelente      0.2129   \n",
              "1066  Potable - Excelente       0.012  Potable - Excelente      0.1786   \n",
              "1067  Potable - Excelente     <0.0015  Potable - Excelente      <0.025   \n",
              "\n",
              "               CALIDAD_FE SEMAFORO   CONTAMINANTES CUMPLE_CON_ALC  \\\n",
              "1063  Potable - Excelente     Rojo  CONDUC,DT,NO3,             SI   \n",
              "1064  Potable - Excelente     Rojo            NO3,             SI   \n",
              "1065  Potable - Excelente     Rojo  CONDUC,DT,NO3,             SI   \n",
              "1066  Potable - Excelente    Verde             NaN             SI   \n",
              "1067  Potable - Excelente    Verde             NaN             SI   \n",
              "\n",
              "     CUMPLE_CON_COND CUMPLE_CON_SDT_ra CUMPLE_CON_SDT_salin CUMPLE_CON_FLUO  \\\n",
              "1063              NO                SI                   SI              SI   \n",
              "1064              SI                SI                   SI              SI   \n",
              "1065              NO                SI                   SI              SI   \n",
              "1066              SI                SI                   SI              SI   \n",
              "1067              SI                SI                   SI              SI   \n",
              "\n",
              "     CUMPLE_CON_DUR CUMPLE_CON_CF CUMPLE_CON_NO3 CUMPLE_CON_AS CUMPLE_CON_CD  \\\n",
              "1063             NO            SI             NO            SI            SI   \n",
              "1064             SI            SI             NO            SI            SI   \n",
              "1065             NO            SI             NO            SI            SI   \n",
              "1066             SI            SI             SI            SI            SI   \n",
              "1067             SI            SI             SI            SI            SI   \n",
              "\n",
              "     CUMPLE_CON_CR CUMPLE_CON_HG CUMPLE_CON_PB CUMPLE_CON_MN CUMPLE_CON_FE  \n",
              "1063            SI            SI            SI            SI            SI  \n",
              "1064            SI            SI            SI            SI            SI  \n",
              "1065            SI            SI            SI            SI            SI  \n",
              "1066            SI            SI            SI            SI            SI  \n",
              "1067            SI            SI            SI            SI            SI  "
            ],
            "text/html": [
              "\n",
              "  <div id=\"df-1d26609d-9043-4e1d-9c1f-3b10029af7da\">\n",
              "    <div class=\"colab-df-container\">\n",
              "      <div>\n",
              "<style scoped>\n",
              "    .dataframe tbody tr th:only-of-type {\n",
              "        vertical-align: middle;\n",
              "    }\n",
              "\n",
              "    .dataframe tbody tr th {\n",
              "        vertical-align: top;\n",
              "    }\n",
              "\n",
              "    .dataframe thead th {\n",
              "        text-align: right;\n",
              "    }\n",
              "</style>\n",
              "<table border=\"1\" class=\"dataframe\">\n",
              "  <thead>\n",
              "    <tr style=\"text-align: right;\">\n",
              "      <th></th>\n",
              "      <th>CLAVE</th>\n",
              "      <th>SITIO</th>\n",
              "      <th>ORGANISMO_DE_CUENCA</th>\n",
              "      <th>ESTADO</th>\n",
              "      <th>MUNICIPIO</th>\n",
              "      <th>ACUIFERO</th>\n",
              "      <th>SUBTIPO</th>\n",
              "      <th>LONGITUD</th>\n",
              "      <th>LATITUD</th>\n",
              "      <th>PERIODO</th>\n",
              "      <th>ALC_mg/L</th>\n",
              "      <th>CALIDAD_ALC</th>\n",
              "      <th>CONDUCT_mS/cm</th>\n",
              "      <th>CALIDAD_CONDUC</th>\n",
              "      <th>SDT_mg/L</th>\n",
              "      <th>SDT_M_mg/L</th>\n",
              "      <th>CALIDAD_SDT_ra</th>\n",
              "      <th>CALIDAD_SDT_salin</th>\n",
              "      <th>FLUORUROS_mg/L</th>\n",
              "      <th>CALIDAD_FLUO</th>\n",
              "      <th>DUR_mg/L</th>\n",
              "      <th>CALIDAD_DUR</th>\n",
              "      <th>COLI_FEC_NMP/100_mL</th>\n",
              "      <th>CALIDAD_COLI_FEC</th>\n",
              "      <th>N_NO3_mg/L</th>\n",
              "      <th>CALIDAD_N_NO3</th>\n",
              "      <th>AS_TOT_mg/L</th>\n",
              "      <th>CALIDAD_AS</th>\n",
              "      <th>CD_TOT_mg/L</th>\n",
              "      <th>CALIDAD_CD</th>\n",
              "      <th>CR_TOT_mg/L</th>\n",
              "      <th>CALIDAD_CR</th>\n",
              "      <th>HG_TOT_mg/L</th>\n",
              "      <th>CALIDAD_HG</th>\n",
              "      <th>PB_TOT_mg/L</th>\n",
              "      <th>CALIDAD_PB</th>\n",
              "      <th>MN_TOT_mg/L</th>\n",
              "      <th>CALIDAD_MN</th>\n",
              "      <th>FE_TOT_mg/L</th>\n",
              "      <th>CALIDAD_FE</th>\n",
              "      <th>SEMAFORO</th>\n",
              "      <th>CONTAMINANTES</th>\n",
              "      <th>CUMPLE_CON_ALC</th>\n",
              "      <th>CUMPLE_CON_COND</th>\n",
              "      <th>CUMPLE_CON_SDT_ra</th>\n",
              "      <th>CUMPLE_CON_SDT_salin</th>\n",
              "      <th>CUMPLE_CON_FLUO</th>\n",
              "      <th>CUMPLE_CON_DUR</th>\n",
              "      <th>CUMPLE_CON_CF</th>\n",
              "      <th>CUMPLE_CON_NO3</th>\n",
              "      <th>CUMPLE_CON_AS</th>\n",
              "      <th>CUMPLE_CON_CD</th>\n",
              "      <th>CUMPLE_CON_CR</th>\n",
              "      <th>CUMPLE_CON_HG</th>\n",
              "      <th>CUMPLE_CON_PB</th>\n",
              "      <th>CUMPLE_CON_MN</th>\n",
              "      <th>CUMPLE_CON_FE</th>\n",
              "    </tr>\n",
              "  </thead>\n",
              "  <tbody>\n",
              "    <tr>\n",
              "      <th>1063</th>\n",
              "      <td>OCRBR5101M1</td>\n",
              "      <td>L-310 (COMUNIDAD SAN MANUEL)</td>\n",
              "      <td>RIO BRAVO</td>\n",
              "      <td>NUEVO LEON</td>\n",
              "      <td>LINARES</td>\n",
              "      <td>CITRICOLA SUR</td>\n",
              "      <td>POZO</td>\n",
              "      <td>-99.54191</td>\n",
              "      <td>24.76036</td>\n",
              "      <td>2020</td>\n",
              "      <td>231.045</td>\n",
              "      <td>Alta</td>\n",
              "      <td>2350.0</td>\n",
              "      <td>Dudosa para riego</td>\n",
              "      <td>NaN</td>\n",
              "      <td>1545.8</td>\n",
              "      <td>Cultivos con manejo especial</td>\n",
              "      <td>Ligeramente salobres</td>\n",
              "      <td>&lt;0.2</td>\n",
              "      <td>Baja</td>\n",
              "      <td>752.096</td>\n",
              "      <td>Muy dura e indeseable usos industrial y domestico</td>\n",
              "      <td>&lt;1.1</td>\n",
              "      <td>Potable - Excelente</td>\n",
              "      <td>14.615488</td>\n",
              "      <td>No apta como FAAP</td>\n",
              "      <td>&lt;0.01</td>\n",
              "      <td>Potable - Excelente</td>\n",
              "      <td>&lt;0.003</td>\n",
              "      <td>Potable - Excelente</td>\n",
              "      <td>&lt;0.005</td>\n",
              "      <td>Potable - Excelente</td>\n",
              "      <td>&lt;0.0005</td>\n",
              "      <td>Potable - Excelente</td>\n",
              "      <td>&lt;0.005</td>\n",
              "      <td>Potable - Excelente</td>\n",
              "      <td>&lt;0.0015</td>\n",
              "      <td>Potable - Excelente</td>\n",
              "      <td>&lt;0.025</td>\n",
              "      <td>Potable - Excelente</td>\n",
              "      <td>Rojo</td>\n",
              "      <td>CONDUC,DT,NO3,</td>\n",
              "      <td>SI</td>\n",
              "      <td>NO</td>\n",
              "      <td>SI</td>\n",
              "      <td>SI</td>\n",
              "      <td>SI</td>\n",
              "      <td>NO</td>\n",
              "      <td>SI</td>\n",
              "      <td>NO</td>\n",
              "      <td>SI</td>\n",
              "      <td>SI</td>\n",
              "      <td>SI</td>\n",
              "      <td>SI</td>\n",
              "      <td>SI</td>\n",
              "      <td>SI</td>\n",
              "      <td>SI</td>\n",
              "    </tr>\n",
              "    <tr>\n",
              "      <th>1064</th>\n",
              "      <td>OCRBR5102M1</td>\n",
              "      <td>L-305 (EJIDO OJO DE AGUA LAS CRUCESITAS)</td>\n",
              "      <td>RIO BRAVO</td>\n",
              "      <td>NUEVO LEON</td>\n",
              "      <td>LINARES</td>\n",
              "      <td>CITRICOLA SUR</td>\n",
              "      <td>POZO</td>\n",
              "      <td>-99.70099</td>\n",
              "      <td>24.78280</td>\n",
              "      <td>2020</td>\n",
              "      <td>256.000</td>\n",
              "      <td>Alta</td>\n",
              "      <td>529.0</td>\n",
              "      <td>Buena para riego</td>\n",
              "      <td>NaN</td>\n",
              "      <td>297</td>\n",
              "      <td>Excelente para riego</td>\n",
              "      <td>Potable - Dulce</td>\n",
              "      <td>&lt;0.2</td>\n",
              "      <td>Baja</td>\n",
              "      <td>273</td>\n",
              "      <td>Potable - Dura</td>\n",
              "      <td>&lt;1.1</td>\n",
              "      <td>Potable - Excelente</td>\n",
              "      <td>77.392</td>\n",
              "      <td>No apta como FAAP</td>\n",
              "      <td>&lt;0.01</td>\n",
              "      <td>Potable - Excelente</td>\n",
              "      <td>&lt;0.003</td>\n",
              "      <td>Potable - Excelente</td>\n",
              "      <td>&lt;0.005</td>\n",
              "      <td>Potable - Excelente</td>\n",
              "      <td>&lt;0.0005</td>\n",
              "      <td>Potable - Excelente</td>\n",
              "      <td>&lt;0.005</td>\n",
              "      <td>Potable - Excelente</td>\n",
              "      <td>0.00709</td>\n",
              "      <td>Potable - Excelente</td>\n",
              "      <td>0.07578</td>\n",
              "      <td>Potable - Excelente</td>\n",
              "      <td>Rojo</td>\n",
              "      <td>NO3,</td>\n",
              "      <td>SI</td>\n",
              "      <td>SI</td>\n",
              "      <td>SI</td>\n",
              "      <td>SI</td>\n",
              "      <td>SI</td>\n",
              "      <td>SI</td>\n",
              "      <td>SI</td>\n",
              "      <td>NO</td>\n",
              "      <td>SI</td>\n",
              "      <td>SI</td>\n",
              "      <td>SI</td>\n",
              "      <td>SI</td>\n",
              "      <td>SI</td>\n",
              "      <td>SI</td>\n",
              "      <td>SI</td>\n",
              "    </tr>\n",
              "    <tr>\n",
              "      <th>1065</th>\n",
              "      <td>OCRBR5105M2</td>\n",
              "      <td>HACIENDA MEXIQUITO POZO 01</td>\n",
              "      <td>RIO BRAVO</td>\n",
              "      <td>NUEVO LEON</td>\n",
              "      <td>CADEREYTA JIMENEZ</td>\n",
              "      <td>CITRICOLA NORTE</td>\n",
              "      <td>POZO</td>\n",
              "      <td>-99.82249</td>\n",
              "      <td>25.55197</td>\n",
              "      <td>2020</td>\n",
              "      <td>330.690</td>\n",
              "      <td>Alta</td>\n",
              "      <td>2600.0</td>\n",
              "      <td>Dudosa para riego</td>\n",
              "      <td>NaN</td>\n",
              "      <td>1873</td>\n",
              "      <td>Cultivos con manejo especial</td>\n",
              "      <td>Ligeramente salobres</td>\n",
              "      <td>0.7574</td>\n",
              "      <td>Potable - Optima</td>\n",
              "      <td>660.2126</td>\n",
              "      <td>Muy dura e indeseable usos industrial y domestico</td>\n",
              "      <td>620</td>\n",
              "      <td>Aceptable</td>\n",
              "      <td>36.477104</td>\n",
              "      <td>No apta como FAAP</td>\n",
              "      <td>&lt;0.01</td>\n",
              "      <td>Potable - Excelente</td>\n",
              "      <td>&lt;0.003</td>\n",
              "      <td>Potable - Excelente</td>\n",
              "      <td>&lt;0.005</td>\n",
              "      <td>Potable - Excelente</td>\n",
              "      <td>&lt;0.0005</td>\n",
              "      <td>Potable - Excelente</td>\n",
              "      <td>&lt;0.005</td>\n",
              "      <td>Potable - Excelente</td>\n",
              "      <td>0.0242</td>\n",
              "      <td>Potable - Excelente</td>\n",
              "      <td>0.2129</td>\n",
              "      <td>Potable - Excelente</td>\n",
              "      <td>Rojo</td>\n",
              "      <td>CONDUC,DT,NO3,</td>\n",
              "      <td>SI</td>\n",
              "      <td>NO</td>\n",
              "      <td>SI</td>\n",
              "      <td>SI</td>\n",
              "      <td>SI</td>\n",
              "      <td>NO</td>\n",
              "      <td>SI</td>\n",
              "      <td>NO</td>\n",
              "      <td>SI</td>\n",
              "      <td>SI</td>\n",
              "      <td>SI</td>\n",
              "      <td>SI</td>\n",
              "      <td>SI</td>\n",
              "      <td>SI</td>\n",
              "      <td>SI</td>\n",
              "    </tr>\n",
              "    <tr>\n",
              "      <th>1066</th>\n",
              "      <td>OCRBR5106M1</td>\n",
              "      <td>COMUNIDAD LOS POCITOS</td>\n",
              "      <td>RIO BRAVO</td>\n",
              "      <td>NUEVO LEON</td>\n",
              "      <td>GALEANA</td>\n",
              "      <td>NAVIDAD-POTOSI-RAICES</td>\n",
              "      <td>POZO</td>\n",
              "      <td>-100.32683</td>\n",
              "      <td>24.80118</td>\n",
              "      <td>2020</td>\n",
              "      <td>193.140</td>\n",
              "      <td>Alta</td>\n",
              "      <td>873.0</td>\n",
              "      <td>Permisible para riego</td>\n",
              "      <td>NaN</td>\n",
              "      <td>690.6667</td>\n",
              "      <td>Cultivos sensibles</td>\n",
              "      <td>Potable - Dulce</td>\n",
              "      <td>0.7108</td>\n",
              "      <td>Potable - Optima</td>\n",
              "      <td>406.368</td>\n",
              "      <td>Potable - Dura</td>\n",
              "      <td>&lt;1.1</td>\n",
              "      <td>Potable - Excelente</td>\n",
              "      <td>&lt;0.02</td>\n",
              "      <td>Potable - Excelente</td>\n",
              "      <td>&lt;0.01</td>\n",
              "      <td>Potable - Excelente</td>\n",
              "      <td>&lt;0.003</td>\n",
              "      <td>Potable - Excelente</td>\n",
              "      <td>&lt;0.005</td>\n",
              "      <td>Potable - Excelente</td>\n",
              "      <td>&lt;0.0005</td>\n",
              "      <td>Potable - Excelente</td>\n",
              "      <td>&lt;0.005</td>\n",
              "      <td>Potable - Excelente</td>\n",
              "      <td>0.012</td>\n",
              "      <td>Potable - Excelente</td>\n",
              "      <td>0.1786</td>\n",
              "      <td>Potable - Excelente</td>\n",
              "      <td>Verde</td>\n",
              "      <td>NaN</td>\n",
              "      <td>SI</td>\n",
              "      <td>SI</td>\n",
              "      <td>SI</td>\n",
              "      <td>SI</td>\n",
              "      <td>SI</td>\n",
              "      <td>SI</td>\n",
              "      <td>SI</td>\n",
              "      <td>SI</td>\n",
              "      <td>SI</td>\n",
              "      <td>SI</td>\n",
              "      <td>SI</td>\n",
              "      <td>SI</td>\n",
              "      <td>SI</td>\n",
              "      <td>SI</td>\n",
              "      <td>SI</td>\n",
              "    </tr>\n",
              "    <tr>\n",
              "      <th>1067</th>\n",
              "      <td>OCRBR5109M1</td>\n",
              "      <td>COMUNIDAD LA REFORMA</td>\n",
              "      <td>RIO BRAVO</td>\n",
              "      <td>NUEVO LEON</td>\n",
              "      <td>GALEANA</td>\n",
              "      <td>NAVIDAD-POTOSI-RAICES</td>\n",
              "      <td>POZO</td>\n",
              "      <td>-100.73302</td>\n",
              "      <td>25.09380</td>\n",
              "      <td>2020</td>\n",
              "      <td>263.070</td>\n",
              "      <td>Alta</td>\n",
              "      <td>817.0</td>\n",
              "      <td>Permisible para riego</td>\n",
              "      <td>NaN</td>\n",
              "      <td>495</td>\n",
              "      <td>Excelente para riego</td>\n",
              "      <td>Potable - Dulce</td>\n",
              "      <td>0.4002</td>\n",
              "      <td>Media</td>\n",
              "      <td>362.544</td>\n",
              "      <td>Potable - Dura</td>\n",
              "      <td>&lt;1.1</td>\n",
              "      <td>Potable - Excelente</td>\n",
              "      <td>0.811876</td>\n",
              "      <td>Potable - Excelente</td>\n",
              "      <td>&lt;0.01</td>\n",
              "      <td>Potable - Excelente</td>\n",
              "      <td>&lt;0.003</td>\n",
              "      <td>Potable - Excelente</td>\n",
              "      <td>&lt;0.005</td>\n",
              "      <td>Potable - Excelente</td>\n",
              "      <td>&lt;0.0005</td>\n",
              "      <td>Potable - Excelente</td>\n",
              "      <td>&lt;0.005</td>\n",
              "      <td>Potable - Excelente</td>\n",
              "      <td>&lt;0.0015</td>\n",
              "      <td>Potable - Excelente</td>\n",
              "      <td>&lt;0.025</td>\n",
              "      <td>Potable - Excelente</td>\n",
              "      <td>Verde</td>\n",
              "      <td>NaN</td>\n",
              "      <td>SI</td>\n",
              "      <td>SI</td>\n",
              "      <td>SI</td>\n",
              "      <td>SI</td>\n",
              "      <td>SI</td>\n",
              "      <td>SI</td>\n",
              "      <td>SI</td>\n",
              "      <td>SI</td>\n",
              "      <td>SI</td>\n",
              "      <td>SI</td>\n",
              "      <td>SI</td>\n",
              "      <td>SI</td>\n",
              "      <td>SI</td>\n",
              "      <td>SI</td>\n",
              "      <td>SI</td>\n",
              "    </tr>\n",
              "  </tbody>\n",
              "</table>\n",
              "</div>\n",
              "      <button class=\"colab-df-convert\" onclick=\"convertToInteractive('df-1d26609d-9043-4e1d-9c1f-3b10029af7da')\"\n",
              "              title=\"Convert this dataframe to an interactive table.\"\n",
              "              style=\"display:none;\">\n",
              "        \n",
              "  <svg xmlns=\"http://www.w3.org/2000/svg\" height=\"24px\"viewBox=\"0 0 24 24\"\n",
              "       width=\"24px\">\n",
              "    <path d=\"M0 0h24v24H0V0z\" fill=\"none\"/>\n",
              "    <path d=\"M18.56 5.44l.94 2.06.94-2.06 2.06-.94-2.06-.94-.94-2.06-.94 2.06-2.06.94zm-11 1L8.5 8.5l.94-2.06 2.06-.94-2.06-.94L8.5 2.5l-.94 2.06-2.06.94zm10 10l.94 2.06.94-2.06 2.06-.94-2.06-.94-.94-2.06-.94 2.06-2.06.94z\"/><path d=\"M17.41 7.96l-1.37-1.37c-.4-.4-.92-.59-1.43-.59-.52 0-1.04.2-1.43.59L10.3 9.45l-7.72 7.72c-.78.78-.78 2.05 0 2.83L4 21.41c.39.39.9.59 1.41.59.51 0 1.02-.2 1.41-.59l7.78-7.78 2.81-2.81c.8-.78.8-2.07 0-2.86zM5.41 20L4 18.59l7.72-7.72 1.47 1.35L5.41 20z\"/>\n",
              "  </svg>\n",
              "      </button>\n",
              "      \n",
              "  <style>\n",
              "    .colab-df-container {\n",
              "      display:flex;\n",
              "      flex-wrap:wrap;\n",
              "      gap: 12px;\n",
              "    }\n",
              "\n",
              "    .colab-df-convert {\n",
              "      background-color: #E8F0FE;\n",
              "      border: none;\n",
              "      border-radius: 50%;\n",
              "      cursor: pointer;\n",
              "      display: none;\n",
              "      fill: #1967D2;\n",
              "      height: 32px;\n",
              "      padding: 0 0 0 0;\n",
              "      width: 32px;\n",
              "    }\n",
              "\n",
              "    .colab-df-convert:hover {\n",
              "      background-color: #E2EBFA;\n",
              "      box-shadow: 0px 1px 2px rgba(60, 64, 67, 0.3), 0px 1px 3px 1px rgba(60, 64, 67, 0.15);\n",
              "      fill: #174EA6;\n",
              "    }\n",
              "\n",
              "    [theme=dark] .colab-df-convert {\n",
              "      background-color: #3B4455;\n",
              "      fill: #D2E3FC;\n",
              "    }\n",
              "\n",
              "    [theme=dark] .colab-df-convert:hover {\n",
              "      background-color: #434B5C;\n",
              "      box-shadow: 0px 1px 3px 1px rgba(0, 0, 0, 0.15);\n",
              "      filter: drop-shadow(0px 1px 2px rgba(0, 0, 0, 0.3));\n",
              "      fill: #FFFFFF;\n",
              "    }\n",
              "  </style>\n",
              "\n",
              "      <script>\n",
              "        const buttonEl =\n",
              "          document.querySelector('#df-1d26609d-9043-4e1d-9c1f-3b10029af7da button.colab-df-convert');\n",
              "        buttonEl.style.display =\n",
              "          google.colab.kernel.accessAllowed ? 'block' : 'none';\n",
              "\n",
              "        async function convertToInteractive(key) {\n",
              "          const element = document.querySelector('#df-1d26609d-9043-4e1d-9c1f-3b10029af7da');\n",
              "          const dataTable =\n",
              "            await google.colab.kernel.invokeFunction('convertToInteractive',\n",
              "                                                     [key], {});\n",
              "          if (!dataTable) return;\n",
              "\n",
              "          const docLinkHtml = 'Like what you see? Visit the ' +\n",
              "            '<a target=\"_blank\" href=https://colab.research.google.com/notebooks/data_table.ipynb>data table notebook</a>'\n",
              "            + ' to learn more about interactive tables.';\n",
              "          element.innerHTML = '';\n",
              "          dataTable['output_type'] = 'display_data';\n",
              "          await google.colab.output.renderOutput(dataTable, element);\n",
              "          const docLink = document.createElement('div');\n",
              "          docLink.innerHTML = docLinkHtml;\n",
              "          element.appendChild(docLink);\n",
              "        }\n",
              "      </script>\n",
              "    </div>\n",
              "  </div>\n",
              "  "
            ]
          },
          "metadata": {},
          "execution_count": 174
        }
      ]
    },
    {
      "cell_type": "code",
      "source": [
        "data.size"
      ],
      "metadata": {
        "colab": {
          "base_uri": "https://localhost:8080/",
          "height": 0
        },
        "id": "opj_beisrTS6",
        "outputId": "ce133ed8-08ef-432e-d36a-cca24aba7a14"
      },
      "execution_count": 175,
      "outputs": [
        {
          "output_type": "execute_result",
          "data": {
            "text/plain": [
              "60876"
            ]
          },
          "metadata": {},
          "execution_count": 175
        }
      ]
    },
    {
      "cell_type": "code",
      "source": [
        "data.columns.shape"
      ],
      "metadata": {
        "colab": {
          "base_uri": "https://localhost:8080/",
          "height": 0
        },
        "id": "v0aCCqkRrWiz",
        "outputId": "fe0aec71-798f-4454-bd09-bfd94730d483"
      },
      "execution_count": 176,
      "outputs": [
        {
          "output_type": "execute_result",
          "data": {
            "text/plain": [
              "(57,)"
            ]
          },
          "metadata": {},
          "execution_count": 176
        }
      ]
    },
    {
      "cell_type": "markdown",
      "source": [
        "Existen datos perdidos, hay una variedad métodos para completar los datos, y puesto que la información es muy relevante para determinar la calidad del agua en zonas subterráneas se tendrá que evaluar el cómo proceder en cuanto a su limpieza, de modo que se evaluará el mejor tratamiento a implementar."
      ],
      "metadata": {
        "id": "Sa7hOxokwUDR"
      }
    },
    {
      "cell_type": "code",
      "source": [
        "data_copy = data.copy()"
      ],
      "metadata": {
        "id": "7PmB9KBpruDb"
      },
      "execution_count": 177,
      "outputs": []
    },
    {
      "cell_type": "code",
      "source": [
        "data_copy.isnull().sum(axis=1).value_counts()"
      ],
      "metadata": {
        "colab": {
          "base_uri": "https://localhost:8080/",
          "height": 0
        },
        "id": "6W7-tzwZrp-L",
        "outputId": "8f53bb47-cd39-4822-96a5-02268606c026"
      },
      "execution_count": 178,
      "outputs": [
        {
          "output_type": "execute_result",
          "data": {
            "text/plain": [
              "1    627\n",
              "2    427\n",
              "4      9\n",
              "3      5\n",
              "dtype: int64"
            ]
          },
          "metadata": {},
          "execution_count": 178
        }
      ]
    },
    {
      "cell_type": "code",
      "source": [
        "data_copy.dropna(axis = 1,thresh = data.shape[0]/2, inplace = True) # Se elimina la columna que no tiene ningún dato \n",
        "print(f'Cambio de dimensión, una columna menos: {data_copy.shape[1]}') "
      ],
      "metadata": {
        "colab": {
          "base_uri": "https://localhost:8080/",
          "height": 0
        },
        "id": "L8M2gyCkr4p-",
        "outputId": "b982a8dc-934e-4ef1-9f5e-b36e78046f99"
      },
      "execution_count": 179,
      "outputs": [
        {
          "output_type": "stream",
          "name": "stdout",
          "text": [
            "Cambio de dimensión, una columna menos: 56\n"
          ]
        }
      ]
    },
    {
      "cell_type": "code",
      "source": [
        "column_names = [data_copy.columns]"
      ],
      "metadata": {
        "id": "lvMpAV04sO4I"
      },
      "execution_count": 180,
      "outputs": []
    },
    {
      "cell_type": "code",
      "source": [
        "# Transformación de nombres de variables de entrada para su mejor manipulación\n",
        "data_copy.columns = ['C' + str(n+1) for n in range(data_copy.shape[1])]\n",
        "data_copy.head(3)"
      ],
      "metadata": {
        "colab": {
          "base_uri": "https://localhost:8080/",
          "height": 346
        },
        "id": "V9qsqrAgsSNU",
        "outputId": "0a3dc605-48e1-4966-ff9d-f4af0738a6a3"
      },
      "execution_count": 181,
      "outputs": [
        {
          "output_type": "execute_result",
          "data": {
            "text/plain": [
              "          C1                      C2                       C3              C4  \\\n",
              "0     DLAGU6            POZO SAN GIL  LERMA SANTIAGO PACIFICO  AGUASCALIENTES   \n",
              "1  DLAGU6516  POZO R013 CAÑADA HONDA  LERMA SANTIAGO PACIFICO  AGUASCALIENTES   \n",
              "2     DLAGU7              POZO COSIO  LERMA SANTIAGO PACIFICO  AGUASCALIENTES   \n",
              "\n",
              "               C5                       C6    C7         C8        C9   C10  \\\n",
              "0        ASIENTOS       VALLE DE CHICALOTE  POZO -102.02210  22.20887  2020   \n",
              "1  AGUASCALIENTES       VALLE DE CHICALOTE  POZO -102.20075  21.99958  2020   \n",
              "2           COSIO  VALLE DE AGUASCALIENTES  POZO -102.28801  22.36685  2020   \n",
              "\n",
              "      C11   C12    C13                    C14    C15                   C16  \\\n",
              "0  229.99  Alta  940.0  Permisible para riego  603.6    Cultivos sensibles   \n",
              "1  231.99  Alta  608.0       Buena para riego  445.4  Excelente para riego   \n",
              "2  204.92  Alta  532.0       Buena para riego    342  Excelente para riego   \n",
              "\n",
              "               C17     C18               C19       C20             C21   C22  \\\n",
              "0  Potable - Dulce  0.9766  Potable - Optima   213.732  Potable - Dura  <1.1   \n",
              "1  Potable - Dulce  0.9298  Potable - Optima  185.0514  Potable - Dura  <1.1   \n",
              "2  Potable - Dulce  1.8045              Alta   120.719  Potable - Dura  <1.1   \n",
              "\n",
              "                   C23       C24                      C25     C26  \\\n",
              "0  Potable - Excelente  4.184656      Potable - Excelente  0.0161   \n",
              "1  Potable - Excelente   5.75011  Potable - Buena calidad  0.0134   \n",
              "2  Potable - Excelente  1.449803      Potable - Excelente   0.037   \n",
              "\n",
              "                 C27     C28                  C29     C30  \\\n",
              "0     Apta como FAAP  <0.003  Potable - Excelente  <0.005   \n",
              "1     Apta como FAAP  <0.003  Potable - Excelente  <0.005   \n",
              "2  No apta como FAAP  <0.003  Potable - Excelente  <0.005   \n",
              "\n",
              "                   C31      C32                  C33     C34  \\\n",
              "0  Potable - Excelente  <0.0005  Potable - Excelente  <0.005   \n",
              "1  Potable - Excelente  <0.0005  Potable - Excelente  <0.005   \n",
              "2  Potable - Excelente  <0.0005  Potable - Excelente  <0.005   \n",
              "\n",
              "                   C35      C36                  C37     C38  \\\n",
              "0  Potable - Excelente  <0.0015  Potable - Excelente  0.0891   \n",
              "1  Potable - Excelente  <0.0015  Potable - Excelente  <0.025   \n",
              "2  Potable - Excelente  <0.0015  Potable - Excelente  <0.025   \n",
              "\n",
              "                   C39    C40       C41 C42 C43 C44 C45 C46 C47 C48 C49 C50  \\\n",
              "0  Potable - Excelente  Verde       NaN  SI  SI  SI  SI  SI  SI  SI  SI  SI   \n",
              "1  Potable - Excelente  Verde       NaN  SI  SI  SI  SI  SI  SI  SI  SI  SI   \n",
              "2  Potable - Excelente   Rojo  FLUO,AS,  SI  SI  SI  SI  NO  SI  SI  SI  NO   \n",
              "\n",
              "  C51 C52 C53 C54 C55 C56  \n",
              "0  SI  SI  SI  SI  SI  SI  \n",
              "1  SI  SI  SI  SI  SI  SI  \n",
              "2  SI  SI  SI  SI  SI  SI  "
            ],
            "text/html": [
              "\n",
              "  <div id=\"df-c647cfaf-4a78-486c-8fe6-818f345bed54\">\n",
              "    <div class=\"colab-df-container\">\n",
              "      <div>\n",
              "<style scoped>\n",
              "    .dataframe tbody tr th:only-of-type {\n",
              "        vertical-align: middle;\n",
              "    }\n",
              "\n",
              "    .dataframe tbody tr th {\n",
              "        vertical-align: top;\n",
              "    }\n",
              "\n",
              "    .dataframe thead th {\n",
              "        text-align: right;\n",
              "    }\n",
              "</style>\n",
              "<table border=\"1\" class=\"dataframe\">\n",
              "  <thead>\n",
              "    <tr style=\"text-align: right;\">\n",
              "      <th></th>\n",
              "      <th>C1</th>\n",
              "      <th>C2</th>\n",
              "      <th>C3</th>\n",
              "      <th>C4</th>\n",
              "      <th>C5</th>\n",
              "      <th>C6</th>\n",
              "      <th>C7</th>\n",
              "      <th>C8</th>\n",
              "      <th>C9</th>\n",
              "      <th>C10</th>\n",
              "      <th>C11</th>\n",
              "      <th>C12</th>\n",
              "      <th>C13</th>\n",
              "      <th>C14</th>\n",
              "      <th>C15</th>\n",
              "      <th>C16</th>\n",
              "      <th>C17</th>\n",
              "      <th>C18</th>\n",
              "      <th>C19</th>\n",
              "      <th>C20</th>\n",
              "      <th>C21</th>\n",
              "      <th>C22</th>\n",
              "      <th>C23</th>\n",
              "      <th>C24</th>\n",
              "      <th>C25</th>\n",
              "      <th>C26</th>\n",
              "      <th>C27</th>\n",
              "      <th>C28</th>\n",
              "      <th>C29</th>\n",
              "      <th>C30</th>\n",
              "      <th>C31</th>\n",
              "      <th>C32</th>\n",
              "      <th>C33</th>\n",
              "      <th>C34</th>\n",
              "      <th>C35</th>\n",
              "      <th>C36</th>\n",
              "      <th>C37</th>\n",
              "      <th>C38</th>\n",
              "      <th>C39</th>\n",
              "      <th>C40</th>\n",
              "      <th>C41</th>\n",
              "      <th>C42</th>\n",
              "      <th>C43</th>\n",
              "      <th>C44</th>\n",
              "      <th>C45</th>\n",
              "      <th>C46</th>\n",
              "      <th>C47</th>\n",
              "      <th>C48</th>\n",
              "      <th>C49</th>\n",
              "      <th>C50</th>\n",
              "      <th>C51</th>\n",
              "      <th>C52</th>\n",
              "      <th>C53</th>\n",
              "      <th>C54</th>\n",
              "      <th>C55</th>\n",
              "      <th>C56</th>\n",
              "    </tr>\n",
              "  </thead>\n",
              "  <tbody>\n",
              "    <tr>\n",
              "      <th>0</th>\n",
              "      <td>DLAGU6</td>\n",
              "      <td>POZO SAN GIL</td>\n",
              "      <td>LERMA SANTIAGO PACIFICO</td>\n",
              "      <td>AGUASCALIENTES</td>\n",
              "      <td>ASIENTOS</td>\n",
              "      <td>VALLE DE CHICALOTE</td>\n",
              "      <td>POZO</td>\n",
              "      <td>-102.02210</td>\n",
              "      <td>22.20887</td>\n",
              "      <td>2020</td>\n",
              "      <td>229.99</td>\n",
              "      <td>Alta</td>\n",
              "      <td>940.0</td>\n",
              "      <td>Permisible para riego</td>\n",
              "      <td>603.6</td>\n",
              "      <td>Cultivos sensibles</td>\n",
              "      <td>Potable - Dulce</td>\n",
              "      <td>0.9766</td>\n",
              "      <td>Potable - Optima</td>\n",
              "      <td>213.732</td>\n",
              "      <td>Potable - Dura</td>\n",
              "      <td>&lt;1.1</td>\n",
              "      <td>Potable - Excelente</td>\n",
              "      <td>4.184656</td>\n",
              "      <td>Potable - Excelente</td>\n",
              "      <td>0.0161</td>\n",
              "      <td>Apta como FAAP</td>\n",
              "      <td>&lt;0.003</td>\n",
              "      <td>Potable - Excelente</td>\n",
              "      <td>&lt;0.005</td>\n",
              "      <td>Potable - Excelente</td>\n",
              "      <td>&lt;0.0005</td>\n",
              "      <td>Potable - Excelente</td>\n",
              "      <td>&lt;0.005</td>\n",
              "      <td>Potable - Excelente</td>\n",
              "      <td>&lt;0.0015</td>\n",
              "      <td>Potable - Excelente</td>\n",
              "      <td>0.0891</td>\n",
              "      <td>Potable - Excelente</td>\n",
              "      <td>Verde</td>\n",
              "      <td>NaN</td>\n",
              "      <td>SI</td>\n",
              "      <td>SI</td>\n",
              "      <td>SI</td>\n",
              "      <td>SI</td>\n",
              "      <td>SI</td>\n",
              "      <td>SI</td>\n",
              "      <td>SI</td>\n",
              "      <td>SI</td>\n",
              "      <td>SI</td>\n",
              "      <td>SI</td>\n",
              "      <td>SI</td>\n",
              "      <td>SI</td>\n",
              "      <td>SI</td>\n",
              "      <td>SI</td>\n",
              "      <td>SI</td>\n",
              "    </tr>\n",
              "    <tr>\n",
              "      <th>1</th>\n",
              "      <td>DLAGU6516</td>\n",
              "      <td>POZO R013 CAÑADA HONDA</td>\n",
              "      <td>LERMA SANTIAGO PACIFICO</td>\n",
              "      <td>AGUASCALIENTES</td>\n",
              "      <td>AGUASCALIENTES</td>\n",
              "      <td>VALLE DE CHICALOTE</td>\n",
              "      <td>POZO</td>\n",
              "      <td>-102.20075</td>\n",
              "      <td>21.99958</td>\n",
              "      <td>2020</td>\n",
              "      <td>231.99</td>\n",
              "      <td>Alta</td>\n",
              "      <td>608.0</td>\n",
              "      <td>Buena para riego</td>\n",
              "      <td>445.4</td>\n",
              "      <td>Excelente para riego</td>\n",
              "      <td>Potable - Dulce</td>\n",
              "      <td>0.9298</td>\n",
              "      <td>Potable - Optima</td>\n",
              "      <td>185.0514</td>\n",
              "      <td>Potable - Dura</td>\n",
              "      <td>&lt;1.1</td>\n",
              "      <td>Potable - Excelente</td>\n",
              "      <td>5.75011</td>\n",
              "      <td>Potable - Buena calidad</td>\n",
              "      <td>0.0134</td>\n",
              "      <td>Apta como FAAP</td>\n",
              "      <td>&lt;0.003</td>\n",
              "      <td>Potable - Excelente</td>\n",
              "      <td>&lt;0.005</td>\n",
              "      <td>Potable - Excelente</td>\n",
              "      <td>&lt;0.0005</td>\n",
              "      <td>Potable - Excelente</td>\n",
              "      <td>&lt;0.005</td>\n",
              "      <td>Potable - Excelente</td>\n",
              "      <td>&lt;0.0015</td>\n",
              "      <td>Potable - Excelente</td>\n",
              "      <td>&lt;0.025</td>\n",
              "      <td>Potable - Excelente</td>\n",
              "      <td>Verde</td>\n",
              "      <td>NaN</td>\n",
              "      <td>SI</td>\n",
              "      <td>SI</td>\n",
              "      <td>SI</td>\n",
              "      <td>SI</td>\n",
              "      <td>SI</td>\n",
              "      <td>SI</td>\n",
              "      <td>SI</td>\n",
              "      <td>SI</td>\n",
              "      <td>SI</td>\n",
              "      <td>SI</td>\n",
              "      <td>SI</td>\n",
              "      <td>SI</td>\n",
              "      <td>SI</td>\n",
              "      <td>SI</td>\n",
              "      <td>SI</td>\n",
              "    </tr>\n",
              "    <tr>\n",
              "      <th>2</th>\n",
              "      <td>DLAGU7</td>\n",
              "      <td>POZO COSIO</td>\n",
              "      <td>LERMA SANTIAGO PACIFICO</td>\n",
              "      <td>AGUASCALIENTES</td>\n",
              "      <td>COSIO</td>\n",
              "      <td>VALLE DE AGUASCALIENTES</td>\n",
              "      <td>POZO</td>\n",
              "      <td>-102.28801</td>\n",
              "      <td>22.36685</td>\n",
              "      <td>2020</td>\n",
              "      <td>204.92</td>\n",
              "      <td>Alta</td>\n",
              "      <td>532.0</td>\n",
              "      <td>Buena para riego</td>\n",
              "      <td>342</td>\n",
              "      <td>Excelente para riego</td>\n",
              "      <td>Potable - Dulce</td>\n",
              "      <td>1.8045</td>\n",
              "      <td>Alta</td>\n",
              "      <td>120.719</td>\n",
              "      <td>Potable - Dura</td>\n",
              "      <td>&lt;1.1</td>\n",
              "      <td>Potable - Excelente</td>\n",
              "      <td>1.449803</td>\n",
              "      <td>Potable - Excelente</td>\n",
              "      <td>0.037</td>\n",
              "      <td>No apta como FAAP</td>\n",
              "      <td>&lt;0.003</td>\n",
              "      <td>Potable - Excelente</td>\n",
              "      <td>&lt;0.005</td>\n",
              "      <td>Potable - Excelente</td>\n",
              "      <td>&lt;0.0005</td>\n",
              "      <td>Potable - Excelente</td>\n",
              "      <td>&lt;0.005</td>\n",
              "      <td>Potable - Excelente</td>\n",
              "      <td>&lt;0.0015</td>\n",
              "      <td>Potable - Excelente</td>\n",
              "      <td>&lt;0.025</td>\n",
              "      <td>Potable - Excelente</td>\n",
              "      <td>Rojo</td>\n",
              "      <td>FLUO,AS,</td>\n",
              "      <td>SI</td>\n",
              "      <td>SI</td>\n",
              "      <td>SI</td>\n",
              "      <td>SI</td>\n",
              "      <td>NO</td>\n",
              "      <td>SI</td>\n",
              "      <td>SI</td>\n",
              "      <td>SI</td>\n",
              "      <td>NO</td>\n",
              "      <td>SI</td>\n",
              "      <td>SI</td>\n",
              "      <td>SI</td>\n",
              "      <td>SI</td>\n",
              "      <td>SI</td>\n",
              "      <td>SI</td>\n",
              "    </tr>\n",
              "  </tbody>\n",
              "</table>\n",
              "</div>\n",
              "      <button class=\"colab-df-convert\" onclick=\"convertToInteractive('df-c647cfaf-4a78-486c-8fe6-818f345bed54')\"\n",
              "              title=\"Convert this dataframe to an interactive table.\"\n",
              "              style=\"display:none;\">\n",
              "        \n",
              "  <svg xmlns=\"http://www.w3.org/2000/svg\" height=\"24px\"viewBox=\"0 0 24 24\"\n",
              "       width=\"24px\">\n",
              "    <path d=\"M0 0h24v24H0V0z\" fill=\"none\"/>\n",
              "    <path d=\"M18.56 5.44l.94 2.06.94-2.06 2.06-.94-2.06-.94-.94-2.06-.94 2.06-2.06.94zm-11 1L8.5 8.5l.94-2.06 2.06-.94-2.06-.94L8.5 2.5l-.94 2.06-2.06.94zm10 10l.94 2.06.94-2.06 2.06-.94-2.06-.94-.94-2.06-.94 2.06-2.06.94z\"/><path d=\"M17.41 7.96l-1.37-1.37c-.4-.4-.92-.59-1.43-.59-.52 0-1.04.2-1.43.59L10.3 9.45l-7.72 7.72c-.78.78-.78 2.05 0 2.83L4 21.41c.39.39.9.59 1.41.59.51 0 1.02-.2 1.41-.59l7.78-7.78 2.81-2.81c.8-.78.8-2.07 0-2.86zM5.41 20L4 18.59l7.72-7.72 1.47 1.35L5.41 20z\"/>\n",
              "  </svg>\n",
              "      </button>\n",
              "      \n",
              "  <style>\n",
              "    .colab-df-container {\n",
              "      display:flex;\n",
              "      flex-wrap:wrap;\n",
              "      gap: 12px;\n",
              "    }\n",
              "\n",
              "    .colab-df-convert {\n",
              "      background-color: #E8F0FE;\n",
              "      border: none;\n",
              "      border-radius: 50%;\n",
              "      cursor: pointer;\n",
              "      display: none;\n",
              "      fill: #1967D2;\n",
              "      height: 32px;\n",
              "      padding: 0 0 0 0;\n",
              "      width: 32px;\n",
              "    }\n",
              "\n",
              "    .colab-df-convert:hover {\n",
              "      background-color: #E2EBFA;\n",
              "      box-shadow: 0px 1px 2px rgba(60, 64, 67, 0.3), 0px 1px 3px 1px rgba(60, 64, 67, 0.15);\n",
              "      fill: #174EA6;\n",
              "    }\n",
              "\n",
              "    [theme=dark] .colab-df-convert {\n",
              "      background-color: #3B4455;\n",
              "      fill: #D2E3FC;\n",
              "    }\n",
              "\n",
              "    [theme=dark] .colab-df-convert:hover {\n",
              "      background-color: #434B5C;\n",
              "      box-shadow: 0px 1px 3px 1px rgba(0, 0, 0, 0.15);\n",
              "      filter: drop-shadow(0px 1px 2px rgba(0, 0, 0, 0.3));\n",
              "      fill: #FFFFFF;\n",
              "    }\n",
              "  </style>\n",
              "\n",
              "      <script>\n",
              "        const buttonEl =\n",
              "          document.querySelector('#df-c647cfaf-4a78-486c-8fe6-818f345bed54 button.colab-df-convert');\n",
              "        buttonEl.style.display =\n",
              "          google.colab.kernel.accessAllowed ? 'block' : 'none';\n",
              "\n",
              "        async function convertToInteractive(key) {\n",
              "          const element = document.querySelector('#df-c647cfaf-4a78-486c-8fe6-818f345bed54');\n",
              "          const dataTable =\n",
              "            await google.colab.kernel.invokeFunction('convertToInteractive',\n",
              "                                                     [key], {});\n",
              "          if (!dataTable) return;\n",
              "\n",
              "          const docLinkHtml = 'Like what you see? Visit the ' +\n",
              "            '<a target=\"_blank\" href=https://colab.research.google.com/notebooks/data_table.ipynb>data table notebook</a>'\n",
              "            + ' to learn more about interactive tables.';\n",
              "          element.innerHTML = '';\n",
              "          dataTable['output_type'] = 'display_data';\n",
              "          await google.colab.output.renderOutput(dataTable, element);\n",
              "          const docLink = document.createElement('div');\n",
              "          docLink.innerHTML = docLinkHtml;\n",
              "          element.appendChild(docLink);\n",
              "        }\n",
              "      </script>\n",
              "    </div>\n",
              "  </div>\n",
              "  "
            ]
          },
          "metadata": {},
          "execution_count": 181
        }
      ]
    },
    {
      "cell_type": "markdown",
      "source": [
        "Evaluamos las siguientes columnas:"
      ],
      "metadata": {
        "id": "liu4m83dwZTJ"
      }
    },
    {
      "cell_type": "code",
      "source": [
        "print('Valor máximo de calidad del agua para alcalinidad:', data_copy[['C11']].max())\n",
        "print('Valor mínimo de calidad del agua para alcalinidad:', data_copy[['C11']].min())\n",
        "print('Delta:', data_copy[['C11']].max() - data_copy[['C11']].min())\n",
        "print('Mediana de calidad del agua para alcalinidad:', data_copy[['C11']].median())\n",
        "print('Moda de calidad del agua para alcalinidad:', data_copy[['C11']].mode())\n",
        "print('Promedio de calidad del agua para alcalinidad:', data_copy[['C11']].mean())\n",
        "print('Número de datos faltantes:', data_copy[['C11']].isnull().sum())\n",
        "print(f'Porcentaje de sezgo por manipulación {(4/data.shape[0])*100}%')"
      ],
      "metadata": {
        "colab": {
          "base_uri": "https://localhost:8080/",
          "height": 0
        },
        "id": "JazVh8USsauq",
        "outputId": "e956119b-feb9-4116-f570-e978042cdf15"
      },
      "execution_count": 182,
      "outputs": [
        {
          "output_type": "stream",
          "name": "stdout",
          "text": [
            "Valor máximo de calidad del agua para alcalinidad: C11    1650.0\n",
            "dtype: float64\n",
            "Valor mínimo de calidad del agua para alcalinidad: C11    26.64\n",
            "dtype: float64\n",
            "Delta: C11    1623.36\n",
            "dtype: float64\n",
            "Mediana de calidad del agua para alcalinidad: C11    215.5275\n",
            "dtype: float64\n",
            "Moda de calidad del agua para alcalinidad:       C11\n",
            "0  157.62\n",
            "Promedio de calidad del agua para alcalinidad: C11    235.633759\n",
            "dtype: float64\n",
            "Número de datos faltantes: C11    4\n",
            "dtype: int64\n",
            "Porcentaje de sezgo por manipulación 0.37453183520599254%\n"
          ]
        }
      ]
    },
    {
      "cell_type": "markdown",
      "source": [
        "Los datos faltantes constituyen un 0.37% de la muestra total, por lo que cambiarlos por la mediana no resultará en un gran sezgo pues no se afecta ni el 1% de los datos totales, la media y la mediana tienen valores similares, con 20.1 de diferencia, se utilizará el valor de mayor magnitud para cubrir el delta entre el valor máximo y el mínimo. "
      ],
      "metadata": {
        "id": "h9R1MrhRweoK"
      }
    },
    {
      "cell_type": "code",
      "source": [
        "data_copy['C11'].fillna(value = data_copy.C11.median().round(3), inplace = True)"
      ],
      "metadata": {
        "id": "WZkzGVS1spLj"
      },
      "execution_count": 183,
      "outputs": []
    },
    {
      "cell_type": "code",
      "source": [
        "data_copy[['C11']].isnull().sum()"
      ],
      "metadata": {
        "colab": {
          "base_uri": "https://localhost:8080/",
          "height": 0
        },
        "id": "3849FUtPsttA",
        "outputId": "b104fd76-e642-4788-935d-c815437d8963"
      },
      "execution_count": 184,
      "outputs": [
        {
          "output_type": "execute_result",
          "data": {
            "text/plain": [
              "C11    0\n",
              "dtype: int64"
            ]
          },
          "metadata": {},
          "execution_count": 184
        }
      ]
    },
    {
      "cell_type": "code",
      "source": [
        "print('Clasificación de variable:', data_copy[['C12']].dtypes)\n",
        "print('Número de datos faltantes:', data_copy[['C12']].isnull().sum())\n",
        "print(f'Porcentaje de sezgo por manipulación {(4/data.shape[0])*100}%')\n",
        "print('Primeros 2 renglones:',data_copy[['C12']].head(2))\n",
        "print('Moda:', data_copy[['C12']].mode())"
      ],
      "metadata": {
        "colab": {
          "base_uri": "https://localhost:8080/",
          "height": 0
        },
        "id": "ppQMv6vMsw8D",
        "outputId": "ebbbc126-f9b0-40e8-b7d4-d440221bea1a"
      },
      "execution_count": 185,
      "outputs": [
        {
          "output_type": "stream",
          "name": "stdout",
          "text": [
            "Clasificación de variable: C12    object\n",
            "dtype: object\n",
            "Número de datos faltantes: C12    4\n",
            "dtype: int64\n",
            "Porcentaje de sezgo por manipulación 0.37453183520599254%\n",
            "Primeros 2 renglones:     C12\n",
            "0  Alta\n",
            "1  Alta\n",
            "Moda:     C12\n",
            "0  Alta\n"
          ]
        }
      ]
    },
    {
      "cell_type": "markdown",
      "source": [
        "Notamos que es de tipo objeto o en mayor detalle es equivalente a str, luego se transformará usando *LabelEncoder* por ahora solamente llenamos esos espacios vacíos con la moda. "
      ],
      "metadata": {
        "id": "8X9cxA9rwjHT"
      }
    },
    {
      "cell_type": "code",
      "source": [
        "data_copy['C12'].fillna(value = data_copy.C12.mode()[0], inplace = True)"
      ],
      "metadata": {
        "id": "DbomrO4Us35R"
      },
      "execution_count": 186,
      "outputs": []
    },
    {
      "cell_type": "code",
      "source": [
        "data_copy[['C12']].isnull().sum()"
      ],
      "metadata": {
        "colab": {
          "base_uri": "https://localhost:8080/",
          "height": 0
        },
        "id": "OF_dtgMIs-Us",
        "outputId": "5bc2f11d-d358-4296-c018-78f54c12df87"
      },
      "execution_count": 187,
      "outputs": [
        {
          "output_type": "execute_result",
          "data": {
            "text/plain": [
              "C12    0\n",
              "dtype: int64"
            ]
          },
          "metadata": {},
          "execution_count": 187
        }
      ]
    },
    {
      "cell_type": "markdown",
      "source": [
        "Hay que hacer notar que las columnas: *CONDUCT_mS/cm* o *C13* y *CALIDAD_CONDUC* o *C14* son básicamente la medición y su clasificación/interpretación en relación a su uso en zonas de riego. Se mide la conductividad del agua haciendo uso del *SI* de unidades (Siemens por metro). La conductividad se define como la capacidad que tienen los materiales de dejar pasar corriente y es el inverso de la resistividad o la resistencia que presentan los materiales para dejar pasar corriente através, matemáticamente interpretada como:\n",
        "\n",
        "$\\sigma = \\mathcal{S} \\frac{\\ell}{A} \\ \\bigg[ \\frac{S}{m} \\bigg]$\n",
        "\n",
        "$\\sigma$ la conductividad, $\\mathcal{S}$ conductancia (inverso de la resistencia), $A$ el área transversal, $\\ell$ la longitud del material. \n",
        "\n",
        "Teniendo esto en cuenta podemos intuir que la escala indicada tiene un efecto directo en la eficiencia de las aguas de riego para el uso doméstico, la escala indica que:\n",
        "\n",
        "|Calidad del agua para Conductividad|Criterio Característico|\n",
        "|-----------------------------------|:----------------------|\n",
        "|Excelente para riego               |  $\\sigma \\leq 250$    | \n",
        "|Buena para riego |$ 250 < \\sigma \\leq 750 $ |\n",
        "|Permisible para riego|$ 750 < \\sigma \\leq 2000 $|\n",
        "|Dudosa para riego| $ 2000 < \\sigma \\leq 3000 $ |\n",
        "|Indeseable para riego| $ \\sigma >3000$|\n",
        "\n",
        "Entonces ambas columnas deben de tener resultados coherentes, debido a su escala y su critero."
      ],
      "metadata": {
        "id": "iVnIaiS0wmiL"
      }
    },
    {
      "cell_type": "code",
      "source": [
        "print('Clasificación de variable:', data_copy[['C13']].dtypes)\n",
        "print('Clasificación de variable:', data_copy[['C14']].dtypes)\n",
        "print('Número de datos faltantes:', data_copy[['C13']].isnull().sum())\n",
        "print('Número de datos faltantes:', data_copy[['C14']].isnull().sum())\n",
        "print(f'Porcentaje de sezgo por manipulación {(6/data.shape[0])*100}%')\n",
        "print('Valor máximo de calidad del agua conductividad:', data_copy[['C13']].max())\n",
        "print('Valor mínimo de calidad del agua conductividad:', data_copy[['C13']].min())\n",
        "print('Delta:', data_copy[['C13']].max() - data_copy[['C13']].min())\n",
        "print('Mediana de calidad del agua conductividad', data_copy[['C13']].median())\n",
        "print('Moda de calidad del agua conductividad:', data_copy[['C14']].mode())\n",
        "print('Promedio de calidad del agua conductividad:', data_copy[['C13']].mean())"
      ],
      "metadata": {
        "colab": {
          "base_uri": "https://localhost:8080/",
          "height": 0
        },
        "id": "6pj-gNRZtDvc",
        "outputId": "dbe61dab-543f-4193-f6e6-cfbf9b5dc3cc"
      },
      "execution_count": 188,
      "outputs": [
        {
          "output_type": "stream",
          "name": "stdout",
          "text": [
            "Clasificación de variable: C13    float64\n",
            "dtype: object\n",
            "Clasificación de variable: C14    object\n",
            "dtype: object\n",
            "Número de datos faltantes: C13    6\n",
            "dtype: int64\n",
            "Número de datos faltantes: C14    6\n",
            "dtype: int64\n",
            "Porcentaje de sezgo por manipulación 0.5617977528089888%\n",
            "Valor máximo de calidad del agua conductividad: C13    18577.0\n",
            "dtype: float64\n",
            "Valor mínimo de calidad del agua conductividad: C13    50.4\n",
            "dtype: float64\n",
            "Delta: C13    18526.6\n",
            "dtype: float64\n",
            "Mediana de calidad del agua conductividad C13    815.0\n",
            "dtype: float64\n",
            "Moda de calidad del agua conductividad:                      C14\n",
            "0  Permisible para riego\n",
            "Promedio de calidad del agua conductividad: C13    1138.953013\n",
            "dtype: float64\n"
          ]
        }
      ]
    },
    {
      "cell_type": "markdown",
      "source": [
        "No importa mucho si utilizamos la mediana o la media puesto que el rango en caso de sustitución permanece dentro del criterio *Permisible para riego* y no afectamos ni el uno por ciento de los datos, por ende ya sabemos que la siguiente columna tendrá que tener este criterio en los datos faltantes. "
      ],
      "metadata": {
        "id": "mHSECPXFwrgL"
      }
    },
    {
      "cell_type": "code",
      "source": [
        "data_copy['C13'].fillna(value = data_copy.C13.median(), inplace = True)\n",
        "data_copy['C14'].fillna(value = data_copy.C14.mode()[0], inplace = True)\n",
        "data_copy[['C13']].isnull().sum(),data_copy[['C14']].isnull().sum()"
      ],
      "metadata": {
        "colab": {
          "base_uri": "https://localhost:8080/",
          "height": 0
        },
        "id": "21gglvt-uQoU",
        "outputId": "b60bff38-9d38-47bf-8718-344200b15096"
      },
      "execution_count": 189,
      "outputs": [
        {
          "output_type": "execute_result",
          "data": {
            "text/plain": [
              "(C13    0\n",
              " dtype: int64, C14    0\n",
              " dtype: int64)"
            ]
          },
          "metadata": {},
          "execution_count": 189
        }
      ]
    },
    {
      "cell_type": "markdown",
      "source": [
        "De la misma forma esto sucede con las columnas de Calidad de agua para sólidos disueltos totales (agrícola y salinización): *SDT_M_mg/L* - escala, *CALIDAD_SDT_ra* - criterio para riego agrícola, *CALIDAD_SDT_salin* - criterio de salinización.\n",
        "\n",
        "**Riego Agrícola**:\n",
        "\n",
        "|Calidad del agua para sólidos disueltos totales|Criterio Característico R.A.|\n",
        "|-----------------------------------|:----------------------|\n",
        "|Excelente para riego               |  $\\mathcal{SDT} \\leq 500$    | \n",
        "|Cultivos sensibles |$ 500 < \\mathcal{SDT} \\leq 1000 $ |\n",
        "|Cultivos con manejo especial|$ 1000 < \\mathcal{SDT} \\leq 2000 $|\n",
        "|Cultivos tolerantes| $ 2000 < \\mathcal{SDT} \\leq 5000 $ |\n",
        "|Indeseable para riego| $ \\mathcal{SDT} >5000$|\n",
        "\n",
        "**Salinización**:\n",
        "\n",
        "|Calidad del agua para sólidos disueltos totales|Criterio Característico Salin|\n",
        "|-----------------------------------|:----------------------|\n",
        "|Potable - Dulce               |  $\\mathcal{SDT}\\leq 1000$    | \n",
        "|Ligeramente salobres |$ 1000 < \\mathcal{SDT} \\leq 2000 $ |\n",
        "|Salobres|$ 2000 < \\mathcal{SDT}\\leq 10000 $|\n",
        "|Salinas| $ \\mathcal{SDT} > 10000 $ |\n",
        "\n"
      ],
      "metadata": {
        "id": "DL2aLImdw1WM"
      }
    },
    {
      "cell_type": "code",
      "source": [
        "print('Clasificación de variable:', data_copy[['C15']].dtypes)\n",
        "print('Clasificación de variable:', data_copy[['C16']].dtypes)\n",
        "print('Clasificación de variable:', data_copy[['C17']].dtypes)"
      ],
      "metadata": {
        "colab": {
          "base_uri": "https://localhost:8080/",
          "height": 0
        },
        "id": "QnrC-GBtudyM",
        "outputId": "b71ed753-650d-4c67-d185-9a4310b3485e"
      },
      "execution_count": 190,
      "outputs": [
        {
          "output_type": "stream",
          "name": "stdout",
          "text": [
            "Clasificación de variable: C15    object\n",
            "dtype: object\n",
            "Clasificación de variable: C16    object\n",
            "dtype: object\n",
            "Clasificación de variable: C17    object\n",
            "dtype: object\n"
          ]
        }
      ]
    },
    {
      "cell_type": "code",
      "source": [
        "data_copy['C15'] = data_copy['C15'].str.replace('<', '').astype(np.float64)"
      ],
      "metadata": {
        "id": "hu90sL1Duib7"
      },
      "execution_count": 191,
      "outputs": []
    },
    {
      "cell_type": "code",
      "source": [
        "print('Clasificación de variable:', data_copy[['C15']].dtypes)\n",
        "print('Número de datos faltantes:', data_copy[['C15']].isnull().sum())\n",
        "print('Número de datos faltantes:', data_copy[['C16']].isnull().sum())\n",
        "print('Número de datos faltantes:', data_copy[['C16']].isnull().sum())\n",
        "print(f'Porcentaje de sezgo por manipulación {(2/data.shape[0])*100}%')\n",
        "print('Valor máximo de calidad del agua SDT:', data_copy[['C15']].max())\n",
        "print('Valor mínimo de calidad del agua SDT:', data_copy[['C15']].min())\n",
        "print('Delta:', data_copy[['C15']].max() - data_copy[['C15']].min())\n",
        "print('Mediana de calidad del agua SDT', data_copy[['C15']].median())\n",
        "print('Moda de calidad del agua SDT:', data_copy[['C16']].mode())\n",
        "print('Moda de calidad del agua SDT:', data_copy[['C17']].mode())\n",
        "print('Promedio de calidad del agua SDT:', data_copy[['C15']].mean())"
      ],
      "metadata": {
        "colab": {
          "base_uri": "https://localhost:8080/",
          "height": 0
        },
        "id": "uqTBzNyJumcX",
        "outputId": "17b69b00-68e1-4484-9f2b-887f355e2028"
      },
      "execution_count": 192,
      "outputs": [
        {
          "output_type": "stream",
          "name": "stdout",
          "text": [
            "Clasificación de variable: C15    float64\n",
            "dtype: object\n",
            "Número de datos faltantes: C15    2\n",
            "dtype: int64\n",
            "Número de datos faltantes: C16    2\n",
            "dtype: int64\n",
            "Número de datos faltantes: C16    2\n",
            "dtype: int64\n",
            "Porcentaje de sezgo por manipulación 0.18726591760299627%\n",
            "Valor máximo de calidad del agua SDT: C15    82170.0\n",
            "dtype: float64\n",
            "Valor mínimo de calidad del agua SDT: C15    25.0\n",
            "dtype: float64\n",
            "Delta: C15    82145.0\n",
            "dtype: float64\n",
            "Mediana de calidad del agua SDT C15    550.4\n",
            "dtype: float64\n",
            "Moda de calidad del agua SDT:                     C16\n",
            "0  Excelente para riego\n",
            "Moda de calidad del agua SDT:                C17\n",
            "0  Potable - Dulce\n",
            "Promedio de calidad del agua SDT: C15    896.101567\n",
            "dtype: float64\n"
          ]
        }
      ]
    },
    {
      "cell_type": "markdown",
      "source": [
        "Si se toma la mediana y o la media no afectan los criterios porque los valores caen dentro de los rangos de: *Cultivos Sensibles* y *Potable-Dulce*"
      ],
      "metadata": {
        "id": "MLGsoIALw43c"
      }
    },
    {
      "cell_type": "code",
      "source": [
        "data_copy['C15'].fillna(value = data_copy.C15.mean(), inplace = True)\n",
        "data_copy['C16'].fillna(value = 'Cultivos sensibles', inplace = True)\n",
        "data_copy['C17'].fillna(value = data_copy.C17.mode()[0], inplace = True)\n",
        "data_copy[['C15']].isnull().sum(),data_copy[['C16']].isnull().sum(),data_copy[['C17']].isnull().sum()"
      ],
      "metadata": {
        "colab": {
          "base_uri": "https://localhost:8080/",
          "height": 0
        },
        "id": "aBpMrAMzuzGd",
        "outputId": "21ea35e4-6bc3-47a4-a3ad-1de14c9aa791"
      },
      "execution_count": 193,
      "outputs": [
        {
          "output_type": "execute_result",
          "data": {
            "text/plain": [
              "(C15    0\n",
              " dtype: int64, C16    0\n",
              " dtype: int64, C17    0\n",
              " dtype: int64)"
            ]
          },
          "metadata": {},
          "execution_count": 193
        }
      ]
    },
    {
      "cell_type": "code",
      "source": [
        "data_copy.isna().any()"
      ],
      "metadata": {
        "colab": {
          "base_uri": "https://localhost:8080/",
          "height": 0
        },
        "id": "mGbRQV13u6Q_",
        "outputId": "0766feaf-700f-427c-a158-fae1d60668ce"
      },
      "execution_count": 194,
      "outputs": [
        {
          "output_type": "execute_result",
          "data": {
            "text/plain": [
              "C1     False\n",
              "C2     False\n",
              "C3     False\n",
              "C4     False\n",
              "C5     False\n",
              "C6     False\n",
              "C7     False\n",
              "C8     False\n",
              "C9     False\n",
              "C10    False\n",
              "C11    False\n",
              "C12    False\n",
              "C13    False\n",
              "C14    False\n",
              "C15    False\n",
              "C16    False\n",
              "C17    False\n",
              "C18    False\n",
              "C19    False\n",
              "C20     True\n",
              "C21     True\n",
              "C22    False\n",
              "C23    False\n",
              "C24     True\n",
              "C25     True\n",
              "C26    False\n",
              "C27    False\n",
              "C28    False\n",
              "C29    False\n",
              "C30    False\n",
              "C31    False\n",
              "C32    False\n",
              "C33    False\n",
              "C34    False\n",
              "C35    False\n",
              "C36    False\n",
              "C37    False\n",
              "C38    False\n",
              "C39    False\n",
              "C40    False\n",
              "C41     True\n",
              "C42    False\n",
              "C43    False\n",
              "C44    False\n",
              "C45    False\n",
              "C46    False\n",
              "C47    False\n",
              "C48    False\n",
              "C49    False\n",
              "C50    False\n",
              "C51    False\n",
              "C52    False\n",
              "C53    False\n",
              "C54    False\n",
              "C55    False\n",
              "C56    False\n",
              "dtype: bool"
            ]
          },
          "metadata": {},
          "execution_count": 194
        }
      ]
    },
    {
      "cell_type": "code",
      "source": [
        "print('Clasificación de variable:', data_copy[['C20']].dtypes)\n",
        "print('Clasificación de variable:', data_copy[['C21']].dtypes)"
      ],
      "metadata": {
        "colab": {
          "base_uri": "https://localhost:8080/",
          "height": 0
        },
        "id": "B6V3hpRqu-3A",
        "outputId": "4a7d28ba-89cf-4381-faf1-8806e807ea98"
      },
      "execution_count": 195,
      "outputs": [
        {
          "output_type": "stream",
          "name": "stdout",
          "text": [
            "Clasificación de variable: C20    object\n",
            "dtype: object\n",
            "Clasificación de variable: C21    object\n",
            "dtype: object\n"
          ]
        }
      ]
    },
    {
      "cell_type": "code",
      "source": [
        "data_copy[['C20']].isnull().sum(),data_copy[['C21']].isnull().sum()"
      ],
      "metadata": {
        "colab": {
          "base_uri": "https://localhost:8080/",
          "height": 0
        },
        "id": "Pawndt6yvCb8",
        "outputId": "387e7644-01d7-4708-ba59-b8af4bb46534"
      },
      "execution_count": 196,
      "outputs": [
        {
          "output_type": "execute_result",
          "data": {
            "text/plain": [
              "(C20    1\n",
              " dtype: int64, C21    1\n",
              " dtype: int64)"
            ]
          },
          "metadata": {},
          "execution_count": 196
        }
      ]
    },
    {
      "cell_type": "code",
      "source": [
        "data_copy[['C20']].head(3)"
      ],
      "metadata": {
        "colab": {
          "base_uri": "https://localhost:8080/",
          "height": 143
        },
        "id": "NxpIAOezvGJQ",
        "outputId": "8c1ccd62-e479-4337-b5e1-8ca210b49c6a"
      },
      "execution_count": 197,
      "outputs": [
        {
          "output_type": "execute_result",
          "data": {
            "text/plain": [
              "        C20\n",
              "0   213.732\n",
              "1  185.0514\n",
              "2   120.719"
            ],
            "text/html": [
              "\n",
              "  <div id=\"df-89ca2d7b-a32d-4d8b-a53d-a72afc31877f\">\n",
              "    <div class=\"colab-df-container\">\n",
              "      <div>\n",
              "<style scoped>\n",
              "    .dataframe tbody tr th:only-of-type {\n",
              "        vertical-align: middle;\n",
              "    }\n",
              "\n",
              "    .dataframe tbody tr th {\n",
              "        vertical-align: top;\n",
              "    }\n",
              "\n",
              "    .dataframe thead th {\n",
              "        text-align: right;\n",
              "    }\n",
              "</style>\n",
              "<table border=\"1\" class=\"dataframe\">\n",
              "  <thead>\n",
              "    <tr style=\"text-align: right;\">\n",
              "      <th></th>\n",
              "      <th>C20</th>\n",
              "    </tr>\n",
              "  </thead>\n",
              "  <tbody>\n",
              "    <tr>\n",
              "      <th>0</th>\n",
              "      <td>213.732</td>\n",
              "    </tr>\n",
              "    <tr>\n",
              "      <th>1</th>\n",
              "      <td>185.0514</td>\n",
              "    </tr>\n",
              "    <tr>\n",
              "      <th>2</th>\n",
              "      <td>120.719</td>\n",
              "    </tr>\n",
              "  </tbody>\n",
              "</table>\n",
              "</div>\n",
              "      <button class=\"colab-df-convert\" onclick=\"convertToInteractive('df-89ca2d7b-a32d-4d8b-a53d-a72afc31877f')\"\n",
              "              title=\"Convert this dataframe to an interactive table.\"\n",
              "              style=\"display:none;\">\n",
              "        \n",
              "  <svg xmlns=\"http://www.w3.org/2000/svg\" height=\"24px\"viewBox=\"0 0 24 24\"\n",
              "       width=\"24px\">\n",
              "    <path d=\"M0 0h24v24H0V0z\" fill=\"none\"/>\n",
              "    <path d=\"M18.56 5.44l.94 2.06.94-2.06 2.06-.94-2.06-.94-.94-2.06-.94 2.06-2.06.94zm-11 1L8.5 8.5l.94-2.06 2.06-.94-2.06-.94L8.5 2.5l-.94 2.06-2.06.94zm10 10l.94 2.06.94-2.06 2.06-.94-2.06-.94-.94-2.06-.94 2.06-2.06.94z\"/><path d=\"M17.41 7.96l-1.37-1.37c-.4-.4-.92-.59-1.43-.59-.52 0-1.04.2-1.43.59L10.3 9.45l-7.72 7.72c-.78.78-.78 2.05 0 2.83L4 21.41c.39.39.9.59 1.41.59.51 0 1.02-.2 1.41-.59l7.78-7.78 2.81-2.81c.8-.78.8-2.07 0-2.86zM5.41 20L4 18.59l7.72-7.72 1.47 1.35L5.41 20z\"/>\n",
              "  </svg>\n",
              "      </button>\n",
              "      \n",
              "  <style>\n",
              "    .colab-df-container {\n",
              "      display:flex;\n",
              "      flex-wrap:wrap;\n",
              "      gap: 12px;\n",
              "    }\n",
              "\n",
              "    .colab-df-convert {\n",
              "      background-color: #E8F0FE;\n",
              "      border: none;\n",
              "      border-radius: 50%;\n",
              "      cursor: pointer;\n",
              "      display: none;\n",
              "      fill: #1967D2;\n",
              "      height: 32px;\n",
              "      padding: 0 0 0 0;\n",
              "      width: 32px;\n",
              "    }\n",
              "\n",
              "    .colab-df-convert:hover {\n",
              "      background-color: #E2EBFA;\n",
              "      box-shadow: 0px 1px 2px rgba(60, 64, 67, 0.3), 0px 1px 3px 1px rgba(60, 64, 67, 0.15);\n",
              "      fill: #174EA6;\n",
              "    }\n",
              "\n",
              "    [theme=dark] .colab-df-convert {\n",
              "      background-color: #3B4455;\n",
              "      fill: #D2E3FC;\n",
              "    }\n",
              "\n",
              "    [theme=dark] .colab-df-convert:hover {\n",
              "      background-color: #434B5C;\n",
              "      box-shadow: 0px 1px 3px 1px rgba(0, 0, 0, 0.15);\n",
              "      filter: drop-shadow(0px 1px 2px rgba(0, 0, 0, 0.3));\n",
              "      fill: #FFFFFF;\n",
              "    }\n",
              "  </style>\n",
              "\n",
              "      <script>\n",
              "        const buttonEl =\n",
              "          document.querySelector('#df-89ca2d7b-a32d-4d8b-a53d-a72afc31877f button.colab-df-convert');\n",
              "        buttonEl.style.display =\n",
              "          google.colab.kernel.accessAllowed ? 'block' : 'none';\n",
              "\n",
              "        async function convertToInteractive(key) {\n",
              "          const element = document.querySelector('#df-89ca2d7b-a32d-4d8b-a53d-a72afc31877f');\n",
              "          const dataTable =\n",
              "            await google.colab.kernel.invokeFunction('convertToInteractive',\n",
              "                                                     [key], {});\n",
              "          if (!dataTable) return;\n",
              "\n",
              "          const docLinkHtml = 'Like what you see? Visit the ' +\n",
              "            '<a target=\"_blank\" href=https://colab.research.google.com/notebooks/data_table.ipynb>data table notebook</a>'\n",
              "            + ' to learn more about interactive tables.';\n",
              "          element.innerHTML = '';\n",
              "          dataTable['output_type'] = 'display_data';\n",
              "          await google.colab.output.renderOutput(dataTable, element);\n",
              "          const docLink = document.createElement('div');\n",
              "          docLink.innerHTML = docLinkHtml;\n",
              "          element.appendChild(docLink);\n",
              "        }\n",
              "      </script>\n",
              "    </div>\n",
              "  </div>\n",
              "  "
            ]
          },
          "metadata": {},
          "execution_count": 197
        }
      ]
    },
    {
      "cell_type": "code",
      "source": [
        "data_copy['C20'] = data_copy['C20'].str.replace('<', '').astype(np.float64)"
      ],
      "metadata": {
        "id": "rcnTiGcPvI7A"
      },
      "execution_count": 198,
      "outputs": []
    },
    {
      "cell_type": "code",
      "source": [
        "print('Promedio de calidad del agua DUR:', data_copy[['C20']].mean())\n",
        "print('Mediana de calidad del agua DUR', data_copy[['C20']].median())\n",
        "print('Moda de calidad del agua DUR:', data_copy[['C21']].mode())"
      ],
      "metadata": {
        "colab": {
          "base_uri": "https://localhost:8080/",
          "height": 0
        },
        "id": "B8Muab8_vMmr",
        "outputId": "3738531e-517c-4061-9e2d-739aa3582ef8"
      },
      "execution_count": 199,
      "outputs": [
        {
          "output_type": "stream",
          "name": "stdout",
          "text": [
            "Promedio de calidad del agua DUR: C20    347.938073\n",
            "dtype: float64\n",
            "Mediana de calidad del agua DUR C20    245.3358\n",
            "dtype: float64\n",
            "Moda de calidad del agua DUR:               C21\n",
            "0  Potable - Dura\n"
          ]
        }
      ]
    },
    {
      "cell_type": "markdown",
      "source": [
        "La media y la mediana caen dentro del mismo rango.\n",
        "\n",
        "|Calidad del agua para dureza|Criterio Característico|\n",
        "|-----------------------------------|:----------------------|\n",
        "|Potable - Suave               |  $\\mathcal{DUR}\\leq 60$    | \n",
        "|Potable - Moderadamente suave |$ 60 < \\mathcal{DUR} \\leq 120 $ |\n",
        "|Potable - Dura                |$ 120 < \\mathcal{DUR} \\leq 500 $ |\n",
        "|Muy dura e indeseable usos industrial y doméstico|$\\mathcal{DUR} > 120 $ |"
      ],
      "metadata": {
        "id": "-5S67_PQw_xk"
      }
    },
    {
      "cell_type": "code",
      "source": [
        "data_copy['C20'].fillna(value = data_copy.C20.mean(), inplace = True)\n",
        "data_copy['C21'].fillna(value = data_copy.C21.mode()[0], inplace = True)"
      ],
      "metadata": {
        "id": "AZ4TqbvRvRS9"
      },
      "execution_count": 200,
      "outputs": []
    },
    {
      "cell_type": "code",
      "source": [
        "data_copy[['C20']].isnull().sum(),data_copy[['C21']].isnull().sum()"
      ],
      "metadata": {
        "colab": {
          "base_uri": "https://localhost:8080/",
          "height": 0
        },
        "id": "MYDyeVdlvV_G",
        "outputId": "88086149-c4fb-4483-cb15-c3460fded834"
      },
      "execution_count": 201,
      "outputs": [
        {
          "output_type": "execute_result",
          "data": {
            "text/plain": [
              "(C20    0\n",
              " dtype: int64, C21    0\n",
              " dtype: int64)"
            ]
          },
          "metadata": {},
          "execution_count": 201
        }
      ]
    },
    {
      "cell_type": "code",
      "source": [
        "data_copy.isna().any()"
      ],
      "metadata": {
        "colab": {
          "base_uri": "https://localhost:8080/",
          "height": 0
        },
        "id": "rL6oBg0XvaXP",
        "outputId": "8116c6dc-b353-4de7-a257-6d76e7156679"
      },
      "execution_count": 202,
      "outputs": [
        {
          "output_type": "execute_result",
          "data": {
            "text/plain": [
              "C1     False\n",
              "C2     False\n",
              "C3     False\n",
              "C4     False\n",
              "C5     False\n",
              "C6     False\n",
              "C7     False\n",
              "C8     False\n",
              "C9     False\n",
              "C10    False\n",
              "C11    False\n",
              "C12    False\n",
              "C13    False\n",
              "C14    False\n",
              "C15    False\n",
              "C16    False\n",
              "C17    False\n",
              "C18    False\n",
              "C19    False\n",
              "C20    False\n",
              "C21    False\n",
              "C22    False\n",
              "C23    False\n",
              "C24     True\n",
              "C25     True\n",
              "C26    False\n",
              "C27    False\n",
              "C28    False\n",
              "C29    False\n",
              "C30    False\n",
              "C31    False\n",
              "C32    False\n",
              "C33    False\n",
              "C34    False\n",
              "C35    False\n",
              "C36    False\n",
              "C37    False\n",
              "C38    False\n",
              "C39    False\n",
              "C40    False\n",
              "C41     True\n",
              "C42    False\n",
              "C43    False\n",
              "C44    False\n",
              "C45    False\n",
              "C46    False\n",
              "C47    False\n",
              "C48    False\n",
              "C49    False\n",
              "C50    False\n",
              "C51    False\n",
              "C52    False\n",
              "C53    False\n",
              "C54    False\n",
              "C55    False\n",
              "C56    False\n",
              "dtype: bool"
            ]
          },
          "metadata": {},
          "execution_count": 202
        }
      ]
    },
    {
      "cell_type": "code",
      "source": [
        "data_copy[['C24']].isnull().sum(),data_copy[['C25']].isnull().sum()"
      ],
      "metadata": {
        "colab": {
          "base_uri": "https://localhost:8080/",
          "height": 0
        },
        "id": "CupQTeFHvcPb",
        "outputId": "5c1ceeea-bb1d-4109-e026-efae17289d4c"
      },
      "execution_count": 203,
      "outputs": [
        {
          "output_type": "execute_result",
          "data": {
            "text/plain": [
              "(C24    1\n",
              " dtype: int64, C25    1\n",
              " dtype: int64)"
            ]
          },
          "metadata": {},
          "execution_count": 203
        }
      ]
    },
    {
      "cell_type": "code",
      "source": [
        "print('Clasificación de variable:', data_copy[['C24']].dtypes)\n",
        "print('Clasificación de variable:', data_copy[['C25']].dtypes)"
      ],
      "metadata": {
        "colab": {
          "base_uri": "https://localhost:8080/",
          "height": 0
        },
        "id": "ndQLKGG7vg5D",
        "outputId": "a10582b0-2f7f-47b1-b6f5-87046af3416e"
      },
      "execution_count": 204,
      "outputs": [
        {
          "output_type": "stream",
          "name": "stdout",
          "text": [
            "Clasificación de variable: C24    object\n",
            "dtype: object\n",
            "Clasificación de variable: C25    object\n",
            "dtype: object\n"
          ]
        }
      ]
    },
    {
      "cell_type": "code",
      "source": [
        "data_copy[['C24']].head(3)"
      ],
      "metadata": {
        "colab": {
          "base_uri": "https://localhost:8080/",
          "height": 143
        },
        "id": "VwJ6h5DVvlH-",
        "outputId": "bd8b90cf-b882-49e4-940b-68bc097a52d7"
      },
      "execution_count": 205,
      "outputs": [
        {
          "output_type": "execute_result",
          "data": {
            "text/plain": [
              "        C24\n",
              "0  4.184656\n",
              "1   5.75011\n",
              "2  1.449803"
            ],
            "text/html": [
              "\n",
              "  <div id=\"df-c85674d8-cb73-40bc-8db4-2d75bdfa0830\">\n",
              "    <div class=\"colab-df-container\">\n",
              "      <div>\n",
              "<style scoped>\n",
              "    .dataframe tbody tr th:only-of-type {\n",
              "        vertical-align: middle;\n",
              "    }\n",
              "\n",
              "    .dataframe tbody tr th {\n",
              "        vertical-align: top;\n",
              "    }\n",
              "\n",
              "    .dataframe thead th {\n",
              "        text-align: right;\n",
              "    }\n",
              "</style>\n",
              "<table border=\"1\" class=\"dataframe\">\n",
              "  <thead>\n",
              "    <tr style=\"text-align: right;\">\n",
              "      <th></th>\n",
              "      <th>C24</th>\n",
              "    </tr>\n",
              "  </thead>\n",
              "  <tbody>\n",
              "    <tr>\n",
              "      <th>0</th>\n",
              "      <td>4.184656</td>\n",
              "    </tr>\n",
              "    <tr>\n",
              "      <th>1</th>\n",
              "      <td>5.75011</td>\n",
              "    </tr>\n",
              "    <tr>\n",
              "      <th>2</th>\n",
              "      <td>1.449803</td>\n",
              "    </tr>\n",
              "  </tbody>\n",
              "</table>\n",
              "</div>\n",
              "      <button class=\"colab-df-convert\" onclick=\"convertToInteractive('df-c85674d8-cb73-40bc-8db4-2d75bdfa0830')\"\n",
              "              title=\"Convert this dataframe to an interactive table.\"\n",
              "              style=\"display:none;\">\n",
              "        \n",
              "  <svg xmlns=\"http://www.w3.org/2000/svg\" height=\"24px\"viewBox=\"0 0 24 24\"\n",
              "       width=\"24px\">\n",
              "    <path d=\"M0 0h24v24H0V0z\" fill=\"none\"/>\n",
              "    <path d=\"M18.56 5.44l.94 2.06.94-2.06 2.06-.94-2.06-.94-.94-2.06-.94 2.06-2.06.94zm-11 1L8.5 8.5l.94-2.06 2.06-.94-2.06-.94L8.5 2.5l-.94 2.06-2.06.94zm10 10l.94 2.06.94-2.06 2.06-.94-2.06-.94-.94-2.06-.94 2.06-2.06.94z\"/><path d=\"M17.41 7.96l-1.37-1.37c-.4-.4-.92-.59-1.43-.59-.52 0-1.04.2-1.43.59L10.3 9.45l-7.72 7.72c-.78.78-.78 2.05 0 2.83L4 21.41c.39.39.9.59 1.41.59.51 0 1.02-.2 1.41-.59l7.78-7.78 2.81-2.81c.8-.78.8-2.07 0-2.86zM5.41 20L4 18.59l7.72-7.72 1.47 1.35L5.41 20z\"/>\n",
              "  </svg>\n",
              "      </button>\n",
              "      \n",
              "  <style>\n",
              "    .colab-df-container {\n",
              "      display:flex;\n",
              "      flex-wrap:wrap;\n",
              "      gap: 12px;\n",
              "    }\n",
              "\n",
              "    .colab-df-convert {\n",
              "      background-color: #E8F0FE;\n",
              "      border: none;\n",
              "      border-radius: 50%;\n",
              "      cursor: pointer;\n",
              "      display: none;\n",
              "      fill: #1967D2;\n",
              "      height: 32px;\n",
              "      padding: 0 0 0 0;\n",
              "      width: 32px;\n",
              "    }\n",
              "\n",
              "    .colab-df-convert:hover {\n",
              "      background-color: #E2EBFA;\n",
              "      box-shadow: 0px 1px 2px rgba(60, 64, 67, 0.3), 0px 1px 3px 1px rgba(60, 64, 67, 0.15);\n",
              "      fill: #174EA6;\n",
              "    }\n",
              "\n",
              "    [theme=dark] .colab-df-convert {\n",
              "      background-color: #3B4455;\n",
              "      fill: #D2E3FC;\n",
              "    }\n",
              "\n",
              "    [theme=dark] .colab-df-convert:hover {\n",
              "      background-color: #434B5C;\n",
              "      box-shadow: 0px 1px 3px 1px rgba(0, 0, 0, 0.15);\n",
              "      filter: drop-shadow(0px 1px 2px rgba(0, 0, 0, 0.3));\n",
              "      fill: #FFFFFF;\n",
              "    }\n",
              "  </style>\n",
              "\n",
              "      <script>\n",
              "        const buttonEl =\n",
              "          document.querySelector('#df-c85674d8-cb73-40bc-8db4-2d75bdfa0830 button.colab-df-convert');\n",
              "        buttonEl.style.display =\n",
              "          google.colab.kernel.accessAllowed ? 'block' : 'none';\n",
              "\n",
              "        async function convertToInteractive(key) {\n",
              "          const element = document.querySelector('#df-c85674d8-cb73-40bc-8db4-2d75bdfa0830');\n",
              "          const dataTable =\n",
              "            await google.colab.kernel.invokeFunction('convertToInteractive',\n",
              "                                                     [key], {});\n",
              "          if (!dataTable) return;\n",
              "\n",
              "          const docLinkHtml = 'Like what you see? Visit the ' +\n",
              "            '<a target=\"_blank\" href=https://colab.research.google.com/notebooks/data_table.ipynb>data table notebook</a>'\n",
              "            + ' to learn more about interactive tables.';\n",
              "          element.innerHTML = '';\n",
              "          dataTable['output_type'] = 'display_data';\n",
              "          await google.colab.output.renderOutput(dataTable, element);\n",
              "          const docLink = document.createElement('div');\n",
              "          docLink.innerHTML = docLinkHtml;\n",
              "          element.appendChild(docLink);\n",
              "        }\n",
              "      </script>\n",
              "    </div>\n",
              "  </div>\n",
              "  "
            ]
          },
          "metadata": {},
          "execution_count": 205
        }
      ]
    },
    {
      "cell_type": "code",
      "source": [
        "data_copy['C24'] = data_copy['C24'].str.replace('<', '').astype(np.float64)"
      ],
      "metadata": {
        "id": "YKKbFsncvn2B"
      },
      "execution_count": 206,
      "outputs": []
    },
    {
      "cell_type": "code",
      "source": [
        "print('Promedio de calidad del agua SDT:', data_copy[['C24']].mean())\n",
        "print('Mediana de calidad del agua SDT', data_copy[['C24']].median())\n",
        "print('Moda de calidad del agua DUR:', data_copy[['C25']].mode())"
      ],
      "metadata": {
        "colab": {
          "base_uri": "https://localhost:8080/",
          "height": 0
        },
        "id": "xTz23fxUvqw8",
        "outputId": "41a341dc-38a0-4327-a091-12555dff1a6f"
      },
      "execution_count": 207,
      "outputs": [
        {
          "output_type": "stream",
          "name": "stdout",
          "text": [
            "Promedio de calidad del agua SDT: C24    4.319759\n",
            "dtype: float64\n",
            "Mediana de calidad del agua SDT C24    2.080932\n",
            "dtype: float64\n",
            "Moda de calidad del agua DUR:                    C25\n",
            "0  Potable - Excelente\n"
          ]
        }
      ]
    },
    {
      "cell_type": "markdown",
      "source": [
        "|Calidad del agua para nitrógeno de nitratos|Criterio Característico|\n",
        "|-----------------------------------|:----------------------|\n",
        "|Potable - Excelente              |  $N/NO_{3}\\leq 5$    | \n",
        "|Potable - Buena calidad |$ 5 < N/NO_{3} \\leq 11 $ |\n",
        "|No apta como FAAP            |$  N/NO_{3} > 11 $ |"
      ],
      "metadata": {
        "id": "ahj2VBvmxDo8"
      }
    },
    {
      "cell_type": "code",
      "source": [
        "data_copy['C24'].fillna(value = data_copy.C24.mean(), inplace = True)\n",
        "data_copy['C25'].fillna(value = data_copy.C25.mode()[0], inplace = True)"
      ],
      "metadata": {
        "id": "lQ0BnVWPvvrG"
      },
      "execution_count": 208,
      "outputs": []
    },
    {
      "cell_type": "code",
      "source": [
        "data_copy[['C41']].isnull().sum()"
      ],
      "metadata": {
        "colab": {
          "base_uri": "https://localhost:8080/",
          "height": 0
        },
        "id": "-1XBLTmCvzY1",
        "outputId": "d86f1ac4-a18b-4435-a413-461baaf84ebc"
      },
      "execution_count": 209,
      "outputs": [
        {
          "output_type": "execute_result",
          "data": {
            "text/plain": [
              "C41    434\n",
              "dtype: int64"
            ]
          },
          "metadata": {},
          "execution_count": 209
        }
      ]
    },
    {
      "cell_type": "code",
      "source": [
        "# Re transformamos a los nombres de las columnas originales:\n",
        "\n",
        "data_copy.columns = column_names"
      ],
      "metadata": {
        "id": "_C85xkfiv3vZ"
      },
      "execution_count": 210,
      "outputs": []
    },
    {
      "cell_type": "code",
      "source": [
        "data_copy.isna().any()"
      ],
      "metadata": {
        "colab": {
          "base_uri": "https://localhost:8080/",
          "height": 0
        },
        "id": "ppsyF3FZv6gY",
        "outputId": "98082c6b-36c7-42fe-d3eb-2b386e68894e"
      },
      "execution_count": 211,
      "outputs": [
        {
          "output_type": "execute_result",
          "data": {
            "text/plain": [
              "CLAVE                   False\n",
              "SITIO                   False\n",
              "ORGANISMO_DE_CUENCA     False\n",
              "ESTADO                  False\n",
              "MUNICIPIO               False\n",
              "ACUIFERO                False\n",
              "SUBTIPO                 False\n",
              "LONGITUD                False\n",
              "LATITUD                 False\n",
              "PERIODO                 False\n",
              "ALC_mg/L                False\n",
              "CALIDAD_ALC             False\n",
              "CONDUCT_mS/cm           False\n",
              "CALIDAD_CONDUC          False\n",
              "SDT_M_mg/L              False\n",
              "CALIDAD_SDT_ra          False\n",
              "CALIDAD_SDT_salin       False\n",
              "FLUORUROS_mg/L          False\n",
              "CALIDAD_FLUO            False\n",
              "DUR_mg/L                False\n",
              "CALIDAD_DUR             False\n",
              "COLI_FEC_NMP/100_mL     False\n",
              "CALIDAD_COLI_FEC        False\n",
              "N_NO3_mg/L              False\n",
              "CALIDAD_N_NO3           False\n",
              "AS_TOT_mg/L             False\n",
              "CALIDAD_AS              False\n",
              "CD_TOT_mg/L             False\n",
              "CALIDAD_CD              False\n",
              "CR_TOT_mg/L             False\n",
              "CALIDAD_CR              False\n",
              "HG_TOT_mg/L             False\n",
              "CALIDAD_HG              False\n",
              "PB_TOT_mg/L             False\n",
              "CALIDAD_PB              False\n",
              "MN_TOT_mg/L             False\n",
              "CALIDAD_MN              False\n",
              "FE_TOT_mg/L             False\n",
              "CALIDAD_FE              False\n",
              "SEMAFORO                False\n",
              "CONTAMINANTES            True\n",
              "CUMPLE_CON_ALC          False\n",
              "CUMPLE_CON_COND         False\n",
              "CUMPLE_CON_SDT_ra       False\n",
              "CUMPLE_CON_SDT_salin    False\n",
              "CUMPLE_CON_FLUO         False\n",
              "CUMPLE_CON_DUR          False\n",
              "CUMPLE_CON_CF           False\n",
              "CUMPLE_CON_NO3          False\n",
              "CUMPLE_CON_AS           False\n",
              "CUMPLE_CON_CD           False\n",
              "CUMPLE_CON_CR           False\n",
              "CUMPLE_CON_HG           False\n",
              "CUMPLE_CON_PB           False\n",
              "CUMPLE_CON_MN           False\n",
              "CUMPLE_CON_FE           False\n",
              "dtype: bool"
            ]
          },
          "metadata": {},
          "execution_count": 211
        }
      ]
    },
    {
      "cell_type": "code",
      "source": [
        "index = data_copy.index[0] \n",
        "data_copy.iloc[index - 4: index + 4, :]"
      ],
      "metadata": {
        "colab": {
          "base_uri": "https://localhost:8080/",
          "height": 113
        },
        "id": "rYXBHAPqv8ru",
        "outputId": "6d64b4da-8b17-4ace-cd21-569a632866d7"
      },
      "execution_count": 213,
      "outputs": [
        {
          "output_type": "execute_result",
          "data": {
            "text/plain": [
              "Empty DataFrame\n",
              "Columns: [(CLAVE,), (SITIO,), (ORGANISMO_DE_CUENCA,), (ESTADO,), (MUNICIPIO,), (ACUIFERO,), (SUBTIPO,), (LONGITUD,), (LATITUD,), (PERIODO,), (ALC_mg/L,), (CALIDAD_ALC,), (CONDUCT_mS/cm,), (CALIDAD_CONDUC,), (SDT_M_mg/L,), (CALIDAD_SDT_ra,), (CALIDAD_SDT_salin,), (FLUORUROS_mg/L,), (CALIDAD_FLUO,), (DUR_mg/L,), (CALIDAD_DUR,), (COLI_FEC_NMP/100_mL,), (CALIDAD_COLI_FEC,), (N_NO3_mg/L,), (CALIDAD_N_NO3,), (AS_TOT_mg/L,), (CALIDAD_AS,), (CD_TOT_mg/L,), (CALIDAD_CD,), (CR_TOT_mg/L,), (CALIDAD_CR,), (HG_TOT_mg/L,), (CALIDAD_HG,), (PB_TOT_mg/L,), (CALIDAD_PB,), (MN_TOT_mg/L,), (CALIDAD_MN,), (FE_TOT_mg/L,), (CALIDAD_FE,), (SEMAFORO,), (CONTAMINANTES,), (CUMPLE_CON_ALC,), (CUMPLE_CON_COND,), (CUMPLE_CON_SDT_ra,), (CUMPLE_CON_SDT_salin,), (CUMPLE_CON_FLUO,), (CUMPLE_CON_DUR,), (CUMPLE_CON_CF,), (CUMPLE_CON_NO3,), (CUMPLE_CON_AS,), (CUMPLE_CON_CD,), (CUMPLE_CON_CR,), (CUMPLE_CON_HG,), (CUMPLE_CON_PB,), (CUMPLE_CON_MN,), (CUMPLE_CON_FE,)]\n",
              "Index: []"
            ],
            "text/html": [
              "\n",
              "  <div id=\"df-7d22da75-d0f9-4a97-8773-ede0520fa331\">\n",
              "    <div class=\"colab-df-container\">\n",
              "      <div>\n",
              "<style scoped>\n",
              "    .dataframe tbody tr th:only-of-type {\n",
              "        vertical-align: middle;\n",
              "    }\n",
              "\n",
              "    .dataframe tbody tr th {\n",
              "        vertical-align: top;\n",
              "    }\n",
              "\n",
              "    .dataframe thead tr th {\n",
              "        text-align: left;\n",
              "    }\n",
              "</style>\n",
              "<table border=\"1\" class=\"dataframe\">\n",
              "  <thead>\n",
              "    <tr>\n",
              "      <th></th>\n",
              "      <th>CLAVE</th>\n",
              "      <th>SITIO</th>\n",
              "      <th>ORGANISMO_DE_CUENCA</th>\n",
              "      <th>ESTADO</th>\n",
              "      <th>MUNICIPIO</th>\n",
              "      <th>ACUIFERO</th>\n",
              "      <th>SUBTIPO</th>\n",
              "      <th>LONGITUD</th>\n",
              "      <th>LATITUD</th>\n",
              "      <th>PERIODO</th>\n",
              "      <th>ALC_mg/L</th>\n",
              "      <th>CALIDAD_ALC</th>\n",
              "      <th>CONDUCT_mS/cm</th>\n",
              "      <th>CALIDAD_CONDUC</th>\n",
              "      <th>SDT_M_mg/L</th>\n",
              "      <th>CALIDAD_SDT_ra</th>\n",
              "      <th>CALIDAD_SDT_salin</th>\n",
              "      <th>FLUORUROS_mg/L</th>\n",
              "      <th>CALIDAD_FLUO</th>\n",
              "      <th>DUR_mg/L</th>\n",
              "      <th>CALIDAD_DUR</th>\n",
              "      <th>COLI_FEC_NMP/100_mL</th>\n",
              "      <th>CALIDAD_COLI_FEC</th>\n",
              "      <th>N_NO3_mg/L</th>\n",
              "      <th>CALIDAD_N_NO3</th>\n",
              "      <th>AS_TOT_mg/L</th>\n",
              "      <th>CALIDAD_AS</th>\n",
              "      <th>CD_TOT_mg/L</th>\n",
              "      <th>CALIDAD_CD</th>\n",
              "      <th>CR_TOT_mg/L</th>\n",
              "      <th>CALIDAD_CR</th>\n",
              "      <th>HG_TOT_mg/L</th>\n",
              "      <th>CALIDAD_HG</th>\n",
              "      <th>PB_TOT_mg/L</th>\n",
              "      <th>CALIDAD_PB</th>\n",
              "      <th>MN_TOT_mg/L</th>\n",
              "      <th>CALIDAD_MN</th>\n",
              "      <th>FE_TOT_mg/L</th>\n",
              "      <th>CALIDAD_FE</th>\n",
              "      <th>SEMAFORO</th>\n",
              "      <th>CONTAMINANTES</th>\n",
              "      <th>CUMPLE_CON_ALC</th>\n",
              "      <th>CUMPLE_CON_COND</th>\n",
              "      <th>CUMPLE_CON_SDT_ra</th>\n",
              "      <th>CUMPLE_CON_SDT_salin</th>\n",
              "      <th>CUMPLE_CON_FLUO</th>\n",
              "      <th>CUMPLE_CON_DUR</th>\n",
              "      <th>CUMPLE_CON_CF</th>\n",
              "      <th>CUMPLE_CON_NO3</th>\n",
              "      <th>CUMPLE_CON_AS</th>\n",
              "      <th>CUMPLE_CON_CD</th>\n",
              "      <th>CUMPLE_CON_CR</th>\n",
              "      <th>CUMPLE_CON_HG</th>\n",
              "      <th>CUMPLE_CON_PB</th>\n",
              "      <th>CUMPLE_CON_MN</th>\n",
              "      <th>CUMPLE_CON_FE</th>\n",
              "    </tr>\n",
              "  </thead>\n",
              "  <tbody>\n",
              "  </tbody>\n",
              "</table>\n",
              "</div>\n",
              "      <button class=\"colab-df-convert\" onclick=\"convertToInteractive('df-7d22da75-d0f9-4a97-8773-ede0520fa331')\"\n",
              "              title=\"Convert this dataframe to an interactive table.\"\n",
              "              style=\"display:none;\">\n",
              "        \n",
              "  <svg xmlns=\"http://www.w3.org/2000/svg\" height=\"24px\"viewBox=\"0 0 24 24\"\n",
              "       width=\"24px\">\n",
              "    <path d=\"M0 0h24v24H0V0z\" fill=\"none\"/>\n",
              "    <path d=\"M18.56 5.44l.94 2.06.94-2.06 2.06-.94-2.06-.94-.94-2.06-.94 2.06-2.06.94zm-11 1L8.5 8.5l.94-2.06 2.06-.94-2.06-.94L8.5 2.5l-.94 2.06-2.06.94zm10 10l.94 2.06.94-2.06 2.06-.94-2.06-.94-.94-2.06-.94 2.06-2.06.94z\"/><path d=\"M17.41 7.96l-1.37-1.37c-.4-.4-.92-.59-1.43-.59-.52 0-1.04.2-1.43.59L10.3 9.45l-7.72 7.72c-.78.78-.78 2.05 0 2.83L4 21.41c.39.39.9.59 1.41.59.51 0 1.02-.2 1.41-.59l7.78-7.78 2.81-2.81c.8-.78.8-2.07 0-2.86zM5.41 20L4 18.59l7.72-7.72 1.47 1.35L5.41 20z\"/>\n",
              "  </svg>\n",
              "      </button>\n",
              "      \n",
              "  <style>\n",
              "    .colab-df-container {\n",
              "      display:flex;\n",
              "      flex-wrap:wrap;\n",
              "      gap: 12px;\n",
              "    }\n",
              "\n",
              "    .colab-df-convert {\n",
              "      background-color: #E8F0FE;\n",
              "      border: none;\n",
              "      border-radius: 50%;\n",
              "      cursor: pointer;\n",
              "      display: none;\n",
              "      fill: #1967D2;\n",
              "      height: 32px;\n",
              "      padding: 0 0 0 0;\n",
              "      width: 32px;\n",
              "    }\n",
              "\n",
              "    .colab-df-convert:hover {\n",
              "      background-color: #E2EBFA;\n",
              "      box-shadow: 0px 1px 2px rgba(60, 64, 67, 0.3), 0px 1px 3px 1px rgba(60, 64, 67, 0.15);\n",
              "      fill: #174EA6;\n",
              "    }\n",
              "\n",
              "    [theme=dark] .colab-df-convert {\n",
              "      background-color: #3B4455;\n",
              "      fill: #D2E3FC;\n",
              "    }\n",
              "\n",
              "    [theme=dark] .colab-df-convert:hover {\n",
              "      background-color: #434B5C;\n",
              "      box-shadow: 0px 1px 3px 1px rgba(0, 0, 0, 0.15);\n",
              "      filter: drop-shadow(0px 1px 2px rgba(0, 0, 0, 0.3));\n",
              "      fill: #FFFFFF;\n",
              "    }\n",
              "  </style>\n",
              "\n",
              "      <script>\n",
              "        const buttonEl =\n",
              "          document.querySelector('#df-7d22da75-d0f9-4a97-8773-ede0520fa331 button.colab-df-convert');\n",
              "        buttonEl.style.display =\n",
              "          google.colab.kernel.accessAllowed ? 'block' : 'none';\n",
              "\n",
              "        async function convertToInteractive(key) {\n",
              "          const element = document.querySelector('#df-7d22da75-d0f9-4a97-8773-ede0520fa331');\n",
              "          const dataTable =\n",
              "            await google.colab.kernel.invokeFunction('convertToInteractive',\n",
              "                                                     [key], {});\n",
              "          if (!dataTable) return;\n",
              "\n",
              "          const docLinkHtml = 'Like what you see? Visit the ' +\n",
              "            '<a target=\"_blank\" href=https://colab.research.google.com/notebooks/data_table.ipynb>data table notebook</a>'\n",
              "            + ' to learn more about interactive tables.';\n",
              "          element.innerHTML = '';\n",
              "          dataTable['output_type'] = 'display_data';\n",
              "          await google.colab.output.renderOutput(dataTable, element);\n",
              "          const docLink = document.createElement('div');\n",
              "          docLink.innerHTML = docLinkHtml;\n",
              "          element.appendChild(docLink);\n",
              "        }\n",
              "      </script>\n",
              "    </div>\n",
              "  </div>\n",
              "  "
            ]
          },
          "metadata": {},
          "execution_count": 213
        }
      ]
    },
    {
      "cell_type": "code",
      "source": [
        "data_copy[data_copy == \"<2\"].count() / data_copy.count()"
      ],
      "metadata": {
        "colab": {
          "base_uri": "https://localhost:8080/",
          "height": 0
        },
        "id": "ejYNgPxdzOgy",
        "outputId": "384f3d4d-ad1b-47fc-bd9c-e66f072fbde1"
      },
      "execution_count": 243,
      "outputs": [
        {
          "output_type": "execute_result",
          "data": {
            "text/plain": [
              "LATITUD          0.0\n",
              "LONGITUD         0.0\n",
              "SEMAFORO         0.0\n",
              "SEMAFORO_Type    0.0\n",
              "dtype: float64"
            ]
          },
          "metadata": {},
          "execution_count": 243
        }
      ]
    },
    {
      "cell_type": "code",
      "source": [
        "data_copy = data[['LATITUD','LONGITUD','SEMAFORO']]\n",
        "data_copy = data_copy.dropna()\n",
        "data_copy['SEMAFORO'] = data_copy['SEMAFORO'].replace({'Verde':1,'Amarillo':2,'Rojo':3})\n",
        "data_copy.head()"
      ],
      "metadata": {
        "colab": {
          "base_uri": "https://localhost:8080/",
          "height": 206
        },
        "id": "gCiFwWo_xwKM",
        "outputId": "62a20789-1855-4f60-a86a-6c2c077a6264"
      },
      "execution_count": 244,
      "outputs": [
        {
          "output_type": "execute_result",
          "data": {
            "text/plain": [
              "    LATITUD   LONGITUD  SEMAFORO\n",
              "0  22.20887 -102.02210         1\n",
              "1  21.99958 -102.20075         1\n",
              "2  22.36685 -102.28801         3\n",
              "3  22.18435 -102.29449         1\n",
              "4  23.45138 -110.24480         3"
            ],
            "text/html": [
              "\n",
              "  <div id=\"df-bef75858-989f-4f1f-aada-08ec6ae8e0db\">\n",
              "    <div class=\"colab-df-container\">\n",
              "      <div>\n",
              "<style scoped>\n",
              "    .dataframe tbody tr th:only-of-type {\n",
              "        vertical-align: middle;\n",
              "    }\n",
              "\n",
              "    .dataframe tbody tr th {\n",
              "        vertical-align: top;\n",
              "    }\n",
              "\n",
              "    .dataframe thead th {\n",
              "        text-align: right;\n",
              "    }\n",
              "</style>\n",
              "<table border=\"1\" class=\"dataframe\">\n",
              "  <thead>\n",
              "    <tr style=\"text-align: right;\">\n",
              "      <th></th>\n",
              "      <th>LATITUD</th>\n",
              "      <th>LONGITUD</th>\n",
              "      <th>SEMAFORO</th>\n",
              "    </tr>\n",
              "  </thead>\n",
              "  <tbody>\n",
              "    <tr>\n",
              "      <th>0</th>\n",
              "      <td>22.20887</td>\n",
              "      <td>-102.02210</td>\n",
              "      <td>1</td>\n",
              "    </tr>\n",
              "    <tr>\n",
              "      <th>1</th>\n",
              "      <td>21.99958</td>\n",
              "      <td>-102.20075</td>\n",
              "      <td>1</td>\n",
              "    </tr>\n",
              "    <tr>\n",
              "      <th>2</th>\n",
              "      <td>22.36685</td>\n",
              "      <td>-102.28801</td>\n",
              "      <td>3</td>\n",
              "    </tr>\n",
              "    <tr>\n",
              "      <th>3</th>\n",
              "      <td>22.18435</td>\n",
              "      <td>-102.29449</td>\n",
              "      <td>1</td>\n",
              "    </tr>\n",
              "    <tr>\n",
              "      <th>4</th>\n",
              "      <td>23.45138</td>\n",
              "      <td>-110.24480</td>\n",
              "      <td>3</td>\n",
              "    </tr>\n",
              "  </tbody>\n",
              "</table>\n",
              "</div>\n",
              "      <button class=\"colab-df-convert\" onclick=\"convertToInteractive('df-bef75858-989f-4f1f-aada-08ec6ae8e0db')\"\n",
              "              title=\"Convert this dataframe to an interactive table.\"\n",
              "              style=\"display:none;\">\n",
              "        \n",
              "  <svg xmlns=\"http://www.w3.org/2000/svg\" height=\"24px\"viewBox=\"0 0 24 24\"\n",
              "       width=\"24px\">\n",
              "    <path d=\"M0 0h24v24H0V0z\" fill=\"none\"/>\n",
              "    <path d=\"M18.56 5.44l.94 2.06.94-2.06 2.06-.94-2.06-.94-.94-2.06-.94 2.06-2.06.94zm-11 1L8.5 8.5l.94-2.06 2.06-.94-2.06-.94L8.5 2.5l-.94 2.06-2.06.94zm10 10l.94 2.06.94-2.06 2.06-.94-2.06-.94-.94-2.06-.94 2.06-2.06.94z\"/><path d=\"M17.41 7.96l-1.37-1.37c-.4-.4-.92-.59-1.43-.59-.52 0-1.04.2-1.43.59L10.3 9.45l-7.72 7.72c-.78.78-.78 2.05 0 2.83L4 21.41c.39.39.9.59 1.41.59.51 0 1.02-.2 1.41-.59l7.78-7.78 2.81-2.81c.8-.78.8-2.07 0-2.86zM5.41 20L4 18.59l7.72-7.72 1.47 1.35L5.41 20z\"/>\n",
              "  </svg>\n",
              "      </button>\n",
              "      \n",
              "  <style>\n",
              "    .colab-df-container {\n",
              "      display:flex;\n",
              "      flex-wrap:wrap;\n",
              "      gap: 12px;\n",
              "    }\n",
              "\n",
              "    .colab-df-convert {\n",
              "      background-color: #E8F0FE;\n",
              "      border: none;\n",
              "      border-radius: 50%;\n",
              "      cursor: pointer;\n",
              "      display: none;\n",
              "      fill: #1967D2;\n",
              "      height: 32px;\n",
              "      padding: 0 0 0 0;\n",
              "      width: 32px;\n",
              "    }\n",
              "\n",
              "    .colab-df-convert:hover {\n",
              "      background-color: #E2EBFA;\n",
              "      box-shadow: 0px 1px 2px rgba(60, 64, 67, 0.3), 0px 1px 3px 1px rgba(60, 64, 67, 0.15);\n",
              "      fill: #174EA6;\n",
              "    }\n",
              "\n",
              "    [theme=dark] .colab-df-convert {\n",
              "      background-color: #3B4455;\n",
              "      fill: #D2E3FC;\n",
              "    }\n",
              "\n",
              "    [theme=dark] .colab-df-convert:hover {\n",
              "      background-color: #434B5C;\n",
              "      box-shadow: 0px 1px 3px 1px rgba(0, 0, 0, 0.15);\n",
              "      filter: drop-shadow(0px 1px 2px rgba(0, 0, 0, 0.3));\n",
              "      fill: #FFFFFF;\n",
              "    }\n",
              "  </style>\n",
              "\n",
              "      <script>\n",
              "        const buttonEl =\n",
              "          document.querySelector('#df-bef75858-989f-4f1f-aada-08ec6ae8e0db button.colab-df-convert');\n",
              "        buttonEl.style.display =\n",
              "          google.colab.kernel.accessAllowed ? 'block' : 'none';\n",
              "\n",
              "        async function convertToInteractive(key) {\n",
              "          const element = document.querySelector('#df-bef75858-989f-4f1f-aada-08ec6ae8e0db');\n",
              "          const dataTable =\n",
              "            await google.colab.kernel.invokeFunction('convertToInteractive',\n",
              "                                                     [key], {});\n",
              "          if (!dataTable) return;\n",
              "\n",
              "          const docLinkHtml = 'Like what you see? Visit the ' +\n",
              "            '<a target=\"_blank\" href=https://colab.research.google.com/notebooks/data_table.ipynb>data table notebook</a>'\n",
              "            + ' to learn more about interactive tables.';\n",
              "          element.innerHTML = '';\n",
              "          dataTable['output_type'] = 'display_data';\n",
              "          await google.colab.output.renderOutput(dataTable, element);\n",
              "          const docLink = document.createElement('div');\n",
              "          docLink.innerHTML = docLinkHtml;\n",
              "          element.appendChild(docLink);\n",
              "        }\n",
              "      </script>\n",
              "    </div>\n",
              "  </div>\n",
              "  "
            ]
          },
          "metadata": {},
          "execution_count": 244
        }
      ]
    },
    {
      "cell_type": "code",
      "source": [
        "clusters = range(2,15)\n",
        "inertias = [] \n",
        "labels = []\n",
        "for k in clusters:\n",
        "    m = KMeans(n_clusters=k)\n",
        "    m.fit(data_copy)\n",
        "    labels.append(m.labels_)\n",
        "    inertias.append(m.inertia_)"
      ],
      "metadata": {
        "id": "FJd7SMmgyXad"
      },
      "execution_count": 221,
      "outputs": []
    },
    {
      "cell_type": "code",
      "source": [
        "plt.plot(clusters, inertias, 'bo-', markersize=8)\n",
        "plt.show()"
      ],
      "metadata": {
        "colab": {
          "base_uri": "https://localhost:8080/",
          "height": 265
        },
        "id": "EO7UxY_Yye6V",
        "outputId": "1c1d8e3d-2b4f-47cd-9bc7-d2d952b7171c"
      },
      "execution_count": 225,
      "outputs": [
        {
          "output_type": "display_data",
          "data": {
            "text/plain": [
              "<Figure size 432x288 with 1 Axes>"
            ],
            "image/png": "[encoded data removed]"
          },
          "metadata": {
            "needs_background": "light"
          }
        }
      ]
    },
    {
      "cell_type": "code",
      "source": [
        "from sklearn.metrics import silhouette_score\n",
        "\n",
        "ss = []\n",
        "for l in labels:\n",
        "    ss.append(silhouette_score(data_copy, labels=l))"
      ],
      "metadata": {
        "id": "_Moat2NKyoXv"
      },
      "execution_count": 226,
      "outputs": []
    },
    {
      "cell_type": "code",
      "source": [
        "plt.plot(clusters,ss)"
      ],
      "metadata": {
        "colab": {
          "base_uri": "https://localhost:8080/",
          "height": 282
        },
        "id": "KAdiw6UuytyP",
        "outputId": "80fa030a-a55a-47ae-d084-399298747274"
      },
      "execution_count": 227,
      "outputs": [
        {
          "output_type": "execute_result",
          "data": {
            "text/plain": [
              "[<matplotlib.lines.Line2D at 0x7f065d301b50>]"
            ]
          },
          "metadata": {},
          "execution_count": 227
        },
        {
          "output_type": "display_data",
          "data": {
            "text/plain": [
              "<Figure size 432x288 with 1 Axes>"
            ],
            "image/png": "[encoded data removed]"
          },
          "metadata": {
            "needs_background": "light"
          }
        }
      ]
    },
    {
      "cell_type": "code",
      "source": [
        "kmodelo = KMeans(n_clusters=7)\n",
        "kmodelo.fit(data_copy)\n",
        "centroide = kmodelo.cluster_centers_\n",
        "centroide"
      ],
      "metadata": {
        "colab": {
          "base_uri": "https://localhost:8080/",
          "height": 0
        },
        "id": "Robn4TuUyx3Z",
        "outputId": "865dc89d-fadc-452e-db10-7a9395764f65"
      },
      "execution_count": 249,
      "outputs": [
        {
          "output_type": "execute_result",
          "data": {
            "text/plain": [
              "array([[  19.13256277,  -98.43223172,    1.64117647,    0.64117647],\n",
              "       [  25.28486143, -103.50138428,    2.37656904,    1.37656904],\n",
              "       [  29.3734628 , -110.30176434,    1.70873786,    0.70873786],\n",
              "       [  19.68862526,  -89.98552806,    1.70886076,    0.70886076],\n",
              "       [  24.64584432, -109.07278654,    1.91139241,    0.91139241],\n",
              "       [  21.44959177, -101.78433665,    2.01492537,    1.01492537],\n",
              "       [  31.59499227, -115.20662469,    2.05882353,    1.05882353]])"
            ]
          },
          "metadata": {},
          "execution_count": 249
        }
      ]
    },
    {
      "cell_type": "code",
      "source": [],
      "metadata": {
        "colab": {
          "base_uri": "https://localhost:8080/",
          "height": 165
        },
        "id": "dJEJMkR85Fwn",
        "outputId": "38e25d20-1029-4a17-9e86-e64b0814cd51"
      },
      "execution_count": 293,
      "outputs": [
        {
          "output_type": "error",
          "ename": "NameError",
          "evalue": "ignored",
          "traceback": [
            "\u001b[0;31m---------------------------------------------------------------------------\u001b[0m",
            "\u001b[0;31mNameError\u001b[0m                                 Traceback (most recent call last)",
            "\u001b[0;32m<ipython-input-293-525f1533a3d0>\u001b[0m in \u001b[0;36m<module>\u001b[0;34m\u001b[0m\n\u001b[0;32m----> 1\u001b[0;31m \u001b[0mworld\u001b[0m\u001b[0;34m.\u001b[0m\u001b[0mname\u001b[0m\u001b[0;34m.\u001b[0m\u001b[0munique\u001b[0m\u001b[0;34m\u001b[0m\u001b[0;34m\u001b[0m\u001b[0m\n\u001b[0m",
            "\u001b[0;31mNameError\u001b[0m: name 'world' is not defined"
          ]
        }
      ]
    },
    {
      "cell_type": "code",
      "source": [
        "plt.scatter(data_copy.LONGITUD, data_copy.LATITUD)\n",
        "for i in range(len(centroide)):    \n",
        "    plt.scatter(centroide[i][1],centroide[i][0], label = i, s= 200)\n",
        "plt.show()"
      ],
      "metadata": {
        "colab": {
          "base_uri": "https://localhost:8080/",
          "height": 265
        },
        "id": "gdqb_t3py7mR",
        "outputId": "f4f88413-551b-4671-8c63-fe0f6538f2b9"
      },
      "execution_count": 250,
      "outputs": [
        {
          "output_type": "display_data",
          "data": {
            "text/plain": [
              "<Figure size 432x288 with 1 Axes>"
            ],
            "image/png": "[encoded data removed]"
          },
          "metadata": {
            "needs_background": "light"
          }
        }
      ]
    },
    {
      "cell_type": "code",
      "source": [
        "data_copy\n",
        "data_copy[\"COORDENADAS\"] = list(zip(data_copy.LONGITUD, data_copy.LATITUD))\n",
        "data_copy[\"COORDENADAS\"] = data_copy[\"COORDENADAS\"].apply(Point)\n",
        "data_copy.head()"
      ],
      "metadata": {
        "colab": {
          "base_uri": "https://localhost:8080/",
          "height": 206
        },
        "id": "1zPfQdgW8A_G",
        "outputId": "fcbedefa-c5e0-4beb-f3de-462c2f9d2f3a"
      },
      "execution_count": 294,
      "outputs": [
        {
          "output_type": "execute_result",
          "data": {
            "text/plain": [
              "    LATITUD   LONGITUD  SEMAFORO  SEMAFORO_Type                  COORDENADAS\n",
              "0  22.20887 -102.02210         1              0   POINT (-102.0221 22.20887)\n",
              "1  21.99958 -102.20075         1              0  POINT (-102.20075 21.99958)\n",
              "2  22.36685 -102.28801         3              2  POINT (-102.28801 22.36685)\n",
              "3  22.18435 -102.29449         1              0  POINT (-102.29449 22.18435)\n",
              "4  23.45138 -110.24480         3              2   POINT (-110.2448 23.45138)"
            ],
            "text/html": [
              "\n",
              "  <div id=\"df-3867f676-356c-487b-9f66-da9c40f68a4a\">\n",
              "    <div class=\"colab-df-container\">\n",
              "      <div>\n",
              "<style scoped>\n",
              "    .dataframe tbody tr th:only-of-type {\n",
              "        vertical-align: middle;\n",
              "    }\n",
              "\n",
              "    .dataframe tbody tr th {\n",
              "        vertical-align: top;\n",
              "    }\n",
              "\n",
              "    .dataframe thead th {\n",
              "        text-align: right;\n",
              "    }\n",
              "</style>\n",
              "<table border=\"1\" class=\"dataframe\">\n",
              "  <thead>\n",
              "    <tr style=\"text-align: right;\">\n",
              "      <th></th>\n",
              "      <th>LATITUD</th>\n",
              "      <th>LONGITUD</th>\n",
              "      <th>SEMAFORO</th>\n",
              "      <th>SEMAFORO_Type</th>\n",
              "      <th>COORDENADAS</th>\n",
              "    </tr>\n",
              "  </thead>\n",
              "  <tbody>\n",
              "    <tr>\n",
              "      <th>0</th>\n",
              "      <td>22.20887</td>\n",
              "      <td>-102.02210</td>\n",
              "      <td>1</td>\n",
              "      <td>0</td>\n",
              "      <td>POINT (-102.0221 22.20887)</td>\n",
              "    </tr>\n",
              "    <tr>\n",
              "      <th>1</th>\n",
              "      <td>21.99958</td>\n",
              "      <td>-102.20075</td>\n",
              "      <td>1</td>\n",
              "      <td>0</td>\n",
              "      <td>POINT (-102.20075 21.99958)</td>\n",
              "    </tr>\n",
              "    <tr>\n",
              "      <th>2</th>\n",
              "      <td>22.36685</td>\n",
              "      <td>-102.28801</td>\n",
              "      <td>3</td>\n",
              "      <td>2</td>\n",
              "      <td>POINT (-102.28801 22.36685)</td>\n",
              "    </tr>\n",
              "    <tr>\n",
              "      <th>3</th>\n",
              "      <td>22.18435</td>\n",
              "      <td>-102.29449</td>\n",
              "      <td>1</td>\n",
              "      <td>0</td>\n",
              "      <td>POINT (-102.29449 22.18435)</td>\n",
              "    </tr>\n",
              "    <tr>\n",
              "      <th>4</th>\n",
              "      <td>23.45138</td>\n",
              "      <td>-110.24480</td>\n",
              "      <td>3</td>\n",
              "      <td>2</td>\n",
              "      <td>POINT (-110.2448 23.45138)</td>\n",
              "    </tr>\n",
              "  </tbody>\n",
              "</table>\n",
              "</div>\n",
              "      <button class=\"colab-df-convert\" onclick=\"convertToInteractive('df-3867f676-356c-487b-9f66-da9c40f68a4a')\"\n",
              "              title=\"Convert this dataframe to an interactive table.\"\n",
              "              style=\"display:none;\">\n",
              "        \n",
              "  <svg xmlns=\"http://www.w3.org/2000/svg\" height=\"24px\"viewBox=\"0 0 24 24\"\n",
              "       width=\"24px\">\n",
              "    <path d=\"M0 0h24v24H0V0z\" fill=\"none\"/>\n",
              "    <path d=\"M18.56 5.44l.94 2.06.94-2.06 2.06-.94-2.06-.94-.94-2.06-.94 2.06-2.06.94zm-11 1L8.5 8.5l.94-2.06 2.06-.94-2.06-.94L8.5 2.5l-.94 2.06-2.06.94zm10 10l.94 2.06.94-2.06 2.06-.94-2.06-.94-.94-2.06-.94 2.06-2.06.94z\"/><path d=\"M17.41 7.96l-1.37-1.37c-.4-.4-.92-.59-1.43-.59-.52 0-1.04.2-1.43.59L10.3 9.45l-7.72 7.72c-.78.78-.78 2.05 0 2.83L4 21.41c.39.39.9.59 1.41.59.51 0 1.02-.2 1.41-.59l7.78-7.78 2.81-2.81c.8-.78.8-2.07 0-2.86zM5.41 20L4 18.59l7.72-7.72 1.47 1.35L5.41 20z\"/>\n",
              "  </svg>\n",
              "      </button>\n",
              "      \n",
              "  <style>\n",
              "    .colab-df-container {\n",
              "      display:flex;\n",
              "      flex-wrap:wrap;\n",
              "      gap: 12px;\n",
              "    }\n",
              "\n",
              "    .colab-df-convert {\n",
              "      background-color: #E8F0FE;\n",
              "      border: none;\n",
              "      border-radius: 50%;\n",
              "      cursor: pointer;\n",
              "      display: none;\n",
              "      fill: #1967D2;\n",
              "      height: 32px;\n",
              "      padding: 0 0 0 0;\n",
              "      width: 32px;\n",
              "    }\n",
              "\n",
              "    .colab-df-convert:hover {\n",
              "      background-color: #E2EBFA;\n",
              "      box-shadow: 0px 1px 2px rgba(60, 64, 67, 0.3), 0px 1px 3px 1px rgba(60, 64, 67, 0.15);\n",
              "      fill: #174EA6;\n",
              "    }\n",
              "\n",
              "    [theme=dark] .colab-df-convert {\n",
              "      background-color: #3B4455;\n",
              "      fill: #D2E3FC;\n",
              "    }\n",
              "\n",
              "    [theme=dark] .colab-df-convert:hover {\n",
              "      background-color: #434B5C;\n",
              "      box-shadow: 0px 1px 3px 1px rgba(0, 0, 0, 0.15);\n",
              "      filter: drop-shadow(0px 1px 2px rgba(0, 0, 0, 0.3));\n",
              "      fill: #FFFFFF;\n",
              "    }\n",
              "  </style>\n",
              "\n",
              "      <script>\n",
              "        const buttonEl =\n",
              "          document.querySelector('#df-3867f676-356c-487b-9f66-da9c40f68a4a button.colab-df-convert');\n",
              "        buttonEl.style.display =\n",
              "          google.colab.kernel.accessAllowed ? 'block' : 'none';\n",
              "\n",
              "        async function convertToInteractive(key) {\n",
              "          const element = document.querySelector('#df-3867f676-356c-487b-9f66-da9c40f68a4a');\n",
              "          const dataTable =\n",
              "            await google.colab.kernel.invokeFunction('convertToInteractive',\n",
              "                                                     [key], {});\n",
              "          if (!dataTable) return;\n",
              "\n",
              "          const docLinkHtml = 'Like what you see? Visit the ' +\n",
              "            '<a target=\"_blank\" href=https://colab.research.google.com/notebooks/data_table.ipynb>data table notebook</a>'\n",
              "            + ' to learn more about interactive tables.';\n",
              "          element.innerHTML = '';\n",
              "          dataTable['output_type'] = 'display_data';\n",
              "          await google.colab.output.renderOutput(dataTable, element);\n",
              "          const docLink = document.createElement('div');\n",
              "          docLink.innerHTML = docLinkHtml;\n",
              "          element.appendChild(docLink);\n",
              "        }\n",
              "      </script>\n",
              "    </div>\n",
              "  </div>\n",
              "  "
            ]
          },
          "metadata": {},
          "execution_count": 294
        }
      ]
    },
    {
      "cell_type": "code",
      "source": [
        "puntos = gpd.GeoDataFrame(data_copy, geometry=\"COORDENADAS\")\n",
        "\n",
        "world = gpd.read_file(gpd.datasets.get_path(\"naturalearth_lowres\"))\n",
        "\n",
        "world = world.set_index(\"iso_a3\")\n",
        "world.name.unique()\n",
        "fig, gax = plt.subplots(figsize=(10,10))\n",
        "\n",
        "\n",
        "world.query(\"name == 'Mexico'\").plot(ax=gax, edgecolor='black', cmap='Blues')\n",
        "\n",
        "gax.set_xlabel('LATITUD')\n",
        "gax.set_ylabel('LONGITUD')\n",
        "\n",
        "gax.spines['top'].set_visible(False)\n",
        "gax.spines['right'].set_visible(False)\n",
        "\n",
        "puntos .plot(ax=gax, color='red', alpha = 0.5)\n",
        "puntos"
      ],
      "metadata": {
        "colab": {
          "base_uri": "https://localhost:8080/",
          "height": 804
        },
        "id": "1BlSto8n8PPr",
        "outputId": "addae8d8-7e4a-4756-d8bb-e5ca6f539c7e"
      },
      "execution_count": 313,
      "outputs": [
        {
          "output_type": "execute_result",
          "data": {
            "text/plain": [
              "       LATITUD   LONGITUD  SEMAFORO  SEMAFORO_Type  \\\n",
              "0     22.20887 -102.02210         1              0   \n",
              "1     21.99958 -102.20075         1              0   \n",
              "2     22.36685 -102.28801         3              2   \n",
              "3     22.18435 -102.29449         1              0   \n",
              "4     23.45138 -110.24480         3              2   \n",
              "...        ...        ...       ...            ...   \n",
              "1063  24.76036  -99.54191         3              2   \n",
              "1064  24.78280  -99.70099         3              2   \n",
              "1065  25.55197  -99.82249         3              2   \n",
              "1066  24.80118 -100.32683         1              0   \n",
              "1067  25.09380 -100.73302         1              0   \n",
              "\n",
              "                      COORDENADAS  \n",
              "0     POINT (-102.02210 22.20887)  \n",
              "1     POINT (-102.20075 21.99958)  \n",
              "2     POINT (-102.28801 22.36685)  \n",
              "3     POINT (-102.29449 22.18435)  \n",
              "4     POINT (-110.24480 23.45138)  \n",
              "...                           ...  \n",
              "1063   POINT (-99.54191 24.76036)  \n",
              "1064   POINT (-99.70099 24.78280)  \n",
              "1065   POINT (-99.82249 25.55197)  \n",
              "1066  POINT (-100.32683 24.80118)  \n",
              "1067  POINT (-100.73302 25.09380)  \n",
              "\n",
              "[1068 rows x 5 columns]"
            ],
            "text/html": [
              "\n",
              "  <div id=\"df-bddac96c-db2e-4575-823e-77da04bb2f06\">\n",
              "    <div class=\"colab-df-container\">\n",
              "      <div>\n",
              "<style scoped>\n",
              "    .dataframe tbody tr th:only-of-type {\n",
              "        vertical-align: middle;\n",
              "    }\n",
              "\n",
              "    .dataframe tbody tr th {\n",
              "        vertical-align: top;\n",
              "    }\n",
              "\n",
              "    .dataframe thead th {\n",
              "        text-align: right;\n",
              "    }\n",
              "</style>\n",
              "<table border=\"1\" class=\"dataframe\">\n",
              "  <thead>\n",
              "    <tr style=\"text-align: right;\">\n",
              "      <th></th>\n",
              "      <th>LATITUD</th>\n",
              "      <th>LONGITUD</th>\n",
              "      <th>SEMAFORO</th>\n",
              "      <th>SEMAFORO_Type</th>\n",
              "      <th>COORDENADAS</th>\n",
              "    </tr>\n",
              "  </thead>\n",
              "  <tbody>\n",
              "    <tr>\n",
              "      <th>0</th>\n",
              "      <td>22.20887</td>\n",
              "      <td>-102.02210</td>\n",
              "      <td>1</td>\n",
              "      <td>0</td>\n",
              "      <td>POINT (-102.02210 22.20887)</td>\n",
              "    </tr>\n",
              "    <tr>\n",
              "      <th>1</th>\n",
              "      <td>21.99958</td>\n",
              "      <td>-102.20075</td>\n",
              "      <td>1</td>\n",
              "      <td>0</td>\n",
              "      <td>POINT (-102.20075 21.99958)</td>\n",
              "    </tr>\n",
              "    <tr>\n",
              "      <th>2</th>\n",
              "      <td>22.36685</td>\n",
              "      <td>-102.28801</td>\n",
              "      <td>3</td>\n",
              "      <td>2</td>\n",
              "      <td>POINT (-102.28801 22.36685)</td>\n",
              "    </tr>\n",
              "    <tr>\n",
              "      <th>3</th>\n",
              "      <td>22.18435</td>\n",
              "      <td>-102.29449</td>\n",
              "      <td>1</td>\n",
              "      <td>0</td>\n",
              "      <td>POINT (-102.29449 22.18435)</td>\n",
              "    </tr>\n",
              "    <tr>\n",
              "      <th>4</th>\n",
              "      <td>23.45138</td>\n",
              "      <td>-110.24480</td>\n",
              "      <td>3</td>\n",
              "      <td>2</td>\n",
              "      <td>POINT (-110.24480 23.45138)</td>\n",
              "    </tr>\n",
              "    <tr>\n",
              "      <th>...</th>\n",
              "      <td>...</td>\n",
              "      <td>...</td>\n",
              "      <td>...</td>\n",
              "      <td>...</td>\n",
              "      <td>...</td>\n",
              "    </tr>\n",
              "    <tr>\n",
              "      <th>1063</th>\n",
              "      <td>24.76036</td>\n",
              "      <td>-99.54191</td>\n",
              "      <td>3</td>\n",
              "      <td>2</td>\n",
              "      <td>POINT (-99.54191 24.76036)</td>\n",
              "    </tr>\n",
              "    <tr>\n",
              "      <th>1064</th>\n",
              "      <td>24.78280</td>\n",
              "      <td>-99.70099</td>\n",
              "      <td>3</td>\n",
              "      <td>2</td>\n",
              "      <td>POINT (-99.70099 24.78280)</td>\n",
              "    </tr>\n",
              "    <tr>\n",
              "      <th>1065</th>\n",
              "      <td>25.55197</td>\n",
              "      <td>-99.82249</td>\n",
              "      <td>3</td>\n",
              "      <td>2</td>\n",
              "      <td>POINT (-99.82249 25.55197)</td>\n",
              "    </tr>\n",
              "    <tr>\n",
              "      <th>1066</th>\n",
              "      <td>24.80118</td>\n",
              "      <td>-100.32683</td>\n",
              "      <td>1</td>\n",
              "      <td>0</td>\n",
              "      <td>POINT (-100.32683 24.80118)</td>\n",
              "    </tr>\n",
              "    <tr>\n",
              "      <th>1067</th>\n",
              "      <td>25.09380</td>\n",
              "      <td>-100.73302</td>\n",
              "      <td>1</td>\n",
              "      <td>0</td>\n",
              "      <td>POINT (-100.73302 25.09380)</td>\n",
              "    </tr>\n",
              "  </tbody>\n",
              "</table>\n",
              "<p>1068 rows × 5 columns</p>\n",
              "</div>\n",
              "      <button class=\"colab-df-convert\" onclick=\"convertToInteractive('df-bddac96c-db2e-4575-823e-77da04bb2f06')\"\n",
              "              title=\"Convert this dataframe to an interactive table.\"\n",
              "              style=\"display:none;\">\n",
              "        \n",
              "  <svg xmlns=\"http://www.w3.org/2000/svg\" height=\"24px\"viewBox=\"0 0 24 24\"\n",
              "       width=\"24px\">\n",
              "    <path d=\"M0 0h24v24H0V0z\" fill=\"none\"/>\n",
              "    <path d=\"M18.56 5.44l.94 2.06.94-2.06 2.06-.94-2.06-.94-.94-2.06-.94 2.06-2.06.94zm-11 1L8.5 8.5l.94-2.06 2.06-.94-2.06-.94L8.5 2.5l-.94 2.06-2.06.94zm10 10l.94 2.06.94-2.06 2.06-.94-2.06-.94-.94-2.06-.94 2.06-2.06.94z\"/><path d=\"M17.41 7.96l-1.37-1.37c-.4-.4-.92-.59-1.43-.59-.52 0-1.04.2-1.43.59L10.3 9.45l-7.72 7.72c-.78.78-.78 2.05 0 2.83L4 21.41c.39.39.9.59 1.41.59.51 0 1.02-.2 1.41-.59l7.78-7.78 2.81-2.81c.8-.78.8-2.07 0-2.86zM5.41 20L4 18.59l7.72-7.72 1.47 1.35L5.41 20z\"/>\n",
              "  </svg>\n",
              "      </button>\n",
              "      \n",
              "  <style>\n",
              "    .colab-df-container {\n",
              "      display:flex;\n",
              "      flex-wrap:wrap;\n",
              "      gap: 12px;\n",
              "    }\n",
              "\n",
              "    .colab-df-convert {\n",
              "      background-color: #E8F0FE;\n",
              "      border: none;\n",
              "      border-radius: 50%;\n",
              "      cursor: pointer;\n",
              "      display: none;\n",
              "      fill: #1967D2;\n",
              "      height: 32px;\n",
              "      padding: 0 0 0 0;\n",
              "      width: 32px;\n",
              "    }\n",
              "\n",
              "    .colab-df-convert:hover {\n",
              "      background-color: #E2EBFA;\n",
              "      box-shadow: 0px 1px 2px rgba(60, 64, 67, 0.3), 0px 1px 3px 1px rgba(60, 64, 67, 0.15);\n",
              "      fill: #174EA6;\n",
              "    }\n",
              "\n",
              "    [theme=dark] .colab-df-convert {\n",
              "      background-color: #3B4455;\n",
              "      fill: #D2E3FC;\n",
              "    }\n",
              "\n",
              "    [theme=dark] .colab-df-convert:hover {\n",
              "      background-color: #434B5C;\n",
              "      box-shadow: 0px 1px 3px 1px rgba(0, 0, 0, 0.15);\n",
              "      filter: drop-shadow(0px 1px 2px rgba(0, 0, 0, 0.3));\n",
              "      fill: #FFFFFF;\n",
              "    }\n",
              "  </style>\n",
              "\n",
              "      <script>\n",
              "        const buttonEl =\n",
              "          document.querySelector('#df-bddac96c-db2e-4575-823e-77da04bb2f06 button.colab-df-convert');\n",
              "        buttonEl.style.display =\n",
              "          google.colab.kernel.accessAllowed ? 'block' : 'none';\n",
              "\n",
              "        async function convertToInteractive(key) {\n",
              "          const element = document.querySelector('#df-bddac96c-db2e-4575-823e-77da04bb2f06');\n",
              "          const dataTable =\n",
              "            await google.colab.kernel.invokeFunction('convertToInteractive',\n",
              "                                                     [key], {});\n",
              "          if (!dataTable) return;\n",
              "\n",
              "          const docLinkHtml = 'Like what you see? Visit the ' +\n",
              "            '<a target=\"_blank\" href=https://colab.research.google.com/notebooks/data_table.ipynb>data table notebook</a>'\n",
              "            + ' to learn more about interactive tables.';\n",
              "          element.innerHTML = '';\n",
              "          dataTable['output_type'] = 'display_data';\n",
              "          await google.colab.output.renderOutput(dataTable, element);\n",
              "          const docLink = document.createElement('div');\n",
              "          docLink.innerHTML = docLinkHtml;\n",
              "          element.appendChild(docLink);\n",
              "        }\n",
              "      </script>\n",
              "    </div>\n",
              "  </div>\n",
              "  "
            ]
          },
          "metadata": {},
          "execution_count": 313
        },
        {
          "output_type": "display_data",
          "data": {
            "text/plain": [
              "<Figure size 720x720 with 1 Axes>"
            ],
            "image/png": "[encoded data removed]"
          },
          "metadata": {
            "needs_background": "light"
          }
        }
      ]
    },
    {
      "cell_type": "code",
      "source": [
        "plt.figure(figsize=(12,8)) \n",
        "sns.heatmap(data_copy.corr(), annot=True, cmap='Dark2_r', linewidths = 2)\n",
        "plt.show()"
      ],
      "metadata": {
        "colab": {
          "base_uri": "https://localhost:8080/",
          "height": 487
        },
        "id": "YeGNhbnn3Pix",
        "outputId": "cd1ee558-55d8-4981-a8e2-be593ea70c50"
      },
      "execution_count": 265,
      "outputs": [
        {
          "output_type": "display_data",
          "data": {
            "text/plain": [
              "<Figure size 864x576 with 2 Axes>"
            ],
            "image/png": "[encoded data removed]"
          },
          "metadata": {
            "needs_background": "light"
          }
        }
      ]
    },
    {
      "cell_type": "code",
      "source": [],
      "metadata": {
        "id": "DI_17Fgv4jn8"
      },
      "execution_count": 314,
      "outputs": []
    },
    {
      "cell_type": "code",
      "source": [],
      "metadata": {
        "id": "dqzpAbOC4I4R"
      },
      "execution_count": null,
      "outputs": []
    },
    {
      "cell_type": "code",
      "source": [
        "categorias = preprocessing.LabelEncoder()\n",
        "categorias.fit(data['SEMAFORO'])\n",
        "categorias_name_mapping = dict(zip(categorias.classes_, categorias.transform(categorias.classes_)))\n",
        "print(categorias_name_mapping)\n",
        "\n",
        "# Encode labels in column 'species'.\n",
        "data['SEMAFORO']= categorias.fit_transform(data['SEMAFORO'])\n",
        "data['SEMAFORO'].unique"
      ],
      "metadata": {
        "colab": {
          "base_uri": "https://localhost:8080/",
          "height": 0
        },
        "id": "qLGrtr0d2OCU",
        "outputId": "afc6e58a-c81a-426d-83e7-c17de0505e35"
      },
      "execution_count": 255,
      "outputs": [
        {
          "output_type": "stream",
          "name": "stdout",
          "text": [
            "{'Amarillo': 0, 'Rojo': 1, 'Verde': 2}\n"
          ]
        },
        {
          "output_type": "execute_result",
          "data": {
            "text/plain": [
              "<bound method Series.unique of 0       2\n",
              "1       2\n",
              "2       1\n",
              "3       2\n",
              "4       1\n",
              "       ..\n",
              "1063    1\n",
              "1064    1\n",
              "1065    1\n",
              "1066    2\n",
              "1067    2\n",
              "Name: SEMAFORO, Length: 1068, dtype: int64>"
            ]
          },
          "metadata": {},
          "execution_count": 255
        }
      ]
    },
    {
      "cell_type": "code",
      "source": [
        "Datos = data.select_dtypes(include=[\"float\"])\n",
        "X = Datos.columns \n",
        "X.shape"
      ],
      "metadata": {
        "colab": {
          "base_uri": "https://localhost:8080/",
          "height": 0
        },
        "id": "T-m7aA1U2pwv",
        "outputId": "c2db2281-04f9-4a55-8a2a-f50c3e71d2ad"
      },
      "execution_count": 257,
      "outputs": [
        {
          "output_type": "execute_result",
          "data": {
            "text/plain": [
              "(5,)"
            ]
          },
          "metadata": {},
          "execution_count": 257
        }
      ]
    },
    {
      "cell_type": "code",
      "source": [
        "fig, axes = plt.subplots(6, 3, figsize=(16, 16))\n",
        "\n",
        "for name, ax in zip(X, axes.flatten()):\n",
        "    sns.boxplot(data=data[name], orient='v', ax=ax).set(xlabel=name)"
      ],
      "metadata": {
        "colab": {
          "base_uri": "https://localhost:8080/",
          "height": 918
        },
        "id": "_SQJq-MV204p",
        "outputId": "4c83c4cd-5412-48cf-8755-532988f72d4a"
      },
      "execution_count": 258,
      "outputs": [
        {
          "output_type": "display_data",
          "data": {
            "text/plain": [
              "<Figure size 1152x1152 with 18 Axes>"
            ],
            "image/png": "[encoded data removed]"
          },
          "metadata": {
            "needs_background": "light"
          }
        }
      ]
    },
    {
      "cell_type": "code",
      "source": [
        "Relacion = Datos.corr()\n",
        "sns.heatmap(Relacion)"
      ],
      "metadata": {
        "colab": {
          "base_uri": "https://localhost:8080/",
          "height": 363
        },
        "id": "j6seW7R427aQ",
        "outputId": "ba890500-79af-47ff-fbdd-0e32708593c7"
      },
      "execution_count": 260,
      "outputs": [
        {
          "output_type": "execute_result",
          "data": {
            "text/plain": [
              "<matplotlib.axes._subplots.AxesSubplot at 0x7f065cbc8390>"
            ]
          },
          "metadata": {},
          "execution_count": 260
        },
        {
          "output_type": "display_data",
          "data": {
            "text/plain": [
              "<Figure size 432x288 with 2 Axes>"
            ],
            "image/png": "[encoded data removed]"
          },
          "metadata": {
            "needs_background": "light"
          }
        }
      ]
    },
    {
      "cell_type": "markdown",
      "source": [
        " la zona norte es la que tiene mayor industria, y tiene mayor actividad agrícola puede ser que haya más desperdicio y se contamine con mayor facilidad el agua"
      ],
      "metadata": {
        "id": "sfbhFX5P_K8J"
      }
    }
  ]
}
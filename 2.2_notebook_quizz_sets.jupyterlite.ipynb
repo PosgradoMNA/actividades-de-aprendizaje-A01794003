{
  "metadata": {
    "kernelspec": {
      "name": "python",
      "display_name": "Pyolite",
      "language": "python"
    },
    "language_info": {
      "codemirror_mode": {
        "name": "python",
        "version": 3
      },
      "file_extension": ".py",
      "mimetype": "text/x-python",
      "name": "python",
      "nbconvert_exporter": "python",
      "pygments_lexer": "ipython3",
      "version": "3.8"
    }
  },
  "nbformat_minor": 4,
  "nbformat": 4,
  "cells": [
    {
      "cell_type": "markdown",
      "source": "<center>\n    <img src=\"https://cf-courses-data.s3.us.cloud-object-storage.appdomain.cloud/IBMDeveloperSkillsNetwork-PY0101EN-SkillsNetwork/IDSNlogo.png\" width=\"300\" alt=\"cognitiveclass.ai logo\"  />\n</center>\n",
      "metadata": {}
    },
    {
      "cell_type": "markdown",
      "source": "<h3>Cast a List to a Set </h3>\n",
      "metadata": {}
    },
    {
      "cell_type": "markdown",
      "source": "Cast the following list to a set:\n",
      "metadata": {}
    },
    {
      "cell_type": "code",
      "source": "['A','B','C','A','B','C']\n",
      "metadata": {
        "trusted": true
      },
      "execution_count": 1,
      "outputs": [
        {
          "execution_count": 1,
          "output_type": "execute_result",
          "data": {
            "text/plain": "['A', 'B', 'C', 'A', 'B', 'C']"
          },
          "metadata": {}
        }
      ]
    },
    {
      "cell_type": "markdown",
      "source": "<details><summary>Click here for the solution</summary>\n\n```python\nset(['A','B','C','A','B','C'])\n\n```\n\n</details>\n",
      "metadata": {}
    },
    {
      "cell_type": "markdown",
      "source": "<h3>Add an Element to the Set</h3> \n",
      "metadata": {}
    },
    {
      "cell_type": "markdown",
      "source": "Add the string  <code>'D'</code> to the set S.\n",
      "metadata": {}
    },
    {
      "cell_type": "code",
      "source": "S={'A','B','C'}\n",
      "metadata": {
        "trusted": true
      },
      "execution_count": 2,
      "outputs": []
    },
    {
      "cell_type": "markdown",
      "source": "<details><summary>Click here for the solution</summary>\n\n```python\nS.add('D')\nS\n\n```\n\n</details>\n",
      "metadata": {}
    },
    {
      "cell_type": "markdown",
      "source": "<h3>Intersection of Sets</h3> \n",
      "metadata": {}
    },
    {
      "cell_type": "markdown",
      "source": "Find the intersection of set <code>A</code> and <code>B</code>.\n",
      "metadata": {}
    },
    {
      "cell_type": "code",
      "source": "A={1,2,3,4,5}\nB={1,3,9, 12}\n\n",
      "metadata": {
        "trusted": true
      },
      "execution_count": 3,
      "outputs": []
    },
    {
      "cell_type": "markdown",
      "source": "<details><summary>Click here for the solution</summary>\n\n```Python\nA & B\n\n```\n\nOR\n\n```Python\nA.intersection(B)\n```\n\n</details>\n",
      "metadata": {}
    },
    {
      "cell_type": "markdown",
      "source": "<hr>\n\n<h3 align=\"center\"> © IBM Corporation 2020. All rights reserved. <h3/>\n",
      "metadata": {}
    }
  ]
}